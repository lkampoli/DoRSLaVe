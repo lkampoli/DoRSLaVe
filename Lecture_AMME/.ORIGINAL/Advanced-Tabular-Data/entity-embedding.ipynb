{
  "cells": [
    {
      "cell_type": "raw",
      "metadata": {},
      "source": [
        "---\n",
        "title: Entity Embedding\n",
        "---"
      ],
      "id": "846da474"
    },
    {
      "cell_type": "code",
      "metadata": {},
      "source": [
        "#| echo: false\n",
        "#| warning: false\n",
        "import os\n",
        "\n",
        "# os.environ[\"KERAS_BACKEND\"] = \"torch\"\n",
        "os.environ[\"CUDA_VISIBLE_DEVICES\"] = \"\"\n",
        "\n",
        "import torch\n",
        "\n",
        "torch.set_num_threads(1)\n",
        "\n",
        "import matplotlib\n",
        "\n",
        "import cycler\n",
        "\n",
        "colors = [\"#91CCCC\", \"#FF8FA9\", \"#CC91BC\", \"#3F9999\", \"#A5FFB8\"]\n",
        "matplotlib.pyplot.rcParams[\"axes.prop_cycle\"] = cycler.cycler(color=colors)\n",
        "\n",
        "\n",
        "def set_square_figures():\n",
        "    matplotlib.pyplot.rcParams[\"figure.figsize\"] = (2.0, 2.0)\n",
        "\n",
        "\n",
        "def set_rectangular_figures():\n",
        "    matplotlib.pyplot.rcParams[\"figure.figsize\"] = (5.0, 2.0)\n",
        "\n",
        "\n",
        "set_rectangular_figures()\n",
        "matplotlib.pyplot.rcParams[\"figure.dpi\"] = 350\n",
        "matplotlib.pyplot.rcParams[\"savefig.bbox\"] = \"tight\"\n",
        "matplotlib.pyplot.rcParams[\"font.family\"] = \"serif\"\n",
        "\n",
        "matplotlib.pyplot.rcParams[\"axes.spines.right\"] = False\n",
        "matplotlib.pyplot.rcParams[\"axes.spines.top\"] = False\n",
        "\n",
        "\n",
        "def square_fig():\n",
        "    return matplotlib.pyplot.figure(figsize=(2, 2), dpi=350).gca()\n",
        "\n",
        "\n",
        "def add_diagonal_line():\n",
        "    xl = matplotlib.pyplot.xlim()\n",
        "    yl = matplotlib.pyplot.ylim()\n",
        "    shortest_side = min(xl[1], yl[1])\n",
        "    matplotlib.pyplot.plot(\n",
        "        [0, shortest_side], [0, shortest_side], color=\"black\", linestyle=\"--\"\n",
        "    )\n",
        "\n",
        "\n",
        "import pandas\n",
        "\n",
        "pandas.options.display.max_rows = 4\n",
        "\n",
        "import numpy\n",
        "\n",
        "numpy.set_printoptions(precision=2)\n",
        "numpy.random.seed(123)\n",
        "\n",
        "import keras\n",
        "\n",
        "keras.utils.set_random_seed(1)"
      ],
      "id": "539f6881",
      "execution_count": null,
      "outputs": []
    },
    {
      "cell_type": "markdown",
      "metadata": {},
      "source": [
        "::: {.content-visible unless-format=\"revealjs\"}\n"
      ],
      "id": "3c2c3c0f"
    },
    {
      "cell_type": "code",
      "metadata": {},
      "source": [
        "#| code-fold: true\n",
        "#| code-summary: Show the package imports\n",
        "import random\n",
        "import matplotlib.pyplot as plt\n",
        "import numpy as np\n",
        "import pandas as pd\n",
        "\n",
        "from keras.models import Sequential\n",
        "from keras.layers import Dense\n",
        "from keras.callbacks import EarlyStopping\n",
        "\n",
        "from sklearn.model_selection import train_test_split\n",
        "from sklearn.preprocessing import OneHotEncoder, StandardScaler, OrdinalEncoder\n",
        "from sklearn.impute import SimpleImputer\n",
        "from sklearn.linear_model import LinearRegression\n",
        "from sklearn import set_config\n",
        "\n",
        "set_config(transform_output=\"pandas\")"
      ],
      "id": "1ffcc366",
      "execution_count": null,
      "outputs": []
    },
    {
      "cell_type": "markdown",
      "metadata": {},
      "source": [
        ":::\n",
        "\n",
        "# Entity Embedding {visibility=\"uncounted\"}\n",
        "\n",
        "## Continuing on the French motor dataset example\n",
        "\n",
        "Download the dataset if we don't have it already.\n"
      ],
      "id": "968bc35d"
    },
    {
      "cell_type": "code",
      "metadata": {
        "output-location": "slide"
      },
      "source": [
        "from pathlib import Path                                      #<1>\n",
        "from sklearn.datasets import fetch_openml                     #<2>\n",
        "\n",
        "if not Path(\"french-motor.csv\").exists():                     #<3>\n",
        "    freq = fetch_openml(data_id=41214, as_frame=True).frame   #<4>\n",
        "    freq.to_csv(\"french-motor.csv\", index=False)              #<5>\n",
        "else:\n",
        "    freq = pd.read_csv(\"french-motor.csv\")                    #<6>\n",
        "\n",
        "freq"
      ],
      "id": "a1a86e42",
      "execution_count": null,
      "outputs": []
    },
    {
      "cell_type": "markdown",
      "metadata": {},
      "source": [
        "::: footer\n",
        "Source: Nell et al. (2020), [Case Study: French Motor Third-Party Liability Claims](https://papers.ssrn.com/sol3/papers.cfm?abstract_id=3164764), SSRN.\n",
        ":::\n",
        "\n",
        "\n",
        "## Data dictionary {.smaller}\n",
        "\n",
        "::: columns\n",
        "::: column\n",
        "- `IDpol`: policy number (unique identifier)\n",
        "- `ClaimNb`: number of claims on the given policy\n",
        "- `Exposure`: total exposure in yearly units\n",
        "- `Area`: area code (categorical, ordinal)\n",
        "- `VehPower`: power of the car (categorical, ordinal)\n",
        "- `VehAge`: age of the car in years\n",
        "- `DrivAge`: age of the (most common) driver in years\n",
        ":::\n",
        "::: column\n",
        "- `BonusMalus`: bonus-malus level between 50 and 230 (with reference level 100)\n",
        "- `VehBrand`: car brand (categorical, nominal)\n",
        "- `VehGas`: diesel or regular fuel car (binary)\n",
        "- `Density`: density of inhabitants per km^2^ in the city of the living place of the driver\n",
        "- `Region`: regions in France (prior to 2016)\n",
        ":::\n",
        ":::\n",
        "\n",
        "::: footer\n",
        "Source: Nell et al. (2020), [Case Study: French Motor Third-Party Liability Claims](https://papers.ssrn.com/sol3/papers.cfm?abstract_id=3164764), SSRN.\n",
        ":::\n",
        "\n",
        "## The model\n",
        "\n",
        "Have $\\{ (\\mathbf{x}_i, y_i) \\}_{i=1, \\dots, n}$ for $\\mathbf{x}_i \\in \\mathbb{R}^{47}$ and $y_i \\in \\mathbb{N}_0$.\n",
        "\n",
        "Assume the distribution\n",
        "$$\n",
        "Y_i \\sim \\mathsf{Poisson}(\\lambda(\\mathbf{x}_i))\n",
        "$$\n",
        "\n",
        "We have $\\mathbb{E} Y_i = \\lambda(\\mathbf{x}_i)$. \n",
        "The NN takes $\\mathbf{x}_i$ & predicts $\\mathbb{E} Y_i$.\n",
        "\n",
        "::: {.callout-note}\n",
        "For insurance, _this is a bit weird_.\n",
        "The exposures are different for each policy.\n",
        "\n",
        "$\\lambda(\\mathbf{x}_i)$ is the expected number of claims for the duration of policy $i$'s contract.\n",
        "\n",
        "Normally, $\\text{Exposure}_i \\not\\in \\mathbf{x}_i$, and $\\lambda(\\mathbf{x}_i)$ is the expected rate _per year_, then\n",
        "$$\n",
        "Y_i \\sim \\mathsf{Poisson}(\\text{Exposure}_i \\times \\lambda(\\mathbf{x}_i)).\n",
        "$$\n",
        ":::\n",
        "\n",
        "## Where are things defined?\n",
        "\n",
        "In Keras, string options are used for convenience to reference specific functions or settings.\n",
        "\n",
        "::: {.content-visible unless-format=\"revealjs\"}\n",
        "Meaning that setting `activation=\"relu\"` (with in strings) is same as setting `activation=relu` after bringing in the `relu` function from `keras.activations`. \n",
        ":::\n"
      ],
      "id": "56b6e78e"
    },
    {
      "cell_type": "code",
      "metadata": {},
      "source": [
        "model = Sequential([\n",
        "    Dense(30, activation=\"relu\"),\n",
        "    Dense(1, activation=\"exponential\")\n",
        "])"
      ],
      "id": "e9ebfcae",
      "execution_count": null,
      "outputs": []
    },
    {
      "cell_type": "markdown",
      "metadata": {},
      "source": [
        "is the same as\n"
      ],
      "id": "874c6d74"
    },
    {
      "cell_type": "code",
      "metadata": {},
      "source": [
        "from keras.activations import relu, exponential\n",
        "\n",
        "model = Sequential([\n",
        "    Dense(30, activation=relu),\n",
        "    Dense(1, activation=exponential)\n",
        "])"
      ],
      "id": "a51f44a1",
      "execution_count": null,
      "outputs": []
    },
    {
      "cell_type": "code",
      "metadata": {},
      "source": [
        "#| warning: false\n",
        "x = [-1.0, 0.0, 1.0]\n",
        "print(relu(x))\n",
        "print(exponential(x))"
      ],
      "id": "f26b5b97",
      "execution_count": null,
      "outputs": []
    },
    {
      "cell_type": "markdown",
      "metadata": {},
      "source": [
        "::: {.content-visible unless-format=\"revealjs\"}\n",
        "We can see how `relu` function gives out _x_ when _x_  is non-negative, and gives out 0 when _x_ is negative. `exponential` function, takes in _x_ and gives out the _exp(x)_.\n",
        ":::\n",
        "\n",
        "## String arguments to `.compile`\n",
        "\n",
        "When we run\n"
      ],
      "id": "ac06bab2"
    },
    {
      "cell_type": "code",
      "metadata": {},
      "source": [
        "model.compile(optimizer=\"adam\", loss=\"poisson\")"
      ],
      "id": "aa142fa3",
      "execution_count": null,
      "outputs": []
    },
    {
      "cell_type": "markdown",
      "metadata": {},
      "source": [
        "it is equivalent to\n"
      ],
      "id": "e052bfd5"
    },
    {
      "cell_type": "code",
      "metadata": {},
      "source": [
        "from keras.losses import poisson\n",
        "from keras.optimizers import Adam\n",
        "\n",
        "model.compile(optimizer=Adam(), loss=poisson)"
      ],
      "id": "b4c95ab5",
      "execution_count": null,
      "outputs": []
    },
    {
      "cell_type": "markdown",
      "metadata": {},
      "source": [
        "::: {.content-visible unless-format=\"revealjs\"}\n",
        "This is akin to specifying the activation function directly. Setting `optimizer=\"adam\"` and `loss=\"poisson\"` as strings is equivalent to using `optimizer=Adam()` and `loss=poisson` after importing `Adam` from `keras.optimizers` and `poisson` from `keras.losses`. Another important thing to note here is that, the loss function is no longer `mse`. Since we assume a Poisson distribution for the target variable, and the goal is to optimise the algorithm for count data, Poisson loss is more appropriate.\n",
        ":::\n",
        "\n",
        "Why do this manually? To adjust the object:\n",
        "\n",
        "::: {.content-visible unless-format=\"revealjs\"}\n",
        "One of the main reasons why we would want to bring in the functions from the libraries (as opposed to using strings) is because it allows us to control the hyper-parameters of the object. For instance, in the example below, we can see how we set the `learning_rate` to a specific value. `learning_rate` is an important hyper-parameter in neural network training because it controls the pace at which weights of the neural networks are updated. Too small learning rates can result in slower learning, hence, longer training time. Too large learning rates lead to large steps in weights updates, hence, might miss the optimal solution.\n",
        ":::\n"
      ],
      "id": "c6c68d23"
    },
    {
      "cell_type": "code",
      "metadata": {},
      "source": [
        "optimizer = Adam(learning_rate=0.01)\n",
        "model.compile(optimizer=optimizer, loss=\"poisson\")"
      ],
      "id": "1893eaa8",
      "execution_count": null,
      "outputs": []
    },
    {
      "cell_type": "markdown",
      "metadata": {},
      "source": [
        "or to get help.\n",
        "\n",
        "## Keras' \"poisson\" loss\n"
      ],
      "id": "2a065eb9"
    },
    {
      "cell_type": "code",
      "metadata": {},
      "source": [
        "help(keras.losses.poisson)"
      ],
      "id": "0710b43d",
      "execution_count": null,
      "outputs": []
    },
    {
      "cell_type": "markdown",
      "metadata": {},
      "source": [
        "::: {.content-visible unless-format=\"revealjs\"}\n",
        "Using the help function in this case provides information about the Poisson loss function in the `keras.losses library`. It shows that how `poisson` loss is calculated, by taking two inputs, (i) actual values and (ii) predicted values.\n",
        ":::\n",
        "\n",
        "## Subsample and split\n"
      ],
      "id": "411a2f50"
    },
    {
      "cell_type": "code",
      "metadata": {},
      "source": [
        "freq = freq.drop(\"IDpol\", axis=1).head(25_000)                          #<1>\n",
        "\n",
        "X_train, X_test, y_train, y_test = train_test_split(                    #<2>\n",
        "  freq.drop(\"ClaimNb\", axis=1), freq[\"ClaimNb\"], random_state=2023)     #<2>\n",
        "\n",
        "# Reset each index to start at 0 again.\n",
        "X_train = X_train.reset_index(drop=True)                                #<3>\n",
        "X_test = X_test.reset_index(drop=True)                                  #<3>"
      ],
      "id": "05d00b05",
      "execution_count": null,
      "outputs": []
    },
    {
      "cell_type": "markdown",
      "metadata": {},
      "source": [
        "## What values do we see in the data?\n",
        "\n",
        "::: {layout-ncol=2 layout-nrow=2}\n"
      ],
      "id": "b98636fa"
    },
    {
      "cell_type": "code",
      "metadata": {},
      "source": [
        "X_train[\"Area\"].value_counts()"
      ],
      "id": "ce2fff20",
      "execution_count": null,
      "outputs": []
    },
    {
      "cell_type": "code",
      "metadata": {},
      "source": [
        "X_train[\"VehBrand\"].value_counts()"
      ],
      "id": "559494ec",
      "execution_count": null,
      "outputs": []
    },
    {
      "cell_type": "code",
      "metadata": {},
      "source": [
        "X_train[\"VehGas\"].value_counts()"
      ],
      "id": "90984f6c",
      "execution_count": null,
      "outputs": []
    },
    {
      "cell_type": "code",
      "metadata": {},
      "source": [
        "X_train[\"Region\"].value_counts()"
      ],
      "id": "955df03f",
      "execution_count": null,
      "outputs": []
    },
    {
      "cell_type": "markdown",
      "metadata": {},
      "source": [
        ":::\n",
        "\n",
        "## Preprocess ordinal & continuous\n"
      ],
      "id": "cc0851cc"
    },
    {
      "cell_type": "code",
      "metadata": {},
      "source": [
        "from sklearn.compose import make_column_transformer\n",
        "\n",
        "ct = make_column_transformer(\n",
        "  (OrdinalEncoder(), [\"Area\", \"VehGas\"]),\n",
        "  (\"drop\", [\"VehBrand\", \"Region\"]),\n",
        "  remainder=StandardScaler(),\n",
        "  verbose_feature_names_out=False\n",
        ")\n",
        "X_train_ct = ct.fit_transform(X_train)"
      ],
      "id": "a9d6c0e3",
      "execution_count": null,
      "outputs": []
    },
    {
      "cell_type": "markdown",
      "metadata": {},
      "source": [
        "::: columns\n",
        "::: column\n"
      ],
      "id": "e30abcff"
    },
    {
      "cell_type": "code",
      "metadata": {},
      "source": [
        "X_train.head(3)"
      ],
      "id": "efb16e7c",
      "execution_count": null,
      "outputs": []
    },
    {
      "cell_type": "markdown",
      "metadata": {},
      "source": [
        ":::\n",
        "::: column\n"
      ],
      "id": "225d9c7e"
    },
    {
      "cell_type": "code",
      "metadata": {},
      "source": [
        "X_train_ct.head(3)"
      ],
      "id": "078020be",
      "execution_count": null,
      "outputs": []
    },
    {
      "cell_type": "markdown",
      "metadata": {},
      "source": [
        ":::\n",
        ":::\n",
        "\n",
        "# Categorical Variables & Entity Embeddings {visibility=\"uncounted\"}\n",
        "\n",
        "## Region column\n",
        "\n",
        "![French Administrative Regions](french-regions.png)\n",
        "\n",
        "::: footer\n",
        "Source: Nell et al. (2020), [Case Study: French Motor Third-Party Liability Claims](https://papers.ssrn.com/sol3/papers.cfm?abstract_id=3164764), SSRN.\n",
        ":::\n",
        "\n",
        "## One-hot encoding\n"
      ],
      "id": "6e293961"
    },
    {
      "cell_type": "code",
      "metadata": {},
      "source": [
        "oe = OneHotEncoder(sparse_output=False)\n",
        "X_train_oh = oe.fit_transform(X_train[[\"Region\"]])\n",
        "X_test_oh = oe.transform(X_test[[\"Region\"]])\n",
        "print(list(X_train[\"Region\"][:5]))\n",
        "X_train_oh.head()"
      ],
      "id": "24b78f6b",
      "execution_count": null,
      "outputs": []
    },
    {
      "cell_type": "markdown",
      "metadata": {},
      "source": [
        "::: {.content-visible unless-format=\"revealjs\"}\n",
        "One hot encoding is a way to assign numerical values to nominal variables. One hot encoding is different from ordinal encoding in the way in which it transforms the data. Ordinal encoding assigns a numerical integer to each unique category of the data column and returns one integer column. In contrast, one hot encoding returns a binary vector for each unique category. As a result, what we get from one hot encoding is not a single column vector, but a matrix with number of columns equal to the number of unique categories in that nominal data column.\n",
        ":::\n",
        "\n",
        "## Train on one-hot inputs\n"
      ],
      "id": "f9ab466d"
    },
    {
      "cell_type": "code",
      "metadata": {},
      "source": [
        "num_regions = len(oe.categories_[0])                            #<1>\n",
        "\n",
        "random.seed(12)\n",
        "model = Sequential([                                            #<2> \n",
        "  Dense(2, input_dim=num_regions),\n",
        "  Dense(1, activation=\"exponential\")\n",
        "])\n",
        "\n",
        "model.compile(optimizer=\"adam\", loss=\"poisson\")                #<3>  \n",
        "\n",
        "es = EarlyStopping(verbose=True)                               #<4> \n",
        "hist = model.fit(X_train_oh, y_train, epochs=100, verbose=0,   #<5> \n",
        "    validation_split=0.2, callbacks=[es])                       \n",
        "hist.history[\"val_loss\"][-1]                                   #<6> "
      ],
      "id": "aaaca29d",
      "execution_count": null,
      "outputs": []
    },
    {
      "cell_type": "markdown",
      "metadata": {},
      "source": [
        "::: {.content-visible unless-format=\"revealjs\"}\n",
        "The above code shows how we can train a neural network using only the one-hot encoded variables.  The example is similar to the case of training neural networks for ordinal encoding. \n",
        "1. Computes the number of unique categories in the encoded column and store it in `num_regions`\n",
        "2. Constructs the neural network. This time, it is a neural network with 1 hidden layer and 1 output layer. `Dense(2, input_dim=num_regions)` takes in an input matrix of with columns = `num_regions` and transofrmas it down to an output with 2 neurons\n",
        "Steps 3-6 is similar to what we saw during training with ordinal encoded variables.\n",
        ":::\n",
        "\n",
        "## Consider the first layer {.smaller}\n"
      ],
      "id": "f8989ece"
    },
    {
      "cell_type": "code",
      "metadata": {},
      "source": [
        "every_category = pd.DataFrame(np.eye(num_regions), columns=oe.categories_[0])\n",
        "every_category.head(3)"
      ],
      "id": "2286becf",
      "execution_count": null,
      "outputs": []
    },
    {
      "cell_type": "code",
      "metadata": {},
      "source": [
        "# Put this through the first layer of the model\n",
        "X = every_category.to_numpy()                       #<1>\n",
        "model.layers[0](X)                                  #<2>"
      ],
      "id": "c88af412",
      "execution_count": null,
      "outputs": []
    },
    {
      "cell_type": "markdown",
      "metadata": {},
      "source": [
        "::: {.content-visible unless-format=\"revealjs\"}\n",
        "We can extract each layer separately from a trained neural network and observe its output given a specific input. \n",
        "1. Converts the dataframe to a numpy array\n",
        "2. Takes out the first layer and feeds in the numpy array _X_. This returns an array with 2 columns\n",
        ":::\n",
        "## The first layer\n"
      ],
      "id": "d83da4c9"
    },
    {
      "cell_type": "code",
      "metadata": {},
      "source": [
        "layer = model.layers[0]                     #<1>\n",
        "W, b = layer.get_weights()                  #<2>\n",
        "X.shape, W.shape, b.shape                   #<3>"
      ],
      "id": "2b428eeb",
      "execution_count": null,
      "outputs": []
    },
    {
      "cell_type": "markdown",
      "metadata": {},
      "source": [
        "::: {.content-visible unless-format=\"revealjs\"}\n",
        "We can also extract the layer, get its wieghts and compute manually. \n",
        "1. Extracts the layer\n",
        "2. Gets the weights and biases and stores the weights in _W_ and biases in _b_\n",
        "3. Returns the shapes of the matrices\n",
        ":::\n",
        "\n",
        "::: columns\n",
        "::: column\n"
      ],
      "id": "0ebd1b8d"
    },
    {
      "cell_type": "code",
      "metadata": {},
      "source": [
        "X @ W + b"
      ],
      "id": "cbd44cbb",
      "execution_count": null,
      "outputs": []
    },
    {
      "cell_type": "markdown",
      "metadata": {},
      "source": [
        ":::\n",
        "::: column\n"
      ],
      "id": "53912a4c"
    },
    {
      "cell_type": "code",
      "metadata": {},
      "source": [
        "W + b"
      ],
      "id": "2fcb0cd1",
      "execution_count": null,
      "outputs": []
    },
    {
      "cell_type": "markdown",
      "metadata": {},
      "source": [
        ":::\n",
        ":::\n",
        "\n",
        "::: {.content-visible unless-format=\"revealjs\"}\n",
        "The above codes manually compute and returns the same answers as before.\n",
        ":::\n",
        "## Just a look-up operation\n",
        "\n",
        "::: columns\n",
        "::: column\n"
      ],
      "id": "e98386eb"
    },
    {
      "cell_type": "code",
      "metadata": {},
      "source": [
        "display(list(oe.categories_[0]))"
      ],
      "id": "45960d6a",
      "execution_count": null,
      "outputs": []
    },
    {
      "cell_type": "markdown",
      "metadata": {},
      "source": [
        ":::\n",
        "::: column\n"
      ],
      "id": "d1595325"
    },
    {
      "cell_type": "code",
      "metadata": {},
      "source": [
        "W + b"
      ],
      "id": "978b6415",
      "execution_count": null,
      "outputs": []
    },
    {
      "cell_type": "markdown",
      "metadata": {},
      "source": [
        ":::\n",
        ":::\n",
        "\n",
        "::: {.content-visible unless-format=\"revealjs\"}\n",
        "The above outputs show that the neural network thinks the best way to represent \"R11\" for this particular problem is using the vector [-0.2, -0.12]. \n",
        ":::\n",
        "## Turn the region into an index\n"
      ],
      "id": "facf1e4d"
    },
    {
      "cell_type": "code",
      "metadata": {},
      "source": [
        "oe = OrdinalEncoder()\n",
        "X_train_reg = oe.fit_transform(X_train[[\"Region\"]])\n",
        "X_test_reg = oe.transform(X_test[[\"Region\"]])\n",
        "\n",
        "for i, reg in enumerate(oe.categories_[0][:3]):\n",
        "  print(f\"The Region value {reg} gets turned into {i}.\")"
      ],
      "id": "a9c79c37",
      "execution_count": null,
      "outputs": []
    },
    {
      "cell_type": "markdown",
      "metadata": {},
      "source": [
        "## Embedding\n"
      ],
      "id": "ddd5b8af"
    },
    {
      "cell_type": "code",
      "metadata": {},
      "source": [
        "from keras.layers import Embedding\n",
        "num_regions = len(np.unique(X_train[[\"Region\"]]))\n",
        "\n",
        "random.seed(12)\n",
        "model = Sequential([\n",
        "  Embedding(input_dim=num_regions, output_dim=2),\n",
        "  Dense(1, activation=\"exponential\")\n",
        "])\n",
        "\n",
        "model.compile(optimizer=\"adam\", loss=\"poisson\")"
      ],
      "id": "0a23e8ef",
      "execution_count": null,
      "outputs": []
    },
    {
      "cell_type": "markdown",
      "metadata": {},
      "source": [
        "## Fitting that model\n"
      ],
      "id": "b38ef901"
    },
    {
      "cell_type": "code",
      "metadata": {},
      "source": [
        "es = EarlyStopping(verbose=True)\n",
        "hist = model.fit(X_train_reg, y_train, epochs=100, verbose=0,\n",
        "    validation_split=0.2, callbacks=[es])\n",
        "hist.history[\"val_loss\"][-1]"
      ],
      "id": "48fb75b8",
      "execution_count": null,
      "outputs": []
    },
    {
      "cell_type": "code",
      "metadata": {},
      "source": [
        "model.layers"
      ],
      "id": "7114eac8",
      "execution_count": null,
      "outputs": []
    },
    {
      "cell_type": "markdown",
      "metadata": {},
      "source": [
        "::: {.content-visible unless-format=\"revealjs\"}\n",
        "Embedding layer can learn the optimal representation for a category of a categorical variable, during training. \n",
        "In the above example, encoding the variable _Region_ using ordinal encoding and passing it through an embedding layer learns the optimal representation for the region during training. Ordinal encoding followed with an embedding layer is a better alternative to one-hot encoding. It is computationally less expensive (compared to generating large matrices in one-hot encoding) particularly when the number of categories is high.\n",
        ":::\n",
        "\n",
        "## Keras' Embedding Layer\n",
        "\n",
        "::: columns\n",
        "::: column\n"
      ],
      "id": "e918f29a"
    },
    {
      "cell_type": "code",
      "metadata": {},
      "source": [
        "model.layers[0].get_weights()[0]"
      ],
      "id": "fc36dd98",
      "execution_count": null,
      "outputs": []
    },
    {
      "cell_type": "markdown",
      "metadata": {},
      "source": [
        ":::\n",
        "::: column\n"
      ],
      "id": "fc4d6572"
    },
    {
      "cell_type": "code",
      "metadata": {},
      "source": [
        "X_train[\"Region\"].head(4)"
      ],
      "id": "95b781a1",
      "execution_count": null,
      "outputs": []
    },
    {
      "cell_type": "code",
      "metadata": {},
      "source": [
        "X_sample = X_train_reg[:4].to_numpy()\n",
        "X_sample"
      ],
      "id": "d18e4ebd",
      "execution_count": null,
      "outputs": []
    },
    {
      "cell_type": "code",
      "metadata": {},
      "source": [
        "enc_tensor = model.layers[0](X_sample)\n",
        "keras.ops.convert_to_numpy(enc_tensor).squeeze()"
      ],
      "id": "d45ce8ef",
      "execution_count": null,
      "outputs": []
    },
    {
      "cell_type": "markdown",
      "metadata": {},
      "source": [
        ":::\n",
        ":::\n",
        "\n",
        "::: {.content-visible unless-format=\"revealjs\"}\n",
        "\n",
        "1. Returns the weights of the Embedding layer. The function `model.layers[0].get_weights()[0]` returns a 22 $\\times$ 2 weights matrix with optimal representations for each category. Here 22 corresponds to the number of unique categories, and 2 corresponds to the size of the lower dimensional space using which we represent each category. \n",
        "2. Returns the first 4 rows of train set\n",
        "3. Converts first 4 rows to a numpy array\n",
        "4. Sends the numpy array through the Embedding layer to retrieve corresponding weights\n",
        "We can observe how the last code returns a numpy array with representations corresponding to R24, R93, R11 and R42. \n",
        "\n",
        ":::\n",
        "\n",
        "## The learned embeddings\n",
        "\n",
        "::: {.content-visible unless-format=\"revealjs\"}\n",
        "\n",
        "If we only have two-dimensional embeddings we can plot them.\n",
        "\n",
        ":::\n"
      ],
      "id": "5f6696e9"
    },
    {
      "cell_type": "code",
      "metadata": {},
      "source": [
        "points = model.layers[0].get_weights()[0]\n",
        "plt.scatter(points[:,0], points[:,1])\n",
        "for i in range(num_regions):\n",
        "  plt.text(points[i,0]+0.01, points[i,1] , s=oe.categories_[0][i])"
      ],
      "id": "2cfdeb0c",
      "execution_count": null,
      "outputs": []
    },
    {
      "cell_type": "markdown",
      "metadata": {},
      "source": [
        "::: {.content-visible unless-format=\"revealjs\"}\n",
        "While it not always the case, entity embeddings can at times be meaningful instead of just being useful representations. The above figure shows how plotting the learned embeddings help reveal regions which might be similar (e.g. coastal areas, hilly areas etc.).\n",
        ":::\n",
        "\n",
        "## Entity embeddings \n",
        "\n",
        "![Embeddings will gradually improve during training.](entity-embeddings.png)\n",
        "\n",
        "::: footer\n",
        "Source: Marcus Lautier (2022).\n",
        ":::\n",
        "\n",
        "## Embeddings & other inputs\n",
        "\n",
        "::: {.content-visible unless-format=\"revealjs\"}\n",
        "Often times, we deal with both categorical and numerical variables together. The following diagram shows a recommended way of inputting numerical and categorical data in to the neural network. Numerical variables are inherently numeric hence, do not require entity embedding. On the other hand, categorical variables must undergo entity embedding to convert to number format.\n",
        ":::\n",
        "\n",
        "![Illustration of a neural network with both continuous and categorical inputs.](nn-with-entity-embedding-diagram.png)\n",
        "\n",
        "We can't do this with Sequential models...\n",
        "\n",
        "::: footer\n",
        "Source: LotusLabs Blog, [Accurate insurance claims prediction with Deep Learning](https://www.lotuslabs.ai/accurate-insurance-claims-prediction-with-deep-learning/).\n",
        ":::\n",
        "\n",
        "# Keras' Functional API {visibility=\"uncounted\"}\n",
        "\n",
        "::: {.content-visible unless-format=\"revealjs\"}\n",
        "Sequential models are easy to use and do not require many specifications, however, they cannot model complex neural network architectures. Keras Functional API approach on the other hand allows the users to build complex architectures. \n",
        ":::\n",
        "\n",
        "## Converting Sequential models\n"
      ],
      "id": "e081f889"
    },
    {
      "cell_type": "code",
      "metadata": {},
      "source": [
        "from keras.models import Model\n",
        "from keras.layers import Input"
      ],
      "id": "3a5f2fca",
      "execution_count": null,
      "outputs": []
    },
    {
      "cell_type": "markdown",
      "metadata": {},
      "source": [
        "::: columns\n",
        "::: column\n"
      ],
      "id": "d4251e66"
    },
    {
      "cell_type": "code",
      "metadata": {},
      "source": [
        "random.seed(12)\n",
        "\n",
        "model = Sequential([\n",
        "  Dense(30, \"leaky_relu\"),\n",
        "  Dense(1, \"exponential\")\n",
        "])\n",
        "\n",
        "model.compile(\n",
        "  optimizer=\"adam\",\n",
        "  loss=\"poisson\")\n",
        "\n",
        "hist = model.fit(\n",
        "  X_train_oh, y_train,\n",
        "  epochs=1, verbose=0,\n",
        "  validation_split=0.2)\n",
        "hist.history[\"val_loss\"][-1]"
      ],
      "id": "49d7f75f",
      "execution_count": null,
      "outputs": []
    },
    {
      "cell_type": "markdown",
      "metadata": {},
      "source": [
        ":::\n",
        "::: column\n"
      ],
      "id": "296b6de7"
    },
    {
      "cell_type": "code",
      "metadata": {},
      "source": [
        "random.seed(12)\n",
        "\n",
        "inputs = Input(shape=(X_train_oh.shape[1],))\n",
        "x = Dense(30, \"leaky_relu\")(inputs)\n",
        "out = Dense(1, \"exponential\")(x)\n",
        "model = Model(inputs, out)\n",
        "\n",
        "model.compile(\n",
        "  optimizer=\"adam\",\n",
        "  loss=\"poisson\")\n",
        "\n",
        "hist = model.fit(\n",
        "  X_train_oh, y_train,\n",
        "  epochs=1, verbose=0,\n",
        "  validation_split=0.2)\n",
        "hist.history[\"val_loss\"][-1]"
      ],
      "id": "242e5477",
      "execution_count": null,
      "outputs": []
    },
    {
      "cell_type": "markdown",
      "metadata": {},
      "source": [
        ":::\n",
        ":::\n",
        "\n",
        "See [one-length tuples](https://pat-laub.github.io/DeepLearningMaterials/2023/Lecture-1-Artificial-Intelligence/python.html#/one-length-tuples).\n",
        "\n",
        "::: {.content-visible unless-format=\"revealjs\"}\n",
        "The above code shows how to construct the same neural network using sequential models and Keras functional API. There are some differences in the construction. In the functional API approach, we must specify the shape of the input layer, and explicitly define the inputs and outputs of a layer. `model = Model(inputs, out)` function specifies the input and output of the model. This manner of specifying the inputs and outputs of the model allow the user to combine several inputs (inputs which are preprocessed in different ways) to finally build the model. One example would be combining entity embedded categorical variables, and scaled numerical variables.\n",
        ":::\n",
        "\n",
        "## Wide & Deep network\n",
        "\n",
        "::: columns\n",
        "::: {.column width=\"45%\"}\n",
        "![An illustration of the wide & deep network architecture.](wide-and-deep-network.png)\n",
        ":::\n",
        "::: {.column width=\"55%\"}\n",
        "Add a _skip connection_ from input to output layers.\n"
      ],
      "id": "7b808c91"
    },
    {
      "cell_type": "code",
      "metadata": {},
      "source": [
        "from keras.layers \\\n",
        "    import Concatenate\n",
        "\n",
        "inp = Input(shape=X_train.shape[1:])\n",
        "hidden1 = Dense(30, \"leaky_relu\")(inp)\n",
        "hidden2 = Dense(30, \"leaky_relu\")(hidden1)\n",
        "concat = Concatenate()(\n",
        "  [inp, hidden2])\n",
        "output = Dense(1)(concat)\n",
        "model = Model(\n",
        "    inputs=[inp],\n",
        "    outputs=[output])"
      ],
      "id": "87d43017",
      "execution_count": null,
      "outputs": []
    },
    {
      "cell_type": "markdown",
      "metadata": {},
      "source": [
        ":::\n",
        ":::\n",
        "\n",
        "::: footer\n",
        "Sources: Marcus Lautier (2022) & Aurélien Géron (2019), _Hands-On Machine Learning with Scikit-Learn, Keras, and TensorFlow_, 2nd Edition, Chapter 10 code snippet.\n",
        ":::\n",
        "\n",
        "## Naming the layers\n",
        "\n",
        "For complex networks, it is often useful to give meaningul names to the layers.\n"
      ],
      "id": "492c1084"
    },
    {
      "cell_type": "code",
      "metadata": {},
      "source": [
        "input_ = Input(shape=X_train.shape[1:], name=\"input\")\n",
        "hidden1 = Dense(30, activation=\"leaky_relu\", name=\"hidden1\")(input_)\n",
        "hidden2 = Dense(30, activation=\"leaky_relu\", name=\"hidden2\")(hidden1)\n",
        "concat = Concatenate(name=\"combined\")([input_, hidden2])\n",
        "output = Dense(1, name=\"output\")(concat)\n",
        "model = Model(inputs=[input_], outputs=[output])"
      ],
      "id": "ba9e7fc7",
      "execution_count": null,
      "outputs": []
    },
    {
      "cell_type": "markdown",
      "metadata": {},
      "source": [
        "## Inspecting a complex model\n"
      ],
      "id": "d30d2635"
    },
    {
      "cell_type": "code",
      "metadata": {},
      "source": [
        "from keras.utils import plot_model"
      ],
      "id": "97f2d9dc",
      "execution_count": null,
      "outputs": []
    },
    {
      "cell_type": "markdown",
      "metadata": {},
      "source": [
        "::: columns\n",
        "::: {.column width=\"30%\"}\n"
      ],
      "id": "88de3407"
    },
    {
      "cell_type": "code",
      "metadata": {},
      "source": [
        "plot_model(model, show_layer_names=True)"
      ],
      "id": "138a3619",
      "execution_count": null,
      "outputs": []
    },
    {
      "cell_type": "markdown",
      "metadata": {},
      "source": [
        ":::\n",
        "::: {.column width=\"70%\"}\n",
        "::: {.smaller}\n"
      ],
      "id": "19d17afe"
    },
    {
      "cell_type": "code",
      "metadata": {},
      "source": [
        "model.summary(line_length=75)"
      ],
      "id": "4dd06268",
      "execution_count": null,
      "outputs": []
    },
    {
      "cell_type": "markdown",
      "metadata": {},
      "source": [
        ":::\n",
        ":::\n",
        ":::\n",
        "\n",
        "# French Motor Dataset with Embeddings {visibility=\"uncounted\"}\n",
        "\n",
        "## The desired architecture\n",
        "\n",
        "![Illustration of a neural network with both continuous and categorical inputs.](nn-with-entity-embedding-diagram.png)\n",
        "\n",
        "::: footer\n",
        "Source: LotusLabs Blog, [Accurate insurance claims prediction with Deep Learning](https://www.lotuslabs.ai/accurate-insurance-claims-prediction-with-deep-learning/).\n",
        ":::\n",
        "\n",
        "## Preprocess all French motor inputs\n",
        "\n",
        "Transform the categorical variables to integers:\n"
      ],
      "id": "3ea1baae"
    },
    {
      "cell_type": "code",
      "metadata": {},
      "source": [
        "num_brands, num_regions = X_train.nunique()[[\"VehBrand\", \"Region\"]]         #<1>\n",
        "\n",
        "ct = make_column_transformer(\n",
        "  (OrdinalEncoder(), [\"VehBrand\", \"Region\", \"Area\", \"VehGas\"]),             #<2>\n",
        "  remainder=StandardScaler(),                                               #<3>\n",
        "  verbose_feature_names_out=False                                           #<4>\n",
        ")\n",
        "X_train_ct = ct.fit_transform(X_train)                                      #<5>\n",
        "X_test_ct = ct.transform(X_test)                                            #<6>"
      ],
      "id": "b02f51e8",
      "execution_count": null,
      "outputs": []
    },
    {
      "cell_type": "markdown",
      "metadata": {},
      "source": [
        "::: {.content-visible unless-format=\"revealjs\"}\n",
        "1. Stores separately the number of unique categorical in the nominal variables, as would require these values later for entity embedding\n",
        "2. Contructs columns transformer by first ordinally encoding all categorical variables. Ordinal variables are ordinal encoded because it is the sensible thing. Nominal variables are ordinal encoded as an intermediate step before passing through an entity embedding layer \n",
        "3. Applies standard scaling to all other numerical variables\n",
        "4. `verbose_feature_names_out=False` stops unnecessarily printing out the outputs of the process\n",
        "5. Fits the column transformer to the train set and transforms it\n",
        "6. Transforms the test set using the column transformer fitted using the train set\n",
        ":::\n",
        "\n",
        "Split the brand and region data apart from the rest:\n"
      ],
      "id": "94f881a3"
    },
    {
      "cell_type": "code",
      "metadata": {},
      "source": [
        "X_train_brand = X_train_ct[\"VehBrand\"]; X_test_brand = X_test_ct[\"VehBrand\"]\n",
        "X_train_region = X_train_ct[\"Region\"]; X_test_region = X_test_ct[\"Region\"]\n",
        "X_train_rest = X_train_ct.drop([\"VehBrand\", \"Region\"], axis=1)\n",
        "X_test_rest = X_test_ct.drop([\"VehBrand\", \"Region\"], axis=1)"
      ],
      "id": "49bad17e",
      "execution_count": null,
      "outputs": []
    },
    {
      "cell_type": "markdown",
      "metadata": {},
      "source": [
        "## Organise the inputs\n",
        "\n",
        "Make a Keras `Input` for: vehicle brand, region, & others.\n"
      ],
      "id": "80a504dd"
    },
    {
      "cell_type": "code",
      "metadata": {},
      "source": [
        "veh_brand = Input(shape=(1,), name=\"vehBrand\")\n",
        "region = Input(shape=(1,), name=\"region\")\n",
        "other_inputs = Input(shape=X_train_rest.shape[1:], name=\"otherInputs\")"
      ],
      "id": "2f855514",
      "execution_count": null,
      "outputs": []
    },
    {
      "cell_type": "markdown",
      "metadata": {},
      "source": [
        "Create embeddings and join them with the other inputs. \n"
      ],
      "id": "fbe27ff6"
    },
    {
      "cell_type": "code",
      "metadata": {},
      "source": [
        "from keras.layers import Reshape                                                #<1>\n",
        "\n",
        "random.seed(1337)\n",
        "veh_brand_ee = Embedding(input_dim=num_brands, output_dim=2,                    #<2>\n",
        "    name=\"vehBrandEE\")(veh_brand)                                \n",
        "veh_brand_ee = Reshape(target_shape=(2,))(veh_brand_ee)                         #<3>\n",
        "\n",
        "region_ee = Embedding(input_dim=num_regions, output_dim=2,                      #<4>\n",
        "    name=\"regionEE\")(region)\n",
        "region_ee = Reshape(target_shape=(2,))(region_ee)                               #<5>\n",
        "\n",
        "x = Concatenate(name=\"combined\")([veh_brand_ee, region_ee, other_inputs])       #<6>"
      ],
      "id": "f8df75f7",
      "execution_count": null,
      "outputs": []
    },
    {
      "cell_type": "markdown",
      "metadata": {},
      "source": [
        "::: {.content-visible unless-format=\"revealjs\"}\n",
        "1. Imports `Reshape` class from `keras.layers` library\n",
        "2. Constructs the embedding layer by specifying the input dimension (the number of unique categories) and output dimension (the number of dimensions we want the input to be summarised in to)\n",
        "3. Reshapes the output to match the format required at the model building step\n",
        "4. Constructs the embedding layer by specifying the input dimension (the number of unique categories) and output dimension\n",
        "5. Reshapes the output to match the format required at the model building step\n",
        "6. Combines the entity embedded matrices and other inputs together\n",
        ":::\n",
        "## Complete the model and fit it\n",
        "\n",
        "Feed the combined embeddings & continuous inputs to some normal dense layers.\n"
      ],
      "id": "e8ef6ed9"
    },
    {
      "cell_type": "code",
      "metadata": {},
      "source": [
        "x = Dense(30, \"relu\", name=\"hidden\")(x)\n",
        "out = Dense(1, \"exponential\", name=\"out\")(x)\n",
        "\n",
        "model = Model([veh_brand, region, other_inputs], out)                     #<1>\n",
        "model.compile(optimizer=\"adam\", loss=\"poisson\")\n",
        "\n",
        "hist = model.fit((X_train_brand, X_train_region, X_train_rest),           #<2>\n",
        "    y_train, epochs=100, verbose=0,\n",
        "    callbacks=[EarlyStopping(patience=5)], validation_split=0.2)\n",
        "np.min(hist.history[\"val_loss\"])"
      ],
      "id": "8de6d35f",
      "execution_count": null,
      "outputs": []
    },
    {
      "cell_type": "markdown",
      "metadata": {},
      "source": [
        "::: {.content-visible unless-format=\"revealjs\"}\n",
        "1. Model building stage requires all inputs to be passed in together\n",
        "2. Passes in the three sets of data, since the format defined at the model building stage requires 3 data sets\n",
        ":::\n",
        "## Plotting this model\n"
      ],
      "id": "adaa90f6"
    },
    {
      "cell_type": "code",
      "metadata": {},
      "source": [
        "plot_model(model, show_layer_names=True)"
      ],
      "id": "7898aab0",
      "execution_count": null,
      "outputs": []
    },
    {
      "cell_type": "markdown",
      "metadata": {},
      "source": [
        "## Why we need to reshape\n"
      ],
      "id": "fc7243ba"
    },
    {
      "cell_type": "code",
      "metadata": {},
      "source": [
        "plot_model(model, show_layer_names=True, show_shapes=True)"
      ],
      "id": "4989d369",
      "execution_count": null,
      "outputs": []
    },
    {
      "cell_type": "markdown",
      "metadata": {},
      "source": [
        "::: {.content-visible unless-format=\"revealjs\"}\n",
        "The plotted model shows how, for example, `region` starts off as a matrix with `(None,1)` shape. This indicates that, `region` was a column matrix with some number of rows. Entity embedding the `region` variable resulted in a 3D array of shape (`(None,1,2)`) which is not the required format for concatenating. Therefore, we reshape it using the `Reshape` function. This results in column array of shape, `(None,2)` which is what we need for concatenating.\n",
        ":::\n",
        "\n",
        "# Scale By Exposure {visibility=\"uncounted\"}\n",
        "\n",
        "## Two different models\n",
        "\n",
        "Have $\\{ (\\mathbf{x}_i, y_i) \\}_{i=1, \\dots, n}$ for $\\mathbf{x}_i \\in \\mathbb{R}^{47}$ and $y_i \\in \\mathbb{N}_0$.\n",
        "\n",
        "**Model 1**: Say $Y_i \\sim \\mathsf{Poisson}(\\lambda(\\mathbf{x}_i))$.\n",
        "\n",
        "But, the exposures are different for each policy.\n",
        "$\\lambda(\\mathbf{x}_i)$ is the expected number of claims for the duration of policy $i$'s contract.\n",
        "\n",
        "**Model 2**: Say $Y_i \\sim \\mathsf{Poisson}(\\text{Exposure}_i \\times \\lambda(\\mathbf{x}_i))$.\n",
        "\n",
        "Now, $\\text{Exposure}_i \\not\\in \\mathbf{x}_i$, and $\\lambda(\\mathbf{x}_i)$ is the rate _per year_.\n",
        "\n",
        "## Just take continuous variables\n",
        "\n",
        "::: {.content-visible unless-format=\"revealjs\"}\n",
        "For convenience, following code only considers the numerical variables during this implementation.\n",
        ":::\n"
      ],
      "id": "7eb3dd40"
    },
    {
      "cell_type": "code",
      "metadata": {},
      "source": [
        "ct = make_column_transformer(                                           #<1>\n",
        "  (\"passthrough\", [\"Exposure\"]),                                        #<2>\n",
        "  (\"drop\", [\"VehBrand\", \"Region\", \"Area\", \"VehGas\"]),                   #<3>\n",
        "  remainder=StandardScaler(),                                           #<4>\n",
        "  verbose_feature_names_out=False                                       #<5>\n",
        ")\n",
        "X_train_ct = ct.fit_transform(X_train)                                  #<6>\n",
        "X_test_ct = ct.transform(X_test)                                        #<7>"
      ],
      "id": "6a2ca555",
      "execution_count": null,
      "outputs": []
    },
    {
      "cell_type": "markdown",
      "metadata": {},
      "source": [
        "::: {.content-visible unless-format=\"revealjs\"}\n",
        "1. Starts defining the column transformer \n",
        "2. Lets `Exposure` passthrough the neural network as it is without peprocessing\n",
        "3. Drops the categorical variables (for the ease of implementation)\n",
        "4. Scales the remaining variables\n",
        "5. Avoids printing unnecessary outputs\n",
        "6. Fits and transforms the train set\n",
        "7. Only transforms the test set\n",
        ":::\n",
        "\n",
        "Split exposure apart from the rest:\n"
      ],
      "id": "ea5da244"
    },
    {
      "cell_type": "code",
      "metadata": {},
      "source": [
        "X_train_exp = X_train_ct[\"Exposure\"]; X_test_exp = X_test_ct[\"Exposure\"]    #<1>\n",
        "X_train_rest = X_train_ct.drop(\"Exposure\", axis=1)                          #<2>\n",
        "X_test_rest = X_test_ct.drop(\"Exposure\", axis=1)                            #<3>"
      ],
      "id": "d26c2fe0",
      "execution_count": null,
      "outputs": []
    },
    {
      "cell_type": "markdown",
      "metadata": {},
      "source": [
        "::: {.content-visible unless-format=\"revealjs\"}\n",
        "1. Takes out `Exposure` seperately\n",
        "2. Drops `Exposure` from train set\n",
        "3. Drops `Exposure` from test set\n",
        ":::\n",
        "\n",
        "Organise the inputs:\n"
      ],
      "id": "322a9f1e"
    },
    {
      "cell_type": "code",
      "metadata": {},
      "source": [
        "exposure = Input(shape=(1,), name=\"exposure\")\n",
        "other_inputs = Input(shape=X_train_rest.shape[1:], name=\"otherInputs\")"
      ],
      "id": "fc84eba9",
      "execution_count": null,
      "outputs": []
    },
    {
      "cell_type": "markdown",
      "metadata": {},
      "source": [
        "## Make & fit the model\n",
        "\n",
        "Feed the continuous inputs to some normal dense layers.\n"
      ],
      "id": "a7974fee"
    },
    {
      "cell_type": "code",
      "metadata": {},
      "source": [
        "random.seed(1337)\n",
        "x = Dense(30, \"relu\", name=\"hidden1\")(other_inputs)\n",
        "x = Dense(30, \"relu\", name=\"hidden2\")(x)\n",
        "lambda_ = Dense(1, \"exponential\", name=\"lambda\")(x)"
      ],
      "id": "0d1edac0",
      "execution_count": null,
      "outputs": []
    },
    {
      "cell_type": "code",
      "metadata": {},
      "source": [
        "out = lambda_ * exposure # In past, need keras.layers.Multiply()[lambda_, exposure]\n",
        "model = Model([exposure, other_inputs], out)\n",
        "model.compile(optimizer=\"adam\", loss=\"poisson\")\n",
        "\n",
        "es = EarlyStopping(patience=10, restore_best_weights=True, verbose=1)\n",
        "hist = model.fit((X_train_exp, X_train_rest),\n",
        "    y_train, epochs=100, verbose=0,\n",
        "    callbacks=[es], validation_split=0.2)\n",
        "np.min(hist.history[\"val_loss\"])"
      ],
      "id": "ad682c01",
      "execution_count": null,
      "outputs": []
    },
    {
      "cell_type": "markdown",
      "metadata": {},
      "source": [
        "## Plot the model\n"
      ],
      "id": "15ea43ae"
    },
    {
      "cell_type": "code",
      "metadata": {},
      "source": [
        "plot_model(model, show_layer_names=True)"
      ],
      "id": "ccc0b3ba",
      "execution_count": null,
      "outputs": []
    },
    {
      "cell_type": "markdown",
      "metadata": {},
      "source": [
        "## Package Versions {.appendix data-visibility=\"uncounted\"}\n"
      ],
      "id": "63ccfe06"
    },
    {
      "cell_type": "code",
      "metadata": {},
      "source": [
        "from watermark import watermark\n",
        "print(watermark(python=True, packages=\"keras,matplotlib,numpy,pandas,seaborn,scipy,torch,tensorflow,tf_keras\"))"
      ],
      "id": "d3e14878",
      "execution_count": null,
      "outputs": []
    },
    {
      "cell_type": "markdown",
      "metadata": {},
      "source": [
        "## Glossary {.appendix data-visibility=\"uncounted\"}\n",
        "\n",
        "::: columns\n",
        ":::: column\n",
        "- entity embeddings\n",
        "- Input layer\n",
        "- Keras functional API\n",
        "::::\n",
        ":::: column\n",
        "- Reshape layer\n",
        "- skip connection\n",
        "- wide & deep network\n",
        "::::\n",
        ":::\n"
      ],
      "id": "8134fc15"
    },
    {
      "cell_type": "code",
      "metadata": {},
      "source": [
        "#| echo: false\n",
        "!rm model.png"
      ],
      "id": "4a7e1c68",
      "execution_count": null,
      "outputs": []
    }
  ],
  "metadata": {
    "kernelspec": {
      "name": "python3",
      "language": "python",
      "display_name": "Python 3 (ipykernel)"
    }
  },
  "nbformat": 4,
  "nbformat_minor": 5
}