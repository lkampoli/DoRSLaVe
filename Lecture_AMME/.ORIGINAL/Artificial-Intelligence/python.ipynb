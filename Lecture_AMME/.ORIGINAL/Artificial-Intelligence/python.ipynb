{
  "cells": [
    {
      "cell_type": "raw",
      "metadata": {},
      "source": [
        "---\n",
        "title: Python\n",
        "---"
      ],
      "id": "a319a09b"
    },
    {
      "cell_type": "markdown",
      "metadata": {},
      "source": [
        "## Recording of this lecture\n",
        "\n",
        "A recording covering (most of) this Python content:\n",
        "\n",
        "::: {.content-hidden unless-format=\"revealjs\"}\n",
        "\n",
        "\n",
        "{{< video https://youtu.be/kLpXVzpDGps width=\"1068px\" height=\"600px\" >}}\n",
        "\n",
        "\n",
        "\n",
        "\n",
        ":::\n",
        "::: {.content-visible unless-format=\"revealjs\"}\n",
        "\n",
        "\n",
        "{{< video https://youtu.be/kLpXVzpDGps >}}\n",
        "\n",
        "\n",
        "\n",
        "\n",
        ":::\n",
        "\n",
        "# Data Science & Python {visibility=\"uncounted\"}\n",
        "\n",
        "## About Python\n",
        "\n",
        "::: columns\n",
        "::: {.column width=\"40%\"}\n",
        "![Free book [Automate the Boring Stuff with Python](https://automatetheboringstuff.com/)](automate-the-boring-stuff-with-python.jpeg)\n",
        ":::\n",
        "\n",
        "::: {.column width=\"60%\"}\n",
        "It is _general purpose_ language\n",
        "\n",
        "Python powers:\n",
        "\n",
        "- Instagram\n",
        "- Spotify\n",
        "- Netflix\n",
        "- Uber\n",
        "- Reddit...\n",
        "\n",
        "Python is on Mars.\n",
        "\n",
        ":::\n",
        ":::\n",
        "\n",
        "::: footer\n",
        "Sources: [Blog post](https://learn.onemonth.com/10-famous-websites-built-using-python/) and [Github](https://docs.github.com/en/account-and-profile/setting-up-and-managing-your-github-profile/customizing-your-profile/personalizing-your-profile#list-of-qualifying-repositories-for-mars-2020-helicopter-contributor-badge).\n",
        ":::\n",
        "\n",
        "\n",
        "## Stack Overflow [2021 Dev. Survey](https://insights.stackoverflow.com/survey/2021)\n",
        "\n",
        "::: columns\n",
        "::: {.column width=\"55%\"}\n",
        "\n",
        "- Python is [3rd most popular language](https://insights.stackoverflow.com/survey/2021#section-most-popular-technologies-programming-scripting-and-markup-languages)\n",
        "- Python is the [most wanted language](https://insights.stackoverflow.com/survey/2021#section-most-loved-dreaded-and-wanted-programming-scripting-and-markup-languages)\n",
        "- In 'Other frameworks and libraries', they note that [\"several data science libraries for Python make strong showings\"](https://insights.stackoverflow.com/survey/2021#section-most-popular-technologies-other-frameworks-and-libraries\n",
        ").\n",
        "\n",
        ":::\n",
        "::: {.column width=\"38%\"}\n",
        "\n",
        "![Popular languages.](so-popular-languages-all.png)\n",
        "\n",
        ":::\n",
        ":::\n",
        "\n",
        "## Github's [2021 State of the Octoverse](https://octoverse.github.com/#top-languages-over-the-years)\n",
        "\n",
        "![Top languages over the years](github-programming-languages.svg)\n",
        "\n",
        "\n",
        "::: footer\n",
        "Source: Kaggle (2021), [State of Machine Learning and Data Science](https://www.kaggle.com/kaggle-survey-2021).\n",
        ":::\n"
      ],
      "id": "706302cf"
    },
    {
      "cell_type": "code",
      "metadata": {},
      "source": [
        "#| echo: false\n",
        "#| eval: false\n",
        "from IPython.display import display, HTML\n",
        "\n",
        "html = '<div class=\"r-stack\">'\n",
        "\n",
        "html += f'<img src=\"kaggle/kaggle-0.png\" width=\"1000px\">'\n",
        "\n",
        "for i in range(1, 18):\n",
        "    if i in [1, 2, 6, 13, 14, 15, 16]:\n",
        "        continue\n",
        "    html += f'<img src=\"kaggle/kaggle-{i}.png\" class=\"fragment\" width=\"1000px\">'\n",
        "\n",
        "html += \"</div>\"\n",
        "\n",
        "display(HTML(html))"
      ],
      "id": "42c63bab",
      "execution_count": null,
      "outputs": []
    },
    {
      "cell_type": "markdown",
      "metadata": {},
      "source": [
        "## Python and machine learning\n",
        "\n",
        "\n",
        "> ...[T]he entire machine learning and data science industry has been dominated by these two approaches: **deep learning** and **gradient boosted trees**...\n",
        "> Users of gradient boosted trees tend to use Scikit-learn, XGBoost, or LightGBM. Meanwhile, most practitioners of deep learning use Keras, often in combination with its parent framework TensorFlow.\n",
        "The common point of these tools is **they're all Python libraries**: Python is by far the most widely used language for machine learning and data science.\n",
        "\n",
        "::: footer\n",
        "Source: François Chollet (2021), _Deep Learning with Python, Second Edition_, Section 1.2.7.\n",
        ":::\n",
        "\n",
        "## Python for data science\n",
        "\n",
        "::: columns\n",
        "::: {.column width=\"50%\"}\n",
        "In R you can run:\n",
        "```r\n",
        "pchisq(3, 10)\n",
        "```\n",
        ":::\n",
        "::: {.column width=\"50%\"}\n",
        "In Python it is\n",
        "```python\n",
        "from scipy import stats\n",
        "stats.chi2(10).cdf(3)\n",
        "```\n",
        ":::\n",
        ":::\n",
        "\n",
        "![In Leganto](python-data-analysis.jpeg)\n",
        "\n",
        "## Google Colaboratory\n",
        "\n",
        "![An example notebook in Google Colaboratory.](google-colab.png)\n",
        "\n",
        "[http://colab.research.google.com](http://colab.research.google.com)\n",
        "\n",
        "# Python Data Types {visibility=\"uncounted\"}\n",
        "\n",
        "## Variables and basic types\n",
        "\n",
        "::: columns\n",
        "::: {.column width=\"50%\"}\n"
      ],
      "id": "f0d26e66"
    },
    {
      "cell_type": "code",
      "metadata": {},
      "source": [
        "1 + 2"
      ],
      "id": "1e912afe",
      "execution_count": null,
      "outputs": []
    },
    {
      "cell_type": "code",
      "metadata": {},
      "source": [
        "x = 1\n",
        "x + 2.0"
      ],
      "id": "8321d15d",
      "execution_count": null,
      "outputs": []
    },
    {
      "cell_type": "code",
      "metadata": {},
      "source": [
        "type(2.0)"
      ],
      "id": "2ac1e6b2",
      "execution_count": null,
      "outputs": []
    },
    {
      "cell_type": "code",
      "metadata": {},
      "source": [
        "type(1), type(x)"
      ],
      "id": "1cd7e176",
      "execution_count": null,
      "outputs": []
    },
    {
      "cell_type": "markdown",
      "metadata": {},
      "source": [
        ":::\n",
        "::: {.column width=\"50%\"}\n"
      ],
      "id": "3864bd1f"
    },
    {
      "cell_type": "code",
      "metadata": {},
      "source": [
        "does_math_work = 1 + 1 == 2\n",
        "print(does_math_work)\n",
        "type(does_math_work)"
      ],
      "id": "4f3a5132",
      "execution_count": null,
      "outputs": []
    },
    {
      "cell_type": "code",
      "metadata": {},
      "source": [
        "contradiction = 1 != 1\n",
        "contradiction"
      ],
      "id": "b892d1e9",
      "execution_count": null,
      "outputs": []
    },
    {
      "cell_type": "markdown",
      "metadata": {},
      "source": [
        ":::\n",
        ":::\n",
        "\n",
        "## Shorthand assignments\n",
        "\n",
        "If we want to add 2 to a variable `x`:\n",
        "\n",
        "::: columns\n",
        "::: {.column width=\"50%\"}\n"
      ],
      "id": "966041b9"
    },
    {
      "cell_type": "code",
      "metadata": {},
      "source": [
        "x = 1\n",
        "x = x + 2\n",
        "x"
      ],
      "id": "ec60bae8",
      "execution_count": null,
      "outputs": []
    },
    {
      "cell_type": "markdown",
      "metadata": {},
      "source": [
        ":::\n",
        "\n",
        "::: {.column width=\"50%\"}\n"
      ],
      "id": "61ad82e4"
    },
    {
      "cell_type": "code",
      "metadata": {},
      "source": [
        "x = 1\n",
        "x += 2\n",
        "x"
      ],
      "id": "0bc41507",
      "execution_count": null,
      "outputs": []
    },
    {
      "cell_type": "markdown",
      "metadata": {},
      "source": [
        ":::\n",
        ":::\n",
        "\n",
        "Same for:\n",
        "\n",
        "- `x -= 2` : take 2 from the current value of `x` ,\n",
        "- `x *= 2` : double the current value of `x`,\n",
        "- `x /= 2` : halve the current value of `x`.\n",
        "\n",
        "## Strings\n"
      ],
      "id": "ab409393"
    },
    {
      "cell_type": "code",
      "metadata": {},
      "source": [
        "name = \"Patrick\"\n",
        "surname = \"Laub\""
      ],
      "id": "6c237602",
      "execution_count": null,
      "outputs": []
    },
    {
      "cell_type": "code",
      "metadata": {},
      "source": [
        "coffee = \"This is Patrick's coffee\"\n",
        "quote = 'And then he said \"I need a coffee!\"'"
      ],
      "id": "86ea6c78",
      "execution_count": null,
      "outputs": []
    },
    {
      "cell_type": "code",
      "metadata": {},
      "source": [
        "name + surname"
      ],
      "id": "0b0472b5",
      "execution_count": null,
      "outputs": []
    },
    {
      "cell_type": "code",
      "metadata": {},
      "source": [
        "greeting = f\"Hello {name} {surname}\"\n",
        "greeting"
      ],
      "id": "95a792f4",
      "execution_count": null,
      "outputs": []
    },
    {
      "cell_type": "code",
      "metadata": {},
      "source": [
        "\"Patrick\" in greeting"
      ],
      "id": "0192d6c0",
      "execution_count": null,
      "outputs": []
    },
    {
      "cell_type": "markdown",
      "metadata": {},
      "source": [
        "## `and` & `or`\n"
      ],
      "id": "f1e24b96"
    },
    {
      "cell_type": "code",
      "metadata": {},
      "source": [
        "name = \"Patrick\"\n",
        "surname = \"Laub\"\n",
        "name.istitle() and surname.istitle()"
      ],
      "id": "cec1d39b",
      "execution_count": null,
      "outputs": []
    },
    {
      "cell_type": "code",
      "metadata": {},
      "source": [
        "full_name = \"Dr Patrick Laub\"\n",
        "full_name.startswith(\"Dr \") or full_name.endswith(\" PhD\")"
      ],
      "id": "16bd1e3e",
      "execution_count": null,
      "outputs": []
    },
    {
      "cell_type": "markdown",
      "metadata": {},
      "source": [
        "::: {.callout-important}\n",
        "The dot is used denote methods, it can't be used inside a variable name.\n"
      ],
      "id": "99e3f466"
    },
    {
      "cell_type": "code",
      "metadata": {},
      "source": [
        "#| error: true\n",
        "i.am.an.unfortunate.R.users = True"
      ],
      "id": "1d891b72",
      "execution_count": null,
      "outputs": []
    },
    {
      "cell_type": "markdown",
      "metadata": {},
      "source": [
        ":::\n",
        "\n",
        "## `help` to get more details\n"
      ],
      "id": "85d1055e"
    },
    {
      "cell_type": "code",
      "metadata": {},
      "source": [
        "help(name.istitle)"
      ],
      "id": "d568cf96",
      "execution_count": null,
      "outputs": []
    },
    {
      "cell_type": "markdown",
      "metadata": {},
      "source": [
        "## f-strings\n"
      ],
      "id": "4db5ce65"
    },
    {
      "cell_type": "code",
      "metadata": {},
      "source": [
        "print(f\"Five squared is {5*5} and five cubed is {5**3}\")\n",
        "print(\"Five squared is {5*5} and five cubed is {5**3}\")"
      ],
      "id": "3de00503",
      "execution_count": null,
      "outputs": []
    },
    {
      "cell_type": "markdown",
      "metadata": {},
      "source": [
        "::: {.callout-aside}\n",
        "Use f-strings and avoid the older alternatives:\n"
      ],
      "id": "2dee9a87"
    },
    {
      "cell_type": "code",
      "metadata": {},
      "source": [
        "print(f\"Hello {name} {surname}\")\n",
        "print(\"Hello \" + name + \" \" + surname)\n",
        "print(\"Hello {} {}\".format(name, surname))\n",
        "print(\"Hello %s %s\" % (name, surname))"
      ],
      "id": "1f22242a",
      "execution_count": null,
      "outputs": []
    },
    {
      "cell_type": "markdown",
      "metadata": {},
      "source": [
        ":::\n",
        "\n",
        "## Converting types\n"
      ],
      "id": "1a95d309"
    },
    {
      "cell_type": "code",
      "metadata": {},
      "source": [
        "digit = 3\n",
        "digit"
      ],
      "id": "ab0453b1",
      "execution_count": null,
      "outputs": []
    },
    {
      "cell_type": "code",
      "metadata": {},
      "source": [
        "type(digit)"
      ],
      "id": "667b6d15",
      "execution_count": null,
      "outputs": []
    },
    {
      "cell_type": "code",
      "metadata": {},
      "source": [
        "num = float(digit)\n",
        "num"
      ],
      "id": "56677b0a",
      "execution_count": null,
      "outputs": []
    },
    {
      "cell_type": "code",
      "metadata": {},
      "source": [
        "type(num)"
      ],
      "id": "0937e355",
      "execution_count": null,
      "outputs": []
    },
    {
      "cell_type": "code",
      "metadata": {},
      "source": [
        "num_str = str(num)\n",
        "num_str"
      ],
      "id": "aa65cce5",
      "execution_count": null,
      "outputs": []
    },
    {
      "cell_type": "markdown",
      "metadata": {},
      "source": [
        "## Quiz\n",
        "\n",
        "What is the output of:\n"
      ],
      "id": "9125b704"
    },
    {
      "cell_type": "code",
      "metadata": {},
      "source": [
        "#| eval: false\n",
        "x = 1\n",
        "y = 1.0\n",
        "print(f\"{x == y} and {type(x) == type(y)}\")"
      ],
      "id": "7771f78b",
      "execution_count": null,
      "outputs": []
    },
    {
      "cell_type": "markdown",
      "metadata": {},
      "source": [
        "::: fragment\n"
      ],
      "id": "46ab48bf"
    },
    {
      "cell_type": "code",
      "metadata": {},
      "source": [
        "#| echo: false\n",
        "x = 1\n",
        "y = 1.0\n",
        "print(f\"{x == y} and {type(x) == type(y)}\")"
      ],
      "id": "8c807f44",
      "execution_count": null,
      "outputs": []
    },
    {
      "cell_type": "markdown",
      "metadata": {},
      "source": [
        ":::\n",
        "\n",
        "::: fragment\n",
        "What would you add before line 3 to get \"True and True\"?\n",
        ":::\n",
        "\n",
        "::: fragment\n"
      ],
      "id": "f1811add"
    },
    {
      "cell_type": "code",
      "metadata": {},
      "source": [
        "x = 1\n",
        "y = 1.0\n",
        "x = float(x)  # or y = int(y)\n",
        "print(f\"{x == y} and {type(x) == type(y)}\")"
      ],
      "id": "9f857deb",
      "execution_count": null,
      "outputs": []
    },
    {
      "cell_type": "markdown",
      "metadata": {},
      "source": [
        ":::\n",
        "\n",
        "# Collections {visibility=\"uncounted\"}\n",
        "\n",
        "## Lists\n"
      ],
      "id": "df18d417"
    },
    {
      "cell_type": "code",
      "metadata": {},
      "source": [
        "desires = [\"Coffee\", \"Cake\", \"Sleep\"]\n",
        "desires"
      ],
      "id": "2f160d1f",
      "execution_count": null,
      "outputs": []
    },
    {
      "cell_type": "code",
      "metadata": {},
      "source": [
        "len(desires)"
      ],
      "id": "044c33e2",
      "execution_count": null,
      "outputs": []
    },
    {
      "cell_type": "code",
      "metadata": {},
      "source": [
        "desires[0]"
      ],
      "id": "7a10bac6",
      "execution_count": null,
      "outputs": []
    },
    {
      "cell_type": "code",
      "metadata": {},
      "source": [
        "desires[-1]"
      ],
      "id": "33d558c3",
      "execution_count": null,
      "outputs": []
    },
    {
      "cell_type": "code",
      "metadata": {},
      "source": [
        "desires[2] = \"Nap\"\n",
        "desires"
      ],
      "id": "70d294a9",
      "execution_count": null,
      "outputs": []
    },
    {
      "cell_type": "markdown",
      "metadata": {},
      "source": [
        "## Slicing lists\n"
      ],
      "id": "98040ea0"
    },
    {
      "cell_type": "code",
      "metadata": {},
      "source": [
        "print([0, 1, 2])\n",
        "desires"
      ],
      "id": "b351c619",
      "execution_count": null,
      "outputs": []
    },
    {
      "cell_type": "code",
      "metadata": {},
      "source": [
        "desires[0:2]"
      ],
      "id": "c3ca6340",
      "execution_count": null,
      "outputs": []
    },
    {
      "cell_type": "code",
      "metadata": {},
      "source": [
        "desires[0:1]"
      ],
      "id": "5bd3aaed",
      "execution_count": null,
      "outputs": []
    },
    {
      "cell_type": "code",
      "metadata": {},
      "source": [
        "desires[:2]"
      ],
      "id": "20119afe",
      "execution_count": null,
      "outputs": []
    },
    {
      "cell_type": "markdown",
      "metadata": {},
      "source": [
        "## A common indexing  error\n"
      ],
      "id": "d63b4e6e"
    },
    {
      "cell_type": "code",
      "metadata": {},
      "source": [
        "#| error: true\n",
        "desires[1.0]"
      ],
      "id": "054350f4",
      "execution_count": null,
      "outputs": []
    },
    {
      "cell_type": "code",
      "metadata": {},
      "source": [
        "#| error: true\n",
        "desires[: len(desires) / 2]"
      ],
      "id": "3dfd598c",
      "execution_count": null,
      "outputs": []
    },
    {
      "cell_type": "code",
      "metadata": {},
      "source": [
        "len(desires) / 2, len(desires) // 2"
      ],
      "id": "a4050f0f",
      "execution_count": null,
      "outputs": []
    },
    {
      "cell_type": "code",
      "metadata": {},
      "source": [
        "desires[: len(desires) // 2]"
      ],
      "id": "f27773a6",
      "execution_count": null,
      "outputs": []
    },
    {
      "cell_type": "markdown",
      "metadata": {},
      "source": [
        "## Editing lists\n"
      ],
      "id": "5b7cfab4"
    },
    {
      "cell_type": "code",
      "metadata": {},
      "source": [
        "desires = [\"Coffee\", \"Cake\", \"Sleep\"]\n",
        "desires.append(\"Gadget\")\n",
        "desires"
      ],
      "id": "17f58829",
      "execution_count": null,
      "outputs": []
    },
    {
      "cell_type": "code",
      "metadata": {},
      "source": [
        "desires.pop()"
      ],
      "id": "1243b8fe",
      "execution_count": null,
      "outputs": []
    },
    {
      "cell_type": "code",
      "metadata": {},
      "source": [
        "desires"
      ],
      "id": "2dd1f955",
      "execution_count": null,
      "outputs": []
    },
    {
      "cell_type": "code",
      "metadata": {},
      "source": [
        "desires.sort()\n",
        "desires"
      ],
      "id": "8c615f91",
      "execution_count": null,
      "outputs": []
    },
    {
      "cell_type": "code",
      "metadata": {},
      "source": [
        "#| error: true\n",
        "desires[3] = \"Croissant\""
      ],
      "id": "2349198b",
      "execution_count": null,
      "outputs": []
    },
    {
      "cell_type": "markdown",
      "metadata": {},
      "source": [
        "## `None`\n"
      ],
      "id": "fc419306"
    },
    {
      "cell_type": "code",
      "metadata": {},
      "source": [
        "desires = [\"Coffee\", \"Cake\", \"Sleep\", \"Gadget\"]\n",
        "sorted_list = desires.sort()\n",
        "sorted_list"
      ],
      "id": "e612bf04",
      "execution_count": null,
      "outputs": []
    },
    {
      "cell_type": "code",
      "metadata": {},
      "source": [
        "type(sorted_list)"
      ],
      "id": "974f0f5f",
      "execution_count": null,
      "outputs": []
    },
    {
      "cell_type": "code",
      "metadata": {},
      "source": [
        "sorted_list is None"
      ],
      "id": "376e1648",
      "execution_count": null,
      "outputs": []
    },
    {
      "cell_type": "code",
      "metadata": {},
      "source": [
        "bool(sorted_list)"
      ],
      "id": "cd913d49",
      "execution_count": null,
      "outputs": []
    },
    {
      "cell_type": "code",
      "metadata": {},
      "source": [
        "desires = [\"Coffee\", \"Cake\", \"Sleep\", \"Gadget\"]\n",
        "sorted_list = sorted(desires)\n",
        "print(desires)\n",
        "sorted_list"
      ],
      "id": "cb432717",
      "execution_count": null,
      "outputs": []
    },
    {
      "cell_type": "markdown",
      "metadata": {},
      "source": [
        "## Tuples ('immutable' lists)\n"
      ],
      "id": "3a2ebb21"
    },
    {
      "cell_type": "code",
      "metadata": {},
      "source": [
        "weather = (\"Sunny\", \"Cloudy\", \"Rainy\")\n",
        "print(type(weather))\n",
        "print(len(weather))\n",
        "print(weather[-1])"
      ],
      "id": "54fe409f",
      "execution_count": null,
      "outputs": []
    },
    {
      "cell_type": "code",
      "metadata": {},
      "source": [
        "#| error: true\n",
        "weather.append(\"Snowy\")"
      ],
      "id": "a8b13cdf",
      "execution_count": null,
      "outputs": []
    },
    {
      "cell_type": "code",
      "metadata": {},
      "source": [
        "#| error: true\n",
        "weather[2] = \"Snowy\""
      ],
      "id": "5952835d",
      "execution_count": null,
      "outputs": []
    },
    {
      "cell_type": "markdown",
      "metadata": {},
      "source": [
        "## One-length tuples\n"
      ],
      "id": "29457f1e"
    },
    {
      "cell_type": "code",
      "metadata": {},
      "source": [
        "using_brackets_in_math = (2 + 4) * 3\n",
        "using_brackets_to_simplify = (1 + 1 == 2)"
      ],
      "id": "bb91f9b4",
      "execution_count": null,
      "outputs": []
    },
    {
      "cell_type": "code",
      "metadata": {},
      "source": [
        "failure_of_atuple = (\"Snowy\")\n",
        "type(failure_of_atuple)"
      ],
      "id": "7b3fd80c",
      "execution_count": null,
      "outputs": []
    },
    {
      "cell_type": "code",
      "metadata": {},
      "source": [
        "happy_solo_tuple = (\"Snowy\",)\n",
        "type(happy_solo_tuple)"
      ],
      "id": "a5b8343c",
      "execution_count": null,
      "outputs": []
    },
    {
      "cell_type": "code",
      "metadata": {},
      "source": [
        "cheeky_solo_list = [\"Snowy\"]\n",
        "type(cheeky_solo_list)"
      ],
      "id": "8afbbf65",
      "execution_count": null,
      "outputs": []
    },
    {
      "cell_type": "markdown",
      "metadata": {},
      "source": [
        "## Dictionaries\n"
      ],
      "id": "a8ad4153"
    },
    {
      "cell_type": "code",
      "metadata": {},
      "source": [
        "phone_book = {\"Patrick\": \"+61 1234\", \"Café\": \"(02) 5678\"}\n",
        "phone_book[\"Patrick\"]"
      ],
      "id": "f94143fc",
      "execution_count": null,
      "outputs": []
    },
    {
      "cell_type": "code",
      "metadata": {},
      "source": [
        "phone_book[\"Café\"] = \"+61400 000 000\"\n",
        "phone_book"
      ],
      "id": "5aa1bd67",
      "execution_count": null,
      "outputs": []
    },
    {
      "cell_type": "code",
      "metadata": {},
      "source": [
        "phone_book.keys()"
      ],
      "id": "2320695a",
      "execution_count": null,
      "outputs": []
    },
    {
      "cell_type": "code",
      "metadata": {},
      "source": [
        "phone_book.values()"
      ],
      "id": "df38fc72",
      "execution_count": null,
      "outputs": []
    },
    {
      "cell_type": "code",
      "metadata": {},
      "source": [
        "factorial = {0: 1, 1: 1, 2: 2, 3: 6, 4: 24, 5: 120, 6: 720, 7: 5040}\n",
        "factorial[4]"
      ],
      "id": "9bf0e1af",
      "execution_count": null,
      "outputs": []
    },
    {
      "cell_type": "markdown",
      "metadata": {},
      "source": [
        "## Quiz\n"
      ],
      "id": "41b5a648"
    },
    {
      "cell_type": "code",
      "metadata": {},
      "source": [
        "#| eval: false\n",
        "animals = [\"dog\", \"cat\", \"bird\"]\n",
        "animals.append(\"teddy bear\")\n",
        "animals.pop()\n",
        "animals.pop()\n",
        "animals.append(\"koala\")\n",
        "animals.append(\"kangaroo\")\n",
        "print(f\"{len(animals)} and {len(animals[-2])}\")"
      ],
      "id": "f90b82c3",
      "execution_count": null,
      "outputs": []
    },
    {
      "cell_type": "markdown",
      "metadata": {},
      "source": [
        "::: fragment\n"
      ],
      "id": "28742091"
    },
    {
      "cell_type": "code",
      "metadata": {},
      "source": [
        "#| echo: false\n",
        "animals = [\"dog\", \"cat\", \"bird\"]\n",
        "animals.append(\"teddy bear\")\n",
        "animals.pop()\n",
        "animals.pop()\n",
        "animals.append(\"koala\")\n",
        "animals.append(\"kangaroo\")\n",
        "print(f\"{len(animals)} and {len(animals[-2])}\")"
      ],
      "id": "4eb85343",
      "execution_count": null,
      "outputs": []
    },
    {
      "cell_type": "markdown",
      "metadata": {},
      "source": [
        ":::\n",
        "\n",
        "# Control Flow {visibility=\"uncounted\"}\n",
        "\n",
        "## `if` and `else`\n"
      ],
      "id": "2633f4a8"
    },
    {
      "cell_type": "code",
      "metadata": {},
      "source": [
        "age = 50"
      ],
      "id": "3425b84a",
      "execution_count": null,
      "outputs": []
    },
    {
      "cell_type": "code",
      "metadata": {},
      "source": [
        "if age >= 30:\n",
        "    print(\"Gosh you're old\")"
      ],
      "id": "06bfe92f",
      "execution_count": null,
      "outputs": []
    },
    {
      "cell_type": "code",
      "metadata": {},
      "source": [
        "if age >= 30:\n",
        "    print(\"Gosh you're old\")\n",
        "else:\n",
        "    print(\"You're still young\")"
      ],
      "id": "d133db50",
      "execution_count": null,
      "outputs": []
    },
    {
      "cell_type": "markdown",
      "metadata": {},
      "source": [
        "## The weird part about Python...\n"
      ],
      "id": "2f5bccf5"
    },
    {
      "cell_type": "code",
      "metadata": {},
      "source": [
        "#| error: true\n",
        "if age >= 30:\n",
        "    print(\"Gosh you're old\")\n",
        "else:\n",
        "print(\"You're still young\")"
      ],
      "id": "ddea05b6",
      "execution_count": null,
      "outputs": []
    },
    {
      "cell_type": "markdown",
      "metadata": {},
      "source": [
        "::: {.callout-warning}\n",
        "Watch out for mixing tabs and spaces!\n",
        ":::\n",
        "\n",
        "## An example of aging\n"
      ],
      "id": "1ef2fdf3"
    },
    {
      "cell_type": "code",
      "metadata": {},
      "source": [
        "age = 16\n",
        "\n",
        "if age < 18:\n",
        "    friday_evening_schedule = \"School things\"\n",
        "if age < 30:\n",
        "    friday_evening_schedule = \"Party 🥳🍾\"\n",
        "if age >= 30:\n",
        "    friday_evening_schedule = \"Work\""
      ],
      "id": "295b19bc",
      "execution_count": null,
      "outputs": []
    },
    {
      "cell_type": "markdown",
      "metadata": {},
      "source": [
        "::: fragment\n"
      ],
      "id": "5fc470a6"
    },
    {
      "cell_type": "code",
      "metadata": {},
      "source": [
        "print(friday_evening_schedule)"
      ],
      "id": "ad476708",
      "execution_count": null,
      "outputs": []
    },
    {
      "cell_type": "markdown",
      "metadata": {},
      "source": [
        ":::\n",
        "\n",
        "## Using `elif` {auto-animate=true}\n"
      ],
      "id": "ffb47aab"
    },
    {
      "cell_type": "code",
      "metadata": {},
      "source": [
        "age = 16\n",
        "\n",
        "if age < 18:\n",
        "    friday_evening_schedule = \"School things\"\n",
        "elif age < 30:\n",
        "    friday_evening_schedule = \"Party 🥳🍾\"\n",
        "else:\n",
        "    friday_evening_schedule = \"Work\"\n",
        "\n",
        "print(friday_evening_schedule)"
      ],
      "id": "a3526c79",
      "execution_count": null,
      "outputs": []
    },
    {
      "cell_type": "markdown",
      "metadata": {},
      "source": [
        "## `for` Loops\n"
      ],
      "id": "1950c5e6"
    },
    {
      "cell_type": "code",
      "metadata": {},
      "source": [
        "desires = [\"coffee\", \"cake\", \"sleep\"]\n",
        "for desire in desires:\n",
        "    print(f\"Patrick really wants a {desire}.\")"
      ],
      "id": "3e942f01",
      "execution_count": null,
      "outputs": []
    },
    {
      "cell_type": "markdown",
      "metadata": {},
      "source": [
        "::: columns\n",
        "::: {.column width=\"50%\"}\n"
      ],
      "id": "e66b1f84"
    },
    {
      "cell_type": "code",
      "metadata": {},
      "source": [
        "for i in range(3):\n",
        "    print(i)"
      ],
      "id": "c64f266b",
      "execution_count": null,
      "outputs": []
    },
    {
      "cell_type": "code",
      "metadata": {},
      "source": [
        "for i in range(3, 6):\n",
        "    print(i)"
      ],
      "id": "59ce4d35",
      "execution_count": null,
      "outputs": []
    },
    {
      "cell_type": "markdown",
      "metadata": {},
      "source": [
        ":::\n",
        "::: {.column width=\"50%\"}\n"
      ],
      "id": "404098d3"
    },
    {
      "cell_type": "code",
      "metadata": {},
      "source": [
        "range(5)"
      ],
      "id": "bcb58eb5",
      "execution_count": null,
      "outputs": []
    },
    {
      "cell_type": "code",
      "metadata": {},
      "source": [
        "type(range(5))"
      ],
      "id": "0fba8a49",
      "execution_count": null,
      "outputs": []
    },
    {
      "cell_type": "code",
      "metadata": {},
      "source": [
        "list(range(5))"
      ],
      "id": "ba4f9956",
      "execution_count": null,
      "outputs": []
    },
    {
      "cell_type": "markdown",
      "metadata": {},
      "source": [
        ":::\n",
        ":::\n",
        "\n",
        "## Advanced `for` loops\n"
      ],
      "id": "365677e6"
    },
    {
      "cell_type": "code",
      "metadata": {},
      "source": [
        "for i, desire in enumerate(desires):\n",
        "    print(f\"Patrick wants a {desire}, it is priority #{i+1}.\")"
      ],
      "id": "1b80c142",
      "execution_count": null,
      "outputs": []
    },
    {
      "cell_type": "code",
      "metadata": {},
      "source": [
        "desires = [\"coffee\", \"cake\", \"nap\"]\n",
        "times = [\"in the morning\", \"at lunch\", \"during a boring lecture\"]\n",
        "\n",
        "for desire, time in zip(desires, times):\n",
        "    print(f\"Patrick enjoys a {desire} {time}.\")"
      ],
      "id": "3450beec",
      "execution_count": null,
      "outputs": []
    },
    {
      "cell_type": "markdown",
      "metadata": {},
      "source": [
        "## List comprehensions\n"
      ],
      "id": "29d803cb"
    },
    {
      "cell_type": "code",
      "metadata": {},
      "source": [
        "[x**2 for x in range(10)]"
      ],
      "id": "14940365",
      "execution_count": null,
      "outputs": []
    },
    {
      "cell_type": "code",
      "metadata": {},
      "source": [
        "[x**2 for x in range(10) if x % 2 == 0]"
      ],
      "id": "099c95c8",
      "execution_count": null,
      "outputs": []
    },
    {
      "cell_type": "markdown",
      "metadata": {},
      "source": [
        "They can get more complicated:\n"
      ],
      "id": "efa8f831"
    },
    {
      "cell_type": "code",
      "metadata": {},
      "source": [
        "[x * y for x in range(4) for y in range(4)]"
      ],
      "id": "4405ddc9",
      "execution_count": null,
      "outputs": []
    },
    {
      "cell_type": "code",
      "metadata": {},
      "source": [
        "[[x * y for x in range(4)] for y in range(4)]"
      ],
      "id": "9a8b7685",
      "execution_count": null,
      "outputs": []
    },
    {
      "cell_type": "markdown",
      "metadata": {},
      "source": [
        "but I'd recommend just using `for` loops at that point.\n",
        "\n",
        "## While Loops\n"
      ],
      "id": "dbfe6e60"
    },
    {
      "cell_type": "code",
      "metadata": {},
      "source": [
        "#| echo: false\n",
        "import numpy.random as rnd\n",
        "\n",
        "rnd.seed(1234)\n",
        "simulate_pareto = lambda: rnd.pareto(1)"
      ],
      "id": "ff156756",
      "execution_count": null,
      "outputs": []
    },
    {
      "cell_type": "markdown",
      "metadata": {},
      "source": [
        "Say that we want to simulate $(X \\,\\mid\\, X \\ge 100)$ where $X \\sim \\mathrm{Pareto}(1)$.\n",
        "Assuming we have `simulate_pareto`,\n",
        "a function to generate $\\mathrm{Pareto}(1)$ variables:\n"
      ],
      "id": "0266f0c4"
    },
    {
      "cell_type": "code",
      "metadata": {},
      "source": [
        "samples = []\n",
        "while len(samples) < 5:\n",
        "    x = simulate_pareto()\n",
        "    if x >= 100:\n",
        "        samples.append(x)\n",
        "\n",
        "samples"
      ],
      "id": "192cf741",
      "execution_count": null,
      "outputs": []
    },
    {
      "cell_type": "markdown",
      "metadata": {},
      "source": [
        "## Breaking out of a loop\n"
      ],
      "id": "b9afce63"
    },
    {
      "cell_type": "code",
      "metadata": {},
      "source": [
        "#| eval: false\n",
        "while True:\n",
        "    user_input = input(\">> What would you like to do? \")\n",
        "\n",
        "    if user_input == \"order cake\":\n",
        "        print(\"Here's your cake! 🎂\")\n",
        "\n",
        "    elif user_input == \"order coffee\":\n",
        "        print(\"Here's your coffee! ☕️\")\n",
        "\n",
        "    elif user_input == \"quit\":\n",
        "        break"
      ],
      "id": "3ccfd771",
      "execution_count": null,
      "outputs": []
    },
    {
      "cell_type": "code",
      "metadata": {},
      "source": [
        "#| echo: false\n",
        "inputs = [\"order cake\", \"order coffee\", \"order cake\", \"quit\"]\n",
        "\n",
        "for user_input in inputs:\n",
        "    print(f\">> What would you like to do? {user_input}\")\n",
        "    if user_input == \"order cake\":\n",
        "        print(\"Here's your cake! 🎂\")\n",
        "\n",
        "    elif user_input == \"order coffee\":\n",
        "        print(\"Here's your coffee! ☕️\")\n",
        "\n",
        "    elif user_input == \"quit\":\n",
        "        break"
      ],
      "id": "8e5ae241",
      "execution_count": null,
      "outputs": []
    },
    {
      "cell_type": "markdown",
      "metadata": {},
      "source": [
        "## Quiz\n",
        "\n",
        "What does this print out?\n"
      ],
      "id": "634df51a"
    },
    {
      "cell_type": "code",
      "metadata": {},
      "source": [
        "#| eval: false\n",
        "if 1 / 3 + 1 / 3 + 1 / 3 == 1:\n",
        "    if 2**3 == 6:\n",
        "        print(\"Math really works!\")\n",
        "    else:\n",
        "        print(\"Math sometimes works..\")\n",
        "else:\n",
        "    print(\"Math doesn't work\")"
      ],
      "id": "f25173a6",
      "execution_count": null,
      "outputs": []
    },
    {
      "cell_type": "markdown",
      "metadata": {},
      "source": [
        "::: fragment\n"
      ],
      "id": "065b4659"
    },
    {
      "cell_type": "code",
      "metadata": {},
      "source": [
        "#| echo: false\n",
        "if 1 / 3 + 1 / 3 + 1 / 3 == 1:\n",
        "    if 2**3 == 6:\n",
        "        print(\"Math really works!\")\n",
        "    else:\n",
        "        print(\"Math sometimes works..\")\n",
        "else:\n",
        "    print(\"Math doesn't work\")"
      ],
      "id": "dcf20c1d",
      "execution_count": null,
      "outputs": []
    },
    {
      "cell_type": "markdown",
      "metadata": {},
      "source": [
        ":::\n",
        "\n",
        "\n",
        "\n",
        "What does this print out?\n"
      ],
      "id": "ab4c8aa1"
    },
    {
      "cell_type": "code",
      "metadata": {},
      "source": [
        "#| eval: false\n",
        "count = 0\n",
        "for i in range(1, 10):\n",
        "    count += i\n",
        "    if i > 3:\n",
        "        break\n",
        "print(count)"
      ],
      "id": "a075198d",
      "execution_count": null,
      "outputs": []
    },
    {
      "cell_type": "markdown",
      "metadata": {},
      "source": [
        "::: fragment\n"
      ],
      "id": "c96859a2"
    },
    {
      "cell_type": "code",
      "metadata": {},
      "source": [
        "#| echo: false\n",
        "count = 0\n",
        "for i in range(1, 10):\n",
        "    count += i\n",
        "    if i > 3:\n",
        "        break\n",
        "print(count)"
      ],
      "id": "40e2ad40",
      "execution_count": null,
      "outputs": []
    },
    {
      "cell_type": "markdown",
      "metadata": {},
      "source": [
        ":::\n",
        "\n",
        "## Debugging the quiz code\n"
      ],
      "id": "f856b67a"
    },
    {
      "cell_type": "code",
      "metadata": {},
      "source": [
        "count = 0\n",
        "for i in range(1, 10):\n",
        "    count += i\n",
        "    print(f\"After i={i} count={count}\")\n",
        "    if i > 3:\n",
        "        break"
      ],
      "id": "1d0efd3e",
      "execution_count": null,
      "outputs": []
    },
    {
      "cell_type": "markdown",
      "metadata": {},
      "source": [
        "# Python Functions {visibility=\"uncounted\"}\n",
        "\n",
        "## Making a function\n"
      ],
      "id": "e5ba51aa"
    },
    {
      "cell_type": "code",
      "metadata": {},
      "source": [
        "def add_one(x):\n",
        "    return x + 1\n",
        "\n",
        "\n",
        "def greet_a_student(name):\n",
        "    print(f\"Hi {name}, welcome to the AI class!\")"
      ],
      "id": "8c12156a",
      "execution_count": null,
      "outputs": []
    },
    {
      "cell_type": "code",
      "metadata": {},
      "source": [
        "add_one(10)"
      ],
      "id": "ece83974",
      "execution_count": null,
      "outputs": []
    },
    {
      "cell_type": "code",
      "metadata": {},
      "source": [
        "greet_a_student(\"Josephine\")"
      ],
      "id": "03f89e59",
      "execution_count": null,
      "outputs": []
    },
    {
      "cell_type": "code",
      "metadata": {},
      "source": [
        "greet_a_student(\"Joseph\")"
      ],
      "id": "9c31c284",
      "execution_count": null,
      "outputs": []
    },
    {
      "cell_type": "markdown",
      "metadata": {},
      "source": [
        "::: {.callout-aside}\n",
        "Here, `name` is a _parameter_ and the value supplied is an _argument_.\n",
        ":::\n",
        "\n",
        "## Default arguments\n"
      ],
      "id": "6c79a55e"
    },
    {
      "cell_type": "code",
      "metadata": {},
      "source": [
        "#| echo: false\n",
        "import numpy.random as rnd\n",
        "\n",
        "rnd.seed(1234)\n",
        "simulate_standard_normal = rnd.normal"
      ],
      "id": "c40e1850",
      "execution_count": null,
      "outputs": []
    },
    {
      "cell_type": "markdown",
      "metadata": {},
      "source": [
        "Assuming we have `simulate_standard_normal`,\n",
        "a function to generate $\\mathrm{Normal}(0, 1)$ variables:\n"
      ],
      "id": "2a0e42e3"
    },
    {
      "cell_type": "code",
      "metadata": {},
      "source": [
        "def simulate_normal(mean=0, std=1):\n",
        "    return mean + std * simulate_standard_normal()"
      ],
      "id": "4cb2e2b2",
      "execution_count": null,
      "outputs": []
    },
    {
      "cell_type": "code",
      "metadata": {},
      "source": [
        "simulate_normal()  # same as 'simulate_normal(0, 1)'"
      ],
      "id": "096375c0",
      "execution_count": null,
      "outputs": []
    },
    {
      "cell_type": "code",
      "metadata": {},
      "source": [
        "simulate_normal(1_000)  # same as 'simulate_normal(1_000, 1)'"
      ],
      "id": "61c7224c",
      "execution_count": null,
      "outputs": []
    },
    {
      "cell_type": "markdown",
      "metadata": {},
      "source": [
        "::: {.callout-note}\n",
        "We'll cover random numbers next week (using `numpy`).\n",
        ":::\n",
        "\n",
        "## Use explicit parameter name\n"
      ],
      "id": "006a579d"
    },
    {
      "cell_type": "code",
      "metadata": {},
      "source": [
        "simulate_normal(mean=1_000)  # same as 'simulate_normal(1_000, 1)'"
      ],
      "id": "f2c75da8",
      "execution_count": null,
      "outputs": []
    },
    {
      "cell_type": "code",
      "metadata": {},
      "source": [
        "simulate_normal(std=1_000)  # same as 'simulate_normal(0, 1_000)'"
      ],
      "id": "abca33c6",
      "execution_count": null,
      "outputs": []
    },
    {
      "cell_type": "code",
      "metadata": {},
      "source": [
        "simulate_normal(10, std=0.001)  # same as 'simulate_normal(10, 0.001)'"
      ],
      "id": "94a6e115",
      "execution_count": null,
      "outputs": []
    },
    {
      "cell_type": "code",
      "metadata": {},
      "source": [
        "#| error: true\n",
        "simulate_normal(std=10, 1_000)"
      ],
      "id": "82352ff1",
      "execution_count": null,
      "outputs": []
    },
    {
      "cell_type": "markdown",
      "metadata": {},
      "source": [
        "## Why would we need that?\n",
        "\n",
        "E.g. to fit a Keras model, we use the `.fit` method:\n"
      ],
      "id": "ba19184f"
    },
    {
      "cell_type": "code",
      "metadata": {},
      "source": [
        "#| eval: false\n",
        "model.fit(x=None, y=None, batch_size=None, epochs=1, verbose='auto',\n",
        "        callbacks=None, validation_split=0.0, validation_data=None,\n",
        "        shuffle=True, class_weight=None, sample_weight=None,\n",
        "        initial_epoch=0, steps_per_epoch=None, validation_steps=None,\n",
        "        validation_batch_size=None, validation_freq=1,\n",
        "        max_queue_size=10, workers=1, use_multiprocessing=False)"
      ],
      "id": "b1d9e2d0",
      "execution_count": null,
      "outputs": []
    },
    {
      "cell_type": "markdown",
      "metadata": {},
      "source": [
        "Say we want all the defaults except changing `use_multiprocessing=True`:\n"
      ],
      "id": "6222d5fe"
    },
    {
      "cell_type": "code",
      "metadata": {},
      "source": [
        "#| eval: false\n",
        "model.fit(None, None, None, 1, 'auto', None, 0.0, None, True, None,\n",
        "        None, 0, None, None, None, 1, 10, 1, True)"
      ],
      "id": "2bcee76e",
      "execution_count": null,
      "outputs": []
    },
    {
      "cell_type": "markdown",
      "metadata": {},
      "source": [
        "but it is _much nicer_ to just have:\n"
      ],
      "id": "8032b64c"
    },
    {
      "cell_type": "code",
      "metadata": {},
      "source": [
        "#| eval: false\n",
        "model.fit(use_multiprocessing=True)"
      ],
      "id": "7f50d124",
      "execution_count": null,
      "outputs": []
    },
    {
      "cell_type": "markdown",
      "metadata": {},
      "source": [
        "## Quiz\n",
        "\n",
        "What does the following print out?\n"
      ],
      "id": "a5254d81"
    },
    {
      "cell_type": "code",
      "metadata": {},
      "source": [
        "#| eval: false\n",
        "def get_half_of_list(numbers, first=True):\n",
        "    if first:\n",
        "        return numbers[: len(numbers) // 2]\n",
        "    else:\n",
        "        return numbers[len(numbers) // 2 :]\n",
        "\n",
        "nums = [1, 2, 3, 4, 5, 6]\n",
        "chunk = get_half_of_list(nums, False)\n",
        "second_chunk = get_half_of_list(chunk)\n",
        "print(second_chunk)"
      ],
      "id": "6b6a2775",
      "execution_count": null,
      "outputs": []
    },
    {
      "cell_type": "markdown",
      "metadata": {},
      "source": [
        "::: fragment\n"
      ],
      "id": "f4d39ca4"
    },
    {
      "cell_type": "code",
      "metadata": {},
      "source": [
        "#| echo: false\n",
        "def get_half_of_list(numbers, first=True):\n",
        "    if first:\n",
        "        return numbers[: len(numbers) // 2]\n",
        "    else:\n",
        "        return numbers[len(numbers) // 2 :]\n",
        "\n",
        "nums = [1, 2, 3, 4, 5, 6]\n",
        "chunk = get_half_of_list(nums, False)\n",
        "second_chunk = get_half_of_list(chunk)\n",
        "print(second_chunk)"
      ],
      "id": "2e4b28ea",
      "execution_count": null,
      "outputs": []
    },
    {
      "cell_type": "markdown",
      "metadata": {},
      "source": [
        ":::\n",
        "\n",
        "::: fragment\n"
      ],
      "id": "90b89e40"
    },
    {
      "cell_type": "code",
      "metadata": {},
      "source": [
        "f\"nums ~> {nums[:len(nums)//2]} and {nums[len(nums)//2:]}\""
      ],
      "id": "b36a052a",
      "execution_count": null,
      "outputs": []
    },
    {
      "cell_type": "code",
      "metadata": {},
      "source": [
        "f\"chunk ~> {chunk[:len(chunk)//2]} and {chunk[len(chunk)//2:]}\""
      ],
      "id": "486a24a5",
      "execution_count": null,
      "outputs": []
    },
    {
      "cell_type": "markdown",
      "metadata": {},
      "source": [
        ":::\n",
        "\n",
        "## Multiple return values\n"
      ],
      "id": "53f5e357"
    },
    {
      "cell_type": "code",
      "metadata": {},
      "source": [
        "def limits(numbers):\n",
        "    return min(numbers), max(numbers)\n",
        "\n",
        "limits([1, 2, 3, 4, 5])"
      ],
      "id": "dae34496",
      "execution_count": null,
      "outputs": []
    },
    {
      "cell_type": "code",
      "metadata": {},
      "source": [
        "type(limits([1, 2, 3, 4, 5]))"
      ],
      "id": "ea74d4f8",
      "execution_count": null,
      "outputs": []
    },
    {
      "cell_type": "code",
      "metadata": {},
      "source": [
        "min_num, max_num = limits([1, 2, 3, 4, 5])\n",
        "print(f\"The numbers are between {min_num} and {max_num}.\")"
      ],
      "id": "e157bc37",
      "execution_count": null,
      "outputs": []
    },
    {
      "cell_type": "code",
      "metadata": {},
      "source": [
        "_, max_num = limits([1, 2, 3, 4, 5])\n",
        "print(f\"The maximum is {max_num}.\")"
      ],
      "id": "98ee2a07",
      "execution_count": null,
      "outputs": []
    },
    {
      "cell_type": "code",
      "metadata": {},
      "source": [
        "print(f\"The maximum is {limits([1, 2, 3, 4, 5])[1]}.\")"
      ],
      "id": "0eb96231",
      "execution_count": null,
      "outputs": []
    },
    {
      "cell_type": "markdown",
      "metadata": {},
      "source": [
        "## Tuple unpacking\n"
      ],
      "id": "51df5588"
    },
    {
      "cell_type": "code",
      "metadata": {},
      "source": [
        "lims = limits([1, 2, 3, 4, 5])\n",
        "smallest_num = lims[0]\n",
        "largest_num = lims[1]\n",
        "print(f\"The numbers are between {smallest_num} and {largest_num}.\")"
      ],
      "id": "ed5865d9",
      "execution_count": null,
      "outputs": []
    },
    {
      "cell_type": "code",
      "metadata": {},
      "source": [
        "smallest_num, largest_num = limits([1, 2, 3, 4, 5])\n",
        "print(f\"The numbers are between {smallest_num} and {largest_num}.\")"
      ],
      "id": "f4b14f96",
      "execution_count": null,
      "outputs": []
    },
    {
      "cell_type": "markdown",
      "metadata": {},
      "source": [
        "This doesn't just work for functions with multiple return values:\n"
      ],
      "id": "2dafa260"
    },
    {
      "cell_type": "code",
      "metadata": {},
      "source": [
        "RESOLUTION = (1920, 1080)\n",
        "WIDTH, HEIGHT = RESOLUTION\n",
        "print(f\"The resolution is {WIDTH} wide and {HEIGHT} tall.\")"
      ],
      "id": "d83c56ec",
      "execution_count": null,
      "outputs": []
    },
    {
      "cell_type": "markdown",
      "metadata": {},
      "source": [
        "## Short-circuiting\n"
      ],
      "id": "4ef8d9c9"
    },
    {
      "cell_type": "code",
      "metadata": {},
      "source": [
        "def is_positive(x):\n",
        "    print(\"Called is_positive\")\n",
        "    return x > 0\n",
        "\n",
        "def is_negative(x):\n",
        "    print(\"Called is_negative\")\n",
        "    return x < 0\n",
        "\n",
        "x = 10"
      ],
      "id": "d27b14cd",
      "execution_count": null,
      "outputs": []
    },
    {
      "cell_type": "markdown",
      "metadata": {},
      "source": [
        "::: columns\n",
        "::: column\n"
      ],
      "id": "55ac5d28"
    },
    {
      "cell_type": "code",
      "metadata": {},
      "source": [
        "x_is_positive = is_positive(x)\n",
        "x_is_positive"
      ],
      "id": "d97045da",
      "execution_count": null,
      "outputs": []
    },
    {
      "cell_type": "markdown",
      "metadata": {},
      "source": [
        ":::\n",
        "::: column\n"
      ],
      "id": "80ba6d35"
    },
    {
      "cell_type": "code",
      "metadata": {},
      "source": [
        "x_is_negative = is_negative(x)\n",
        "x_is_negative"
      ],
      "id": "d2204a48",
      "execution_count": null,
      "outputs": []
    },
    {
      "cell_type": "markdown",
      "metadata": {},
      "source": [
        ":::\n",
        ":::\n"
      ],
      "id": "17f90bd0"
    },
    {
      "cell_type": "code",
      "metadata": {},
      "source": [
        "x_not_zero = is_positive(x) or is_negative(x)\n",
        "x_not_zero"
      ],
      "id": "147f72f9",
      "execution_count": null,
      "outputs": []
    },
    {
      "cell_type": "markdown",
      "metadata": {},
      "source": [
        "# Import syntax {visibility=\"uncounted\"}\n",
        "\n",
        "## Python standard library\n"
      ],
      "id": "8f3f751e"
    },
    {
      "cell_type": "code",
      "metadata": {},
      "source": [
        "import os\n",
        "import time"
      ],
      "id": "a4c0cc6d",
      "execution_count": null,
      "outputs": []
    },
    {
      "cell_type": "code",
      "metadata": {},
      "source": [
        "time.sleep(0.1)"
      ],
      "id": "b5a4b38a",
      "execution_count": null,
      "outputs": []
    },
    {
      "cell_type": "code",
      "metadata": {},
      "source": [
        "os.getlogin()"
      ],
      "id": "4316ed09",
      "execution_count": null,
      "outputs": []
    },
    {
      "cell_type": "code",
      "metadata": {},
      "source": [
        "os.getcwd()"
      ],
      "id": "0980ea54",
      "execution_count": null,
      "outputs": []
    },
    {
      "cell_type": "markdown",
      "metadata": {},
      "source": [
        "## Import a few functions\n"
      ],
      "id": "c69d68f7"
    },
    {
      "cell_type": "code",
      "metadata": {},
      "source": [
        "from os import getcwd, getlogin\n",
        "from time import sleep"
      ],
      "id": "4e77bc64",
      "execution_count": null,
      "outputs": []
    },
    {
      "cell_type": "code",
      "metadata": {},
      "source": [
        "sleep(0.1)"
      ],
      "id": "d4eff262",
      "execution_count": null,
      "outputs": []
    },
    {
      "cell_type": "code",
      "metadata": {},
      "source": [
        "getlogin()"
      ],
      "id": "eba32f2d",
      "execution_count": null,
      "outputs": []
    },
    {
      "cell_type": "code",
      "metadata": {},
      "source": [
        "getcwd()"
      ],
      "id": "32b3bdb6",
      "execution_count": null,
      "outputs": []
    },
    {
      "cell_type": "markdown",
      "metadata": {},
      "source": [
        "## Timing using pure Python\n"
      ],
      "id": "7c19f378"
    },
    {
      "cell_type": "code",
      "metadata": {},
      "source": [
        "from time import time\n",
        "\n",
        "start_time = time()\n",
        "\n",
        "counting = 0\n",
        "for i in range(1_000_000):\n",
        "    counting += 1\n",
        "\n",
        "end_time = time()\n",
        "\n",
        "elapsed = end_time - start_time\n",
        "print(f\"Elapsed time: {elapsed} secs\")"
      ],
      "id": "829acacd",
      "execution_count": null,
      "outputs": []
    },
    {
      "cell_type": "markdown",
      "metadata": {},
      "source": [
        "## Data science packages\n",
        "\n",
        "![Common data science packages](python-data-science-packages.png)\n",
        "\n",
        "::: footer\n",
        "Source: Learnbay.co, [Python libraries for data analysis and modeling in Data science](https://medium.com/@learnbay/python-libraries-for-data-analysis-and-modeling-in-data-science-c5c994208385), Medium.\n",
        ":::\n",
        "\n",
        "## Importing using `as`\n",
        "\n",
        "::: columns\n",
        "::: column"
      ],
      "id": "09e07889"
    },
    {
      "cell_type": "code",
      "metadata": {},
      "source": [
        "import pandas\n",
        "\n",
        "pandas.DataFrame(\n",
        "    {\n",
        "        \"x\": [1, 2, 3],\n",
        "        \"y\": [4, 5, 6],\n",
        "    }\n",
        ")"
      ],
      "id": "46c40083",
      "execution_count": null,
      "outputs": []
    },
    {
      "cell_type": "markdown",
      "metadata": {},
      "source": [
        ":::\n",
        "::: column"
      ],
      "id": "859befb8"
    },
    {
      "cell_type": "code",
      "metadata": {},
      "source": [
        "import pandas as pd\n",
        "\n",
        "pd.DataFrame(\n",
        "    {\n",
        "        \"x\": [1, 2, 3],\n",
        "        \"y\": [4, 5, 6],\n",
        "    }\n",
        ")"
      ],
      "id": "2b5f5391",
      "execution_count": null,
      "outputs": []
    },
    {
      "cell_type": "markdown",
      "metadata": {},
      "source": [
        ":::\n",
        ":::\n",
        "\n",
        "\n",
        "\n",
        "## Importing from a subdirectory\n",
        "\n",
        "Want `keras.models.Sequential()`.\n"
      ],
      "id": "01741e65"
    },
    {
      "cell_type": "code",
      "metadata": {},
      "source": [
        "#| output: false\n",
        "import keras\n",
        "\n",
        "model = keras.models.Sequential()"
      ],
      "id": "db5c920c",
      "execution_count": null,
      "outputs": []
    },
    {
      "cell_type": "markdown",
      "metadata": {},
      "source": [
        "Alternatives using `from`:\n"
      ],
      "id": "4fa61337"
    },
    {
      "cell_type": "code",
      "metadata": {},
      "source": [
        "from keras import models\n",
        "\n",
        "model = models.Sequential()"
      ],
      "id": "67451272",
      "execution_count": null,
      "outputs": []
    },
    {
      "cell_type": "code",
      "metadata": {},
      "source": [
        "from keras.models import Sequential\n",
        "\n",
        "model = Sequential()"
      ],
      "id": "6dc50216",
      "execution_count": null,
      "outputs": []
    },
    {
      "cell_type": "markdown",
      "metadata": {},
      "source": [
        "# Lambda functions {visibility=\"uncounted\"}\n",
        "\n",
        "## Anonymous 'lambda' functions {auto-animate=\"true\"}\n",
        "\n",
        "Example: how to sort strings by their second letter?\n"
      ],
      "id": "1156e3ed"
    },
    {
      "cell_type": "code",
      "metadata": {},
      "source": [
        "names = [\"Josephine\", \"Patrick\", \"Bert\"]"
      ],
      "id": "ccca40ac",
      "execution_count": null,
      "outputs": []
    },
    {
      "cell_type": "markdown",
      "metadata": {},
      "source": [
        "If you try `help(sorted)` you'll find the `key` parameter.\n"
      ],
      "id": "692dae9b"
    },
    {
      "cell_type": "code",
      "metadata": {},
      "source": [
        "for name in names:\n",
        "    print(f\"The length of '{name}' is {len(name)}.\")"
      ],
      "id": "8b0611a7",
      "execution_count": null,
      "outputs": []
    },
    {
      "cell_type": "code",
      "metadata": {},
      "source": [
        "sorted(names, key=len)"
      ],
      "id": "fd95406d",
      "execution_count": null,
      "outputs": []
    },
    {
      "cell_type": "markdown",
      "metadata": {},
      "source": [
        "## Anonymous 'lambda' functions {auto-animate=\"true\"}\n",
        "\n",
        "Example: how to sort strings by their second letter?"
      ],
      "id": "591c304f"
    },
    {
      "cell_type": "code",
      "metadata": {},
      "source": [
        "names = [\"Josephine\", \"Patrick\", \"Bert\"]"
      ],
      "id": "2b2b8af7",
      "execution_count": null,
      "outputs": []
    },
    {
      "cell_type": "markdown",
      "metadata": {},
      "source": [
        "If you try `help(sorted)` you'll find the `key` parameter.\n"
      ],
      "id": "155c8bfd"
    },
    {
      "cell_type": "code",
      "metadata": {},
      "source": [
        "def second_letter(name):\n",
        "    return name[1]"
      ],
      "id": "7753870e",
      "execution_count": null,
      "outputs": []
    },
    {
      "cell_type": "code",
      "metadata": {},
      "source": [
        "for name in names:\n",
        "    print(f\"The second letter of '{name}' is '{second_letter(name)}'.\")"
      ],
      "id": "c976b9b1",
      "execution_count": null,
      "outputs": []
    },
    {
      "cell_type": "code",
      "metadata": {},
      "source": [
        "sorted(names, key=second_letter)"
      ],
      "id": "8c74dbdc",
      "execution_count": null,
      "outputs": []
    },
    {
      "cell_type": "markdown",
      "metadata": {},
      "source": [
        "## Anonymous 'lambda' functions {auto-animate=\"true\"}\n",
        "\n",
        "Example: how to sort strings by their second letter?"
      ],
      "id": "9c53ef43"
    },
    {
      "cell_type": "code",
      "metadata": {},
      "source": [
        "names = [\"Josephine\", \"Patrick\", \"Bert\"]"
      ],
      "id": "d91f9380",
      "execution_count": null,
      "outputs": []
    },
    {
      "cell_type": "markdown",
      "metadata": {},
      "source": [
        "If you try `help(sorted)` you'll find the `key` parameter.\n"
      ],
      "id": "e1fec8bf"
    },
    {
      "cell_type": "code",
      "metadata": {},
      "source": [
        "sorted(names, key=lambda name: name[1])"
      ],
      "id": "11712140",
      "execution_count": null,
      "outputs": []
    },
    {
      "cell_type": "markdown",
      "metadata": {},
      "source": [
        "::: fragment\n",
        "\n",
        "::: callout-caution\n",
        "Don't use `lambda` as a variable name!\n",
        "You commonly see `lambd` or `lambda_` or `λ`.\n",
        ":::\n",
        "\n",
        ":::\n",
        "\n",
        "\n",
        "\n",
        "## with keyword\n",
        "\n",
        "Example, opening a file:\n",
        "\n",
        "::: columns\n",
        "::: column\n",
        "Most basic way is:\n"
      ],
      "id": "f88c73c9"
    },
    {
      "cell_type": "code",
      "metadata": {},
      "source": [
        "f = open(\"haiku1.txt\", \"r\")\n",
        "print(f.read())\n",
        "f.close()"
      ],
      "id": "9fbd7e88",
      "execution_count": null,
      "outputs": []
    },
    {
      "cell_type": "markdown",
      "metadata": {},
      "source": [
        ":::\n",
        "::: column\n",
        "Instead, use:\n"
      ],
      "id": "eef110de"
    },
    {
      "cell_type": "code",
      "metadata": {},
      "source": [
        "with open(\"haiku2.txt\", \"r\") as f:\n",
        "    print(f.read())"
      ],
      "id": "bb6662a1",
      "execution_count": null,
      "outputs": []
    },
    {
      "cell_type": "markdown",
      "metadata": {},
      "source": [
        ":::\n",
        ":::\n",
        "\n",
        "::: footer\n",
        "Haikus from http://www.libertybasicuniversity.com/lbnews/nl107/haiku.htm\n",
        ":::\n",
        "\n",
        "## Package Versions {.appendix data-visibility=\"uncounted\"}\n"
      ],
      "id": "d9e7d6c0"
    },
    {
      "cell_type": "code",
      "metadata": {},
      "source": [
        "from watermark import watermark\n",
        "print(watermark(python=True, packages=\"keras,matplotlib,numpy,pandas,seaborn,scipy,torch,tensorflow,tf_keras\"))"
      ],
      "id": "5e394590",
      "execution_count": null,
      "outputs": []
    },
    {
      "cell_type": "markdown",
      "metadata": {},
      "source": [
        "## Links {.appendix data-visibility=\"uncounted\"}\n",
        "\n",
        "If you came from C (i.e. are a joint computer science student), and were super interested in Python's internals, maybe you'd be interested in this [How variables work in Python](https://youtu.be/0Om2gYU6clE?si=fdy_YpWbvfti8ZoD) video.\n",
        "\n",
        "## Glossary {.appendix data-visibility=\"uncounted\"}\n",
        "\n",
        "::: columns\n",
        "::: column\n",
        "\n",
        "- default arguments\n",
        "- dictionaries\n",
        "- f-strings\n",
        "- function definitions\n",
        "- Google Colaboratory\n",
        "- `help`\n",
        "- list\n",
        "\n",
        ":::\n",
        "::: column\n",
        "\n",
        "- `pip install ...`\n",
        "- `range`\n",
        "- slicing\n",
        "- tuple\n",
        "- `type`\n",
        "- whitespace indentation\n",
        "- zero-indexing\n",
        "\n",
        ":::\n",
        ":::"
      ],
      "id": "01b92dbd"
    }
  ],
  "metadata": {
    "kernelspec": {
      "name": "python2",
      "language": "python",
      "display_name": "Python 2"
    }
  },
  "nbformat": 4,
  "nbformat_minor": 5
}