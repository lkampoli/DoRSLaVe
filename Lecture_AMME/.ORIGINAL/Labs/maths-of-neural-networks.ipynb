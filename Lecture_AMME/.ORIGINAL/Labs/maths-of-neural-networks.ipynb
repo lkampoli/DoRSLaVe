{
  "cells": [
    {
      "cell_type": "markdown",
      "metadata": {
        "id": "8O7Gk7OXKZCo"
      },
      "source": [
        "#Forward Pass"
      ]
    },
    {
      "cell_type": "markdown",
      "metadata": {
        "id": "vxjpmh2yKcZG"
      },
      "source": [
        "##Example"
      ]
    },
    {
      "cell_type": "code",
      "execution_count": 1,
      "metadata": {
        "colab": {
          "base_uri": "https://localhost:8080/"
        },
        "id": "y1Ghra6NJm-e",
        "outputId": "fb3124d5-169b-4e80-fc5e-a7b4ca377548"
      },
      "outputs": [
        {
          "output_type": "stream",
          "name": "stdout",
          "text": [
            "[[1]\n",
            " [8]]\n"
          ]
        }
      ],
      "source": [
        "import numpy as np\n",
        "X = np.array([[1, 2], [3, -1]])\n",
        "w = np.array([[2], [-1]])\n",
        "b = np.array([[1], [1]])\n",
        "print(X @ w + b)"
      ]
    },
    {
      "cell_type": "markdown",
      "metadata": {
        "id": "VCYz26KqKXw7"
      },
      "source": [
        "#Activation Function"
      ]
    },
    {
      "cell_type": "markdown",
      "metadata": {
        "id": "Xw9SEQC7uODL"
      },
      "source": [
        "##Example"
      ]
    },
    {
      "cell_type": "code",
      "execution_count": 2,
      "metadata": {
        "id": "1FvNsLz_5bbm"
      },
      "outputs": [],
      "source": [
        "def softmax(z):\n",
        "  exp_scores = np.exp(z)\n",
        "  sum_exp_scores = np.sum(exp_scores, axis=1, keepdims=True)\n",
        "\n",
        "  # Compute the softmax probabilities by dividing each element by the sum\n",
        "  softmax_probs = exp_scores / sum_exp_scores\n",
        "  return softmax_probs\n",
        "\n",
        "def sigmoid(z):\n",
        "  return(1/(1+np.exp(-z)))\n",
        "\n",
        "def tanh(z):\n",
        "  return((np.exp(2*z)-1)/(np.exp(2*z)+1))\n",
        "\n",
        "def relu(z):\n",
        "  return(np.maximum(0, z))\n"
      ]
    },
    {
      "cell_type": "code",
      "execution_count": 3,
      "metadata": {
        "colab": {
          "base_uri": "https://localhost:8080/"
        },
        "id": "RGAwYenYkHkV",
        "outputId": "330b1af8-8b49-4671-c608-85ccb7b9947c"
      },
      "outputs": [
        {
          "output_type": "stream",
          "name": "stdout",
          "text": [
            "[[1.]\n",
            " [1.]]\n",
            "[[0.73105858]\n",
            " [0.99966465]]\n",
            "[[0.76159416]\n",
            " [0.99999977]]\n",
            "[[1]\n",
            " [8]]\n"
          ]
        }
      ],
      "source": [
        "z = np.array([[1], [8]])\n",
        "for activation in [softmax, sigmoid, tanh, relu]:\n",
        "  print(activation(z))"
      ]
    },
    {
      "cell_type": "markdown",
      "metadata": {
        "id": "9Dofiao3uDWh"
      },
      "source": [
        "#Final Outputs"
      ]
    },
    {
      "cell_type": "markdown",
      "metadata": {
        "id": "DkXbrZ8guG92"
      },
      "source": [
        "##Example"
      ]
    },
    {
      "cell_type": "code",
      "execution_count": 4,
      "metadata": {
        "colab": {
          "base_uri": "https://localhost:8080/"
        },
        "id": "pvvQRk2duGfD",
        "outputId": "534bfb01-f4f9-4ccb-8f17-b0766e3085b6"
      },
      "outputs": [
        {
          "output_type": "stream",
          "name": "stdout",
          "text": [
            "[[0.77816418 0.83451912]]\n",
            "[[0.52647369 0.47352631]]\n"
          ]
        }
      ],
      "source": [
        "X = np.array([[0.29, 0.11, 0.80]])\n",
        "w1 = np.array([[0.3, 0.6],\n",
        "               [0.8, 0.4],\n",
        "               [0.1, 0.5]])\n",
        "w2 = np.array([[0.1, 0.5],\n",
        "               [0.7, 0.2]])\n",
        "b1 = np.array([[1.0, 1.0]])\n",
        "b2 = np.array([[1.0, 1.0]])\n",
        "\n",
        "z1 = sigmoid(X @ w1 + b1)\n",
        "print(z1)\n",
        "\n",
        "z2 = softmax(z1 @ w2 + b2)\n",
        "print(z2)"
      ]
    },
    {
      "cell_type": "code",
      "execution_count": 5,
      "metadata": {
        "colab": {
          "base_uri": "https://localhost:8080/"
        },
        "id": "RAE9Ff2o_O-n",
        "outputId": "2ba51fac-30e0-43dc-f7b9-9cf7a3714295"
      },
      "outputs": [
        {
          "output_type": "stream",
          "name": "stdout",
          "text": [
            "[0.5265, 0.4735]\n"
          ]
        }
      ],
      "source": [
        "print([round(prob, 4) for prob in z2[0]])\n",
        "#The neural network would predict Yes! (with probability 52.65%)"
      ]
    },
    {
      "cell_type": "markdown",
      "metadata": {
        "id": "lBqMs-74vf3S"
      },
      "source": [
        "#Optimisation"
      ]
    },
    {
      "cell_type": "markdown",
      "metadata": {
        "id": "m_BDvg6Gvg2x"
      },
      "source": [
        "##Example"
      ]
    },
    {
      "cell_type": "code",
      "execution_count": 6,
      "metadata": {
        "colab": {
          "base_uri": "https://localhost:8080/"
        },
        "id": "9E2NtnQDngbC",
        "outputId": "4e555ed5-2bac-4b03-8115-3939a417d7b6"
      },
      "outputs": [
        {
          "output_type": "stream",
          "name": "stdout",
          "text": [
            "[[ 1.   2. ]\n",
            " [ 3.   1. ]\n",
            " [ 1.   1. ]\n",
            " [ 0.   1. ]\n",
            " [ 2.   2. ]\n",
            " [-2.   3. ]\n",
            " [ 1.   2. ]\n",
            " [-1.  -0.5]\n",
            " [ 0.5  1.2]\n",
            " [ 2.   1. ]\n",
            " [-2.   3. ]\n",
            " [-1.   1. ]]\n",
            "[[ 4.6 ]\n",
            " [ 6.1 ]\n",
            " [ 3.1 ]\n",
            " [ 1.6 ]\n",
            " [ 6.1 ]\n",
            " [ 1.6 ]\n",
            " [ 4.6 ]\n",
            " [-2.15]\n",
            " [ 2.65]\n",
            " [ 4.6 ]\n",
            " [ 1.6 ]\n",
            " [ 0.1 ]]\n"
          ]
        }
      ],
      "source": [
        "# Make up (arbitrarily) 12 observations with two features.\n",
        "X = np.array([[1, 2],\n",
        "              [3, 1],\n",
        "              [1, 1],\n",
        "              [0, 1],\n",
        "              [2, 2],\n",
        "              [-2, 3],\n",
        "              [1, 2],\n",
        "              [-1, -0.5],\n",
        "              [0.5, 1.2],\n",
        "              [2, 1],\n",
        "              [-2, 3],\n",
        "              [-1, 1]\n",
        "              ])\n",
        "\n",
        "w_true = np.array([[1.5], [1.5]])\n",
        "b_true = 0.1\n",
        "\n",
        "y = X @ w_true + b_true\n",
        "print(X); print(y)"
      ]
    },
    {
      "cell_type": "code",
      "execution_count": 7,
      "metadata": {
        "colab": {
          "base_uri": "https://localhost:8080/"
        },
        "id": "G37wR1QllkFs",
        "outputId": "f83fca9f-e118-4658-c56e-66f955d24495"
      },
      "outputs": [
        {
          "output_type": "stream",
          "name": "stdout",
          "text": [
            "[[-6.        ]\n",
            " [-4.26666667]]\n",
            "-3.1999999999999993\n"
          ]
        }
      ],
      "source": [
        "#number of rows == number of observations in the batch\n",
        "X_batch = X[:3]\n",
        "y_batch = y[:3]\n",
        "N = X_batch.shape[0]\n",
        "w = np.array([[1], [1]])\n",
        "b = 0\n",
        "\n",
        "#Gradients\n",
        "y_hat = X_batch @ w + b\n",
        "dw = 2/N * X_batch.T @ (y_hat - y_batch)\n",
        "db = 2/N * np.sum(y_hat - y_batch)\n",
        "print(dw); print(db)"
      ]
    },
    {
      "cell_type": "code",
      "execution_count": 8,
      "metadata": {
        "colab": {
          "base_uri": "https://localhost:8080/"
        },
        "id": "Z6kyeeAaufB-",
        "outputId": "38359ef5-b1de-498b-b456-8dbb2ba3f4d1"
      },
      "outputs": [
        {
          "output_type": "stream",
          "name": "stdout",
          "text": [
            "[[1.6       ]\n",
            " [1.42666667]]\n",
            "0.31999999999999995\n"
          ]
        }
      ],
      "source": [
        "#specify a learning rate to update\n",
        "eta = 0.1\n",
        "w = w - eta * dw\n",
        "b = b - eta * db\n",
        "print(w); print(b)"
      ]
    },
    {
      "cell_type": "code",
      "execution_count": 16,
      "metadata": {
        "colab": {
          "base_uri": "https://localhost:8080/"
        },
        "id": "LFq5Xb26nSNK",
        "outputId": "0700b3af-9d34-4a12-c7be-a343781b2afa",
        "collapsed": true
      },
      "outputs": [
        {
          "output_type": "stream",
          "name": "stdout",
          "text": [
            "[[1.49988073]\n",
            " [1.49929975]]\n",
            "0.10118102139430363\n"
          ]
        }
      ],
      "source": [
        "#loss function\n",
        "def mse(y_pred, y_true):\n",
        "  return(np.mean((y_pred-y_true)**2))\n",
        "\n",
        "def lr_gradient_descent(X, y, batch_size=32, eta=0.1, w=None, b=None, max_iter=100, tol=1e-08):\n",
        "    \"\"\"\n",
        "    Gradient descent optimization for linear regression with random batch updates.\n",
        "\n",
        "    Parameters:\n",
        "    eta: float - learning rate (default=0.1)\n",
        "    w: numpy array of shape (p, 1) - initial weights (default=ones)\n",
        "    b: float - initial bias (default=zero)\n",
        "    max_iter: int - maximum number of iterations (default=100)\n",
        "    tol: float - tolerance for stopping criteria (default=1e-08)\n",
        "\n",
        "    Returns:\n",
        "    w, b - optimized weights and bias\n",
        "    \"\"\"\n",
        "    N, p = X.shape\n",
        "\n",
        "    if w is None:\n",
        "        w = np.ones((p, 1))\n",
        "    if b is None:\n",
        "        b = 0\n",
        "\n",
        "    prev_error = np.inf\n",
        "    batch_size = min(N, batch_size)\n",
        "    num_batches = N//batch_size\n",
        "\n",
        "    for iteration in range(max_iter):\n",
        "        indices = np.arange(N)\n",
        "        np.random.shuffle(indices)\n",
        "        X_shuffled = X[indices]\n",
        "        y_shuffled = y[indices]\n",
        "\n",
        "\n",
        "        for batch in range(num_batches):\n",
        "            start = batch * batch_size\n",
        "            end = start + batch_size\n",
        "            X_batch = X_shuffled[start:end]\n",
        "            y_batch = y_shuffled[start:end]\n",
        "\n",
        "            y_hat = X_batch @ w + b\n",
        "            error = mse(y_hat.squeeze(), y_batch.squeeze())\n",
        "\n",
        "            if np.abs(error - prev_error) < tol:\n",
        "                return w, b\n",
        "\n",
        "            prev_error = error\n",
        "\n",
        "            dw = 2 / batch_size * X_batch.T @ (y_hat - y_batch)\n",
        "            db = 2 / batch_size * np.sum(y_hat - y_batch)\n",
        "\n",
        "            w -= eta * dw\n",
        "            b -= eta * db\n",
        "\n",
        "    return w, b\n",
        "\n",
        "#Default initialisation\n",
        "w_updated, b_updated = lr_gradient_descent(X, y, batch_size = 3, max_iter = 1000)\n",
        "print(w_updated); print(b_updated)"
      ]
    },
    {
      "cell_type": "code",
      "execution_count": 10,
      "metadata": {
        "colab": {
          "base_uri": "https://localhost:8080/"
        },
        "id": "tPawnCHQzfSi",
        "outputId": "3dd9ac1b-1ba1-4bd2-a84e-f4e93df3843f"
      },
      "outputs": [
        {
          "output_type": "stream",
          "name": "stdout",
          "text": [
            "[[nan]\n",
            " [nan]]\n",
            "nan\n"
          ]
        },
        {
          "output_type": "stream",
          "name": "stderr",
          "text": [
            "<ipython-input-9-a35102df3639>:3: RuntimeWarning: overflow encountered in square\n",
            "  return(np.mean((y_pred-y_true)**2))\n",
            "<ipython-input-9-a35102df3639>:46: RuntimeWarning: invalid value encountered in scalar subtract\n",
            "  if np.abs(error - prev_error) < tol:\n",
            "/usr/local/lib/python3.10/dist-packages/numpy/core/_methods.py:118: RuntimeWarning: overflow encountered in reduce\n",
            "  ret = umr_sum(arr, axis, dtype, out, keepdims, where=where)\n",
            "<ipython-input-9-a35102df3639>:51: RuntimeWarning: overflow encountered in matmul\n",
            "  dw = 2 / batch_size * X_batch.T @ (y_hat - y_batch)\n",
            "<ipython-input-9-a35102df3639>:51: RuntimeWarning: invalid value encountered in matmul\n",
            "  dw = 2 / batch_size * X_batch.T @ (y_hat - y_batch)\n",
            "<ipython-input-9-a35102df3639>:54: RuntimeWarning: invalid value encountered in subtract\n",
            "  w -= eta * dw\n"
          ]
        }
      ],
      "source": [
        "#Higher learning rate\n",
        "w_updated, b_updated = lr_gradient_descent(eta = 0.3, X = X, y = y, batch_size = 3, max_iter = 1000)\n",
        "print(w_updated); print(b_updated)"
      ]
    },
    {
      "cell_type": "code",
      "execution_count": 23,
      "metadata": {
        "colab": {
          "base_uri": "https://localhost:8080/"
        },
        "id": "TsEJHMrQpb3a",
        "outputId": "17eaad6b-73ea-457b-f188-aeb97df93049"
      },
      "outputs": [
        {
          "output_type": "stream",
          "name": "stdout",
          "text": [
            "[[1.49987491]\n",
            " [1.49949888]]\n",
            "0.10105665852631913\n"
          ]
        }
      ],
      "source": [
        "#'Good' initialisation and 'good' learning rate\n",
        "w0 = np.array([[1.4], [1.6]])\n",
        "b0 = 0.15\n",
        "w_updated, b_updated = lr_gradient_descent(eta = 0.05, X = X, y = y,\n",
        "                                           w = w0, b = b0,\n",
        "                                           batch_size = 3, max_iter = 1000)\n",
        "print(w_updated); print(b_updated)"
      ]
    },
    {
      "cell_type": "code",
      "execution_count": 20,
      "metadata": {
        "colab": {
          "base_uri": "https://localhost:8080/"
        },
        "id": "77DosONXpZ8Q",
        "outputId": "eeea30b8-1373-42dc-f0a9-bb0263cf062f"
      },
      "outputs": [
        {
          "output_type": "stream",
          "name": "stdout",
          "text": [
            "[[1.49954388]\n",
            " [1.49850416]]\n",
            "0.10330006532281537\n"
          ]
        }
      ],
      "source": [
        "#'Bad' initialisation\n",
        "w0 = np.array([[-10.], [-10.]])\n",
        "b0 = 5.0\n",
        "w_updated, b_updated = lr_gradient_descent(eta = 0.05, X = X, y = y,\n",
        "                                           w = w0, b = b0,\n",
        "                                           batch_size = 3, max_iter = 1000)\n",
        "print(w_updated); print(b_updated)"
      ]
    }
  ],
  "metadata": {
    "colab": {
      "provenance": []
    },
    "kernelspec": {
      "display_name": "Python 3",
      "name": "python3"
    },
    "language_info": {
      "name": "python"
    }
  },
  "nbformat": 4,
  "nbformat_minor": 0
}