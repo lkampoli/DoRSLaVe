{
  "cells": [
    {
      "cell_type": "raw",
      "metadata": {},
      "source": [
        "---\n",
        "title: Time Series & Recurrent Neural Networks\n",
        "keep-ipynb: true\n",
        "---"
      ],
      "id": "efcae70c"
    },
    {
      "cell_type": "code",
      "metadata": {},
      "source": [
        "#| echo: false\n",
        "#| warning: false\n",
        "import os\n",
        "\n",
        "os.environ[\"KERAS_BACKEND\"] = \"torch\"\n",
        "# os.environ[\"CUDA_VISIBLE_DEVICES\"] = \"\"\n",
        "os.environ[\"PYTORCH_ENABLE_MPS_FALLBACK\"] = \"1\"\n",
        "\n",
        "import torch\n",
        "\n",
        "torch.set_num_threads(1)\n",
        "torch.set_default_device('cpu')\n",
        "\n",
        "import matplotlib\n",
        "\n",
        "import cycler\n",
        "\n",
        "# colors = [\"#91CCCC\", \"#FF8FA9\", \"#CC91BC\", \"#3F9999\", \"#A5FFB8\"]\n",
        "# colors += [\"#4682B4\", \"#D2691E\", \"#808080\"]\n",
        "# matplotlib.pyplot.rcParams[\"axes.prop_cycle\"] = cycler.cycler(color=colors)\n",
        "\n",
        "\n",
        "def set_square_figures():\n",
        "    matplotlib.pyplot.rcParams[\"figure.figsize\"] = (2.0, 2.0)\n",
        "    # matplotlib.pyplot.rcParams['figure.figsize'] = (5.0, 3.0)\n",
        "    # matplotlib.pyplot.rcParams['figure.dpi'] = 350\n",
        "\n",
        "\n",
        "def set_rectangular_figures():\n",
        "    matplotlib.pyplot.rcParams[\"figure.figsize\"] = (5.0, 2.0)\n",
        "\n",
        "\n",
        "set_rectangular_figures()\n",
        "matplotlib.pyplot.rcParams[\"figure.dpi\"] = 350\n",
        "matplotlib.pyplot.rcParams[\"savefig.bbox\"] = \"tight\"\n",
        "matplotlib.pyplot.rcParams[\"font.family\"] = \"serif\"\n",
        "\n",
        "matplotlib.pyplot.rcParams[\"axes.spines.right\"] = False\n",
        "matplotlib.pyplot.rcParams[\"axes.spines.top\"] = False\n",
        "\n",
        "\n",
        "def square_fig():\n",
        "    return matplotlib.pyplot.figure(figsize=(2, 2), dpi=350).gca()\n",
        "\n",
        "\n",
        "def add_diagonal_line():\n",
        "    xl = matplotlib.pyplot.xlim()\n",
        "    yl = matplotlib.pyplot.ylim()\n",
        "\n",
        "    min_left = min(xl[0], yl[0])\n",
        "    max_right = max(xl[1], yl[1])\n",
        "    matplotlib.pyplot.plot(\n",
        "        [min_left, max_right], [min_left, max_right], color=\"black\", linestyle=\"--\"\n",
        "    )\n",
        "    matplotlib.pyplot.xlim([min_left, max_right])\n",
        "    matplotlib.pyplot.ylim([min_left, max_right])\n",
        "\n",
        "\n",
        "import pandas\n",
        "\n",
        "pandas.options.display.max_rows = 6\n",
        "\n",
        "import numpy\n",
        "\n",
        "numpy.set_printoptions(precision=2)\n",
        "numpy.random.seed(123)\n",
        "\n",
        "# import keras as keras\n",
        "import keras\n",
        "\n",
        "keras.utils.set_random_seed(1)"
      ],
      "id": "9c38deff",
      "execution_count": null,
      "outputs": []
    },
    {
      "cell_type": "markdown",
      "metadata": {},
      "source": [
        "::: {.content-visible unless-format=\"revealjs\"}\n"
      ],
      "id": "80a4c3b2"
    },
    {
      "cell_type": "code",
      "metadata": {},
      "source": [
        "#| code-fold: true\n",
        "#| code-summary: Show the package imports\n",
        "import random\n",
        "from pathlib import Path\n",
        "\n",
        "import matplotlib.pyplot as plt\n",
        "import numpy as np\n",
        "import pandas as pd\n",
        "\n",
        "from sklearn.linear_model import LinearRegression\n",
        "from sklearn.metrics import mean_squared_error\n",
        "\n",
        "from keras.models import Sequential\n",
        "from keras.layers import Dense, Input\n",
        "from keras.callbacks import EarlyStopping"
      ],
      "id": "0c0f9495",
      "execution_count": null,
      "outputs": []
    },
    {
      "cell_type": "markdown",
      "metadata": {},
      "source": [
        ":::\n",
        "\n",
        "# Time Series {visibility=\"uncounted\"}\n",
        "\n",
        "## Tabular data vs time series data\n",
        "\n",
        "::: columns\n",
        "::: column\n",
        "\n",
        "**Tabular data**\n",
        "\n",
        "We have a dataset $\\{ \\boldsymbol{x}_i, y_i \\}_{i=1}^n$ which we assume are i.i.d. observations.\n",
        "\n",
        "| Brand    | Mileage  | # Claims |\n",
        "|:--------:|:--------:|:--------:|\n",
        "| BMW      | 101 km   | 1        |\n",
        "| Audi     | 432 km   | 0        |\n",
        "| Volvo    | 3 km     | 5        |\n",
        "| $\\vdots$ | $\\vdots$ | $\\vdots$ |\n",
        "\n",
        "The goal is to _predict_ the $y$ for some covariates $\\boldsymbol{x}$.\n",
        ":::\n",
        "::: column\n",
        "**Time series data**\n",
        "\n",
        "Have a sequence $\\{ \\boldsymbol{x}_t, y_t \\}_{t=1}^T$ of observations taken at regular time intervals.\n",
        "\n",
        "| Date  | Humidity | Temp. | \n",
        "|:-----:|:--------:|:-----:|\n",
        "| Jan 1 | 60%      | 20 °C |\n",
        "| Jan 2 | 65%      | 22 °C | \n",
        "| Jan 3 | 70%      | 21 °C |\n",
        "| $\\vdots$ | $\\vdots$ | $\\vdots$ |\n",
        "\n",
        "\n",
        "The task is to _forecast_ future values based on the past.\n",
        "\n",
        ":::\n",
        ":::\n",
        "\n",
        "## Attributes of time series data\n",
        "\n",
        "- **Temporal ordering**: The order of the observations matters.\n",
        "- **Trend**: The general direction of the data.\n",
        "- **Noise**: Random fluctuations in the data.\n",
        "- **Seasonality**: Patterns that repeat at regular intervals.\n",
        "\n",
        "<!-- - **Autocorrelation**: The correlation of a signal with a delayed copy of itself. -->\n",
        "\n",
        "::: {.callout-note}\n",
        "Question: What will be the temperature in Berlin tomorrow?\n",
        "What information would you use to make a prediction?\n",
        ":::\n",
        "\n",
        "## Australian financial stocks {.smaller}\n"
      ],
      "id": "4e32add0"
    },
    {
      "cell_type": "code",
      "metadata": {},
      "source": [
        "stocks = pd.read_csv(\"aus_fin_stocks.csv\")\n",
        "stocks"
      ],
      "id": "498d025f",
      "execution_count": null,
      "outputs": []
    },
    {
      "cell_type": "markdown",
      "metadata": {},
      "source": [
        "## Plot\n"
      ],
      "id": "7a45af25"
    },
    {
      "cell_type": "code",
      "metadata": {},
      "source": [
        "stocks.plot()"
      ],
      "id": "afc5ec15",
      "execution_count": null,
      "outputs": []
    },
    {
      "cell_type": "markdown",
      "metadata": {},
      "source": [
        "## Data types and NA values\n",
        "\n",
        "::: columns\n",
        "::: column\n"
      ],
      "id": "912a14af"
    },
    {
      "cell_type": "code",
      "metadata": {},
      "source": [
        "stocks.info()"
      ],
      "id": "04e87d1d",
      "execution_count": null,
      "outputs": []
    },
    {
      "cell_type": "markdown",
      "metadata": {},
      "source": [
        ":::\n",
        "::: column\n"
      ],
      "id": "7f6dcbea"
    },
    {
      "cell_type": "code",
      "metadata": {},
      "source": [
        "for col in stocks.columns:\n",
        "    print(f\"{col}: {stocks[col].isna().sum()}\")"
      ],
      "id": "0c1b2771",
      "execution_count": null,
      "outputs": []
    },
    {
      "cell_type": "markdown",
      "metadata": {},
      "source": [
        ":::\n",
        ":::\n"
      ],
      "id": "48750057"
    },
    {
      "cell_type": "code",
      "metadata": {},
      "source": [
        "asx200 = stocks.pop(\"ASX200\")"
      ],
      "id": "e666b970",
      "execution_count": null,
      "outputs": []
    },
    {
      "cell_type": "markdown",
      "metadata": {},
      "source": [
        "## Set the index to the date {.smaller}\n"
      ],
      "id": "8bb54e82"
    },
    {
      "cell_type": "code",
      "metadata": {},
      "source": [
        "stocks[\"Date\"] = pd.to_datetime(stocks[\"Date\"])\n",
        "stocks = stocks.set_index(\"Date\") # or `stocks.set_index(\"Date\", inplace=True)`\n",
        "stocks"
      ],
      "id": "db7a298e",
      "execution_count": null,
      "outputs": []
    },
    {
      "cell_type": "markdown",
      "metadata": {},
      "source": [
        "## Plot II\n"
      ],
      "id": "802eb519"
    },
    {
      "cell_type": "code",
      "metadata": {},
      "source": [
        "stocks.plot()\n",
        "plt.legend(loc=\"upper center\", bbox_to_anchor=(0.5, -0.5), ncol=4);"
      ],
      "id": "cedd554d",
      "execution_count": null,
      "outputs": []
    },
    {
      "cell_type": "markdown",
      "metadata": {},
      "source": [
        "## Can index using dates I {.smaller}\n"
      ],
      "id": "0b83126c"
    },
    {
      "cell_type": "code",
      "metadata": {},
      "source": [
        "stocks.loc[\"2010-1-4\":\"2010-01-8\"]"
      ],
      "id": "11d8d697",
      "execution_count": null,
      "outputs": []
    },
    {
      "cell_type": "markdown",
      "metadata": {},
      "source": [
        "::: {.fragment}\n",
        "Note, these ranges are _inclusive_, not like Python's normal slicing.\n",
        ":::\n",
        "\n",
        "## Can index using dates II\n",
        "\n",
        "So to get 2019's December and all of 2020 for CBA:\n"
      ],
      "id": "b4a0b27b"
    },
    {
      "cell_type": "code",
      "metadata": {},
      "source": [
        "stocks.loc[\"2019-12\":\"2020\", [\"CBA\"]]"
      ],
      "id": "27a9f982",
      "execution_count": null,
      "outputs": []
    },
    {
      "cell_type": "markdown",
      "metadata": {},
      "source": [
        "## Can look at the first differences\n"
      ],
      "id": "162934cf"
    },
    {
      "cell_type": "code",
      "metadata": {},
      "source": [
        "stocks.diff().plot()\n",
        "plt.legend(loc=\"upper center\", bbox_to_anchor=(0.5, -0.5), ncol=4);"
      ],
      "id": "d322477e",
      "execution_count": null,
      "outputs": []
    },
    {
      "cell_type": "markdown",
      "metadata": {},
      "source": [
        "## Can look at the percentage changes\n"
      ],
      "id": "c10f9e52"
    },
    {
      "cell_type": "code",
      "metadata": {},
      "source": [
        "stocks.pct_change().plot()\n",
        "plt.legend(loc=\"upper center\", bbox_to_anchor=(0.5, -0.5), ncol=4);"
      ],
      "id": "56f45e5b",
      "execution_count": null,
      "outputs": []
    },
    {
      "cell_type": "markdown",
      "metadata": {},
      "source": [
        "## Focus on one stock\n",
        "\n",
        "::: columns\n",
        "::: column\n"
      ],
      "id": "92c4ecf5"
    },
    {
      "cell_type": "code",
      "metadata": {},
      "source": [
        "stock = stocks[[\"CBA\"]]\n",
        "stock"
      ],
      "id": "b85286b2",
      "execution_count": null,
      "outputs": []
    },
    {
      "cell_type": "markdown",
      "metadata": {},
      "source": [
        ":::\n",
        "::: column\n"
      ],
      "id": "9b257bb4"
    },
    {
      "cell_type": "code",
      "metadata": {},
      "source": [
        "stock.plot()"
      ],
      "id": "53d4457a",
      "execution_count": null,
      "outputs": []
    },
    {
      "cell_type": "markdown",
      "metadata": {},
      "source": [
        "Find first non-missing value\n"
      ],
      "id": "310705d5"
    },
    {
      "cell_type": "code",
      "metadata": {},
      "source": [
        "first_day = stock.dropna().index[0]\n",
        "first_day"
      ],
      "id": "f0d68f19",
      "execution_count": null,
      "outputs": []
    },
    {
      "cell_type": "code",
      "metadata": {},
      "source": [
        "stock = stock.loc[first_day:]"
      ],
      "id": "0e5c9dfa",
      "execution_count": null,
      "outputs": []
    },
    {
      "cell_type": "code",
      "metadata": {},
      "source": [
        "stock.isna().sum()"
      ],
      "id": "8cf8c258",
      "execution_count": null,
      "outputs": []
    },
    {
      "cell_type": "markdown",
      "metadata": {},
      "source": [
        ":::\n",
        ":::\n",
        "\n",
        "\n",
        "## Fill in the missing values\n"
      ],
      "id": "1665118d"
    },
    {
      "cell_type": "code",
      "metadata": {},
      "source": [
        "missing_day = stock[stock[\"CBA\"].isna()].index[0]\n",
        "prev_day = missing_day - pd.Timedelta(days=1)\n",
        "after = missing_day + pd.Timedelta(days=3)"
      ],
      "id": "869c33d0",
      "execution_count": null,
      "outputs": []
    },
    {
      "cell_type": "markdown",
      "metadata": {},
      "source": [
        "::: columns\n",
        "::: column\n"
      ],
      "id": "c6fbb5a6"
    },
    {
      "cell_type": "code",
      "metadata": {},
      "source": [
        "stock.loc[prev_day:after]"
      ],
      "id": "26953d1c",
      "execution_count": null,
      "outputs": []
    },
    {
      "cell_type": "markdown",
      "metadata": {},
      "source": [
        ":::\n",
        "::: column\n"
      ],
      "id": "51e05aa7"
    },
    {
      "cell_type": "code",
      "metadata": {},
      "source": [
        "stock = stock.ffill()\n",
        "stock.loc[prev_day:after]"
      ],
      "id": "26d27b07",
      "execution_count": null,
      "outputs": []
    },
    {
      "cell_type": "markdown",
      "metadata": {},
      "source": [
        ":::\n",
        ":::\n"
      ],
      "id": "0920cc7c"
    },
    {
      "cell_type": "code",
      "metadata": {},
      "source": [
        "stock.isna().sum()"
      ],
      "id": "7f4b76e9",
      "execution_count": null,
      "outputs": []
    },
    {
      "cell_type": "markdown",
      "metadata": {},
      "source": [
        "# Baseline forecasts\n",
        "\n",
        "## Persistence forecast\n",
        "\n",
        "The simplest model is to predict the next value to be the same as the current value.\n"
      ],
      "id": "5f2f7029"
    },
    {
      "cell_type": "code",
      "metadata": {},
      "source": [
        "stock.loc[\"2019\":, \"Persistence\"] = stock.loc[\"2018\"].iloc[-1].values[0]\n",
        "stock.loc[\"2018-12\":\"2019\"].plot()\n",
        "plt.axvline(\"2019\", color=\"black\", linestyle=\"--\")"
      ],
      "id": "853dda91",
      "execution_count": null,
      "outputs": []
    },
    {
      "cell_type": "markdown",
      "metadata": {},
      "source": [
        "## Trend\n",
        "\n",
        "We can extrapolate from recent trend:\n"
      ],
      "id": "b3bb884c"
    },
    {
      "cell_type": "code",
      "metadata": {},
      "source": [
        "past_date = stock.loc[\"2018\"].index[-30]\n",
        "past = stock.loc[past_date, \"CBA\"]\n",
        "latest_date = stock.loc[\"2018\", \"CBA\"].index[-1]\n",
        "latest = stock.loc[latest_date, \"CBA\"]\n",
        "\n",
        "trend = (latest - past) / (latest_date - past_date).days\n",
        "print(trend)\n",
        "\n",
        "tdays_since_cutoff = np.arange(1, len(stock.loc[\"2019\":]) + 1)\n",
        "stock.loc[\"2019\":, \"Trend\"] = latest + trend * tdays_since_cutoff"
      ],
      "id": "1e890c42",
      "execution_count": null,
      "outputs": []
    },
    {
      "cell_type": "markdown",
      "metadata": {},
      "source": [
        "## Trend forecasts\n"
      ],
      "id": "9d2a9d3f"
    },
    {
      "cell_type": "code",
      "metadata": {},
      "source": [
        "stock.loc[\"2018-12\":\"2019\"].plot()\n",
        "plt.axvline(\"2019\", color=\"black\", linestyle=\"--\")\n",
        "plt.legend(ncol=3, loc=\"upper center\", bbox_to_anchor=(0.5, 1.3))"
      ],
      "id": "45f25701",
      "execution_count": null,
      "outputs": []
    },
    {
      "cell_type": "markdown",
      "metadata": {},
      "source": [
        "## Which is better?\n",
        "\n",
        "If we look at the mean squared error (MSE) of the two models:\n"
      ],
      "id": "329dbec2"
    },
    {
      "cell_type": "code",
      "metadata": {},
      "source": [
        "persistence_mse = mean_squared_error(stock.loc[\"2019\", \"CBA\"], stock.loc[\"2019\", \"Persistence\"])\n",
        "trend_mse = mean_squared_error(stock.loc[\"2019\", \"CBA\"], stock.loc[\"2019\", \"Trend\"])\n",
        "persistence_mse, trend_mse"
      ],
      "id": "8f028531",
      "execution_count": null,
      "outputs": []
    },
    {
      "cell_type": "markdown",
      "metadata": {},
      "source": [
        "## Use the history\n"
      ],
      "id": "3de55463"
    },
    {
      "cell_type": "code",
      "metadata": {},
      "source": [
        "cba_shifted = stock[\"CBA\"].head().shift(1)\n",
        "both = pd.concat([stock[\"CBA\"].head(), cba_shifted], axis=1, keys=[\"Today\", \"Yesterday\"])\n",
        "both"
      ],
      "id": "a7cfce22",
      "execution_count": null,
      "outputs": []
    },
    {
      "cell_type": "code",
      "metadata": {},
      "source": [
        "def lagged_timeseries(df, target, window=30):\n",
        "    lagged = pd.DataFrame()\n",
        "    for i in range(window, 0, -1):\n",
        "        lagged[f\"T-{i}\"] = df[target].shift(i)\n",
        "    lagged[\"T\"] = df[target].values\n",
        "    return lagged"
      ],
      "id": "891be9cf",
      "execution_count": null,
      "outputs": []
    },
    {
      "cell_type": "markdown",
      "metadata": {},
      "source": [
        "## Lagged time series {.smaller}\n"
      ],
      "id": "c3be333c"
    },
    {
      "cell_type": "code",
      "metadata": {},
      "source": [
        "#| echo: false\n",
        "pandas.options.display.max_rows = 4"
      ],
      "id": "546df8ea",
      "execution_count": null,
      "outputs": []
    },
    {
      "cell_type": "code",
      "metadata": {},
      "source": [
        "df_lags = lagged_timeseries(stock, \"CBA\", 40)\n",
        "df_lags"
      ],
      "id": "45de2392",
      "execution_count": null,
      "outputs": []
    },
    {
      "cell_type": "code",
      "metadata": {},
      "source": [
        "#| echo: false\n",
        "pandas.options.display.max_rows = 6"
      ],
      "id": "26543a38",
      "execution_count": null,
      "outputs": []
    },
    {
      "cell_type": "markdown",
      "metadata": {},
      "source": [
        "## Split into training and testing\n"
      ],
      "id": "4a03a0c3"
    },
    {
      "cell_type": "code",
      "metadata": {},
      "source": [
        "# Split the data in time\n",
        "X_train = df_lags.loc[:\"2018\"]\n",
        "X_val = df_lags.loc[\"2019\"]\n",
        "X_test = df_lags.loc[\"2020\":]\n",
        "\n",
        "# Remove any with NAs and split into X and y\n",
        "X_train = X_train.dropna()\n",
        "X_val = X_val.dropna()\n",
        "X_test = X_test.dropna()\n",
        "\n",
        "y_train = X_train.pop(\"T\")\n",
        "y_val = X_val.pop(\"T\")\n",
        "y_test = X_test.pop(\"T\")"
      ],
      "id": "9d906391",
      "execution_count": null,
      "outputs": []
    },
    {
      "cell_type": "code",
      "metadata": {},
      "source": [
        "X_train.shape, y_train.shape, X_val.shape, y_val.shape, X_test.shape, y_test.shape"
      ],
      "id": "a186724f",
      "execution_count": null,
      "outputs": []
    },
    {
      "cell_type": "markdown",
      "metadata": {},
      "source": [
        "## Inspect the split data {.smaller}\n"
      ],
      "id": "6fc8bc24"
    },
    {
      "cell_type": "code",
      "metadata": {},
      "source": [
        "X_train"
      ],
      "id": "173a3eb7",
      "execution_count": null,
      "outputs": []
    },
    {
      "cell_type": "markdown",
      "metadata": {},
      "source": [
        "## Plot the split\n"
      ],
      "id": "0701f848"
    },
    {
      "cell_type": "code",
      "metadata": {},
      "source": [
        "#| code-fold: true\n",
        "y_train.plot()\n",
        "y_val.plot()\n",
        "y_test.plot()\n",
        "plt.legend([\"Train\", \"Validation\", \"Test\"]);"
      ],
      "id": "197c1af7",
      "execution_count": null,
      "outputs": []
    },
    {
      "cell_type": "markdown",
      "metadata": {},
      "source": [
        "## Train on more recent data\n"
      ],
      "id": "f94f5fb1"
    },
    {
      "cell_type": "code",
      "metadata": {},
      "source": [
        "X_train = X_train.loc[\"2012\":]\n",
        "y_train = y_train.loc[\"2012\":]"
      ],
      "id": "909872a2",
      "execution_count": null,
      "outputs": []
    },
    {
      "cell_type": "code",
      "metadata": {},
      "source": [
        "#| code-fold: true\n",
        "y_train.plot()\n",
        "y_val.plot()\n",
        "y_test.plot()\n",
        "plt.legend([\"Train\", \"Validation\", \"Test\"], loc=\"center left\", bbox_to_anchor=(1, 0.5));"
      ],
      "id": "2aa91a11",
      "execution_count": null,
      "outputs": []
    },
    {
      "cell_type": "markdown",
      "metadata": {},
      "source": [
        "## Rescale by eyeballing it\n"
      ],
      "id": "816170fc"
    },
    {
      "cell_type": "code",
      "metadata": {},
      "source": [
        "X_train = X_train / 100\n",
        "X_val = X_val / 100\n",
        "X_test = X_test / 100\n",
        "y_train = y_train / 100\n",
        "y_val = y_val / 100\n",
        "y_test = y_test / 100"
      ],
      "id": "35a50ea4",
      "execution_count": null,
      "outputs": []
    },
    {
      "cell_type": "code",
      "metadata": {},
      "source": [
        "#| code-fold: true\n",
        "y_train.plot()\n",
        "y_val.plot()\n",
        "y_test.plot()\n",
        "plt.legend([\"Train\", \"Validation\", \"Test\"], loc=\"center left\", bbox_to_anchor=(1, 0.5));"
      ],
      "id": "3a02aa71",
      "execution_count": null,
      "outputs": []
    },
    {
      "cell_type": "markdown",
      "metadata": {},
      "source": [
        "## Fit a linear model\n"
      ],
      "id": "192030e6"
    },
    {
      "cell_type": "code",
      "metadata": {},
      "source": [
        "lr = LinearRegression()\n",
        "lr.fit(X_train, y_train);"
      ],
      "id": "1c47dc13",
      "execution_count": null,
      "outputs": []
    },
    {
      "cell_type": "markdown",
      "metadata": {},
      "source": [
        "Make a forecast for the validation data:\n"
      ],
      "id": "5e2ec958"
    },
    {
      "cell_type": "code",
      "metadata": {},
      "source": [
        "y_pred = lr.predict(X_val)\n",
        "stock.loc[X_val.index, \"Linear\"] = y_pred"
      ],
      "id": "9c890763",
      "execution_count": null,
      "outputs": []
    },
    {
      "cell_type": "code",
      "metadata": {},
      "source": [
        "#| code-fold: true\n",
        "stock.loc[\"2018-12\":\"2019\"].plot()\n",
        "plt.axvline(\"2019\", color=\"black\", linestyle=\"--\")\n",
        "plt.legend(loc=\"center left\", bbox_to_anchor=(1, 0.5));"
      ],
      "id": "c3db46d4",
      "execution_count": null,
      "outputs": []
    },
    {
      "cell_type": "markdown",
      "metadata": {},
      "source": [
        "## Inverse-transform the forecasts\n"
      ],
      "id": "8c1d1f8f"
    },
    {
      "cell_type": "code",
      "metadata": {},
      "source": [
        "stock.loc[X_val.index, \"Linear\"] = 100 * y_pred"
      ],
      "id": "42519936",
      "execution_count": null,
      "outputs": []
    },
    {
      "cell_type": "code",
      "metadata": {},
      "source": [
        "#| code-fold: true\n",
        "stock.loc[\"2018-12\":\"2019\"].plot()\n",
        "plt.axvline(\"2019\", color=\"black\", linestyle=\"--\")\n",
        "plt.legend(loc=\"center left\", bbox_to_anchor=(1, 0.5));"
      ],
      "id": "b6e3308b",
      "execution_count": null,
      "outputs": []
    },
    {
      "cell_type": "markdown",
      "metadata": {},
      "source": [
        "## Careful with the metrics\n"
      ],
      "id": "889e4a08"
    },
    {
      "cell_type": "code",
      "metadata": {},
      "source": [
        "mean_squared_error(y_val, y_pred)"
      ],
      "id": "5f77ec44",
      "execution_count": null,
      "outputs": []
    },
    {
      "cell_type": "code",
      "metadata": {},
      "source": [
        "mean_squared_error(100 * y_val, 100 * y_pred)"
      ],
      "id": "6d34cdb5",
      "execution_count": null,
      "outputs": []
    },
    {
      "cell_type": "code",
      "metadata": {},
      "source": [
        "100**2 * mean_squared_error(y_val, y_pred)"
      ],
      "id": "2a650cd6",
      "execution_count": null,
      "outputs": []
    },
    {
      "cell_type": "code",
      "metadata": {},
      "source": [
        "linear_mse = 100**2 * mean_squared_error(y_val, y_pred)\n",
        "persistence_mse, trend_mse, linear_mse"
      ],
      "id": "40285e1c",
      "execution_count": null,
      "outputs": []
    },
    {
      "cell_type": "markdown",
      "metadata": {},
      "source": [
        "# Multi-step forecasts\n",
        "\n",
        "## Comparing apples to apples {.smaller}\n",
        "\n",
        "The linear model is only producing _one-step-ahead_ forecasts.\n",
        "\n",
        "The other models are producing _multi-step-ahead_ forecasts.\n"
      ],
      "id": "57d43b81"
    },
    {
      "cell_type": "code",
      "metadata": {},
      "source": [
        "stock.loc[\"2019\":, \"Shifted\"] = stock[\"CBA\"].shift(1).loc[\"2019\":]"
      ],
      "id": "d5595786",
      "execution_count": null,
      "outputs": []
    },
    {
      "cell_type": "code",
      "metadata": {},
      "source": [
        "#| code-fold: true\n",
        "stock.loc[\"2018-12\":\"2019\"].plot()\n",
        "plt.axvline(\"2019\", color=\"black\", linestyle=\"--\")\n",
        "plt.legend(loc=\"center left\", bbox_to_anchor=(1, 0.5));"
      ],
      "id": "e6b5cbea",
      "execution_count": null,
      "outputs": []
    },
    {
      "cell_type": "code",
      "metadata": {},
      "source": [
        "shifted_mse = mean_squared_error(stock.loc[\"2019\", \"CBA\"], stock.loc[\"2019\", \"Shifted\"])\n",
        "persistence_mse, trend_mse, linear_mse, shifted_mse"
      ],
      "id": "0e8fb298",
      "execution_count": null,
      "outputs": []
    },
    {
      "cell_type": "markdown",
      "metadata": {},
      "source": [
        "## Autoregressive forecasts\n",
        "\n",
        "The linear model needs the last 90 days to make a forecast.\n",
        "\n",
        "**Idea**: Make the first forecast, then use that to make the next forecast, and so on.\n",
        "\n",
        "$$\n",
        "\\begin{aligned}\n",
        "    \\hat{y}_t &= \\beta_0 + \\beta_1 y_{t-1} + \\beta_2 y_{t-2} + \\ldots + \\beta_n y_{t-n} \\\\\n",
        "    \\hat{y}_{t+1} &= \\beta_0 + \\beta_1 \\hat{y}_t + \\beta_2 y_{t-1} + \\ldots + \\beta_n y_{t-n+1} \\\\\n",
        "    \\hat{y}_{t+2} &= \\beta_0 + \\beta_1 \\hat{y}_{t+1} + \\beta_2 \\hat{y}_t + \\ldots + \\beta_n y_{t-n+2}\n",
        "\\end{aligned}\n",
        "$$\n",
        "$$\\vdots$$\n",
        "$$\n",
        "\\hat{y}_{t+k} = \\beta_0 + \\beta_1 \\hat{y}_{t+k-1} + \\beta_2 \\hat{y}_{t+k-2} + \\ldots + \\beta_n \\hat{y}_{t+k-n}\n",
        "$$\n",
        "\n",
        "## Autoregressive forecasting function\n"
      ],
      "id": "a42d1343"
    },
    {
      "cell_type": "code",
      "metadata": {},
      "source": [
        "def autoregressive_forecast(model, X_val, suppress=False):\n",
        "    \"\"\"\n",
        "    Generate a multi-step forecast using the given model.\n",
        "    \"\"\"\n",
        "    multi_step = pd.Series(index=X_val.index, name=\"Multi Step\")\n",
        "\n",
        "    # Initialize the input data for forecasting\n",
        "    input_data = X_val.iloc[0].values.reshape(1, -1)\n",
        "\n",
        "    for i in range(len(multi_step)):\n",
        "        # Ensure input_data has the correct feature names\n",
        "        input_df = pd.DataFrame(input_data, columns=X_val.columns)\n",
        "        if suppress:\n",
        "            next_value = model.predict(input_df, verbose=0)\n",
        "        else:\n",
        "            next_value = model.predict(input_df) \n",
        "\n",
        "        multi_step.iloc[i] = next_value\n",
        "\n",
        "        # Append that prediction to the input for the next forecast\n",
        "        if i + 1 < len(multi_step):\n",
        "            input_data = np.append(input_data[:, 1:], next_value).reshape(1, -1)\n",
        "\n",
        "    return multi_step"
      ],
      "id": "86bd32ad",
      "execution_count": null,
      "outputs": []
    },
    {
      "cell_type": "markdown",
      "metadata": {},
      "source": [
        "## Look at the autoregressive linear forecasts\n"
      ],
      "id": "2c4b79c9"
    },
    {
      "cell_type": "code",
      "metadata": {},
      "source": [
        "lr_forecast = autoregressive_forecast(lr, X_val)\n",
        "stock.loc[lr_forecast.index, \"MS Linear\"] = 100 * lr_forecast"
      ],
      "id": "b5f02835",
      "execution_count": null,
      "outputs": []
    },
    {
      "cell_type": "code",
      "metadata": {},
      "source": [
        "stock.loc[\"2018-12\":\"2019\"].drop([\"Linear\", \"Shifted\"], axis=1).plot()\n",
        "plt.axvline(\"2019\", color=\"black\", linestyle=\"--\")\n",
        "plt.legend(loc=\"center left\", bbox_to_anchor=(1, 0.5));"
      ],
      "id": "45fe9417",
      "execution_count": null,
      "outputs": []
    },
    {
      "cell_type": "markdown",
      "metadata": {},
      "source": [
        "## Metrics\n",
        "\n",
        "One-step-ahead forecasts:\n"
      ],
      "id": "de22becf"
    },
    {
      "cell_type": "code",
      "metadata": {},
      "source": [
        "linear_mse, shifted_mse"
      ],
      "id": "7bd09af3",
      "execution_count": null,
      "outputs": []
    },
    {
      "cell_type": "markdown",
      "metadata": {},
      "source": [
        "Multi-step-ahead forecasts:\n"
      ],
      "id": "aad204ff"
    },
    {
      "cell_type": "code",
      "metadata": {},
      "source": [
        "multi_step_linear_mse = 100**2 * mean_squared_error(y_val, lr_forecast)\n",
        "persistence_mse, trend_mse, multi_step_linear_mse"
      ],
      "id": "6a5a69c0",
      "execution_count": null,
      "outputs": []
    },
    {
      "cell_type": "markdown",
      "metadata": {},
      "source": [
        "## Prefer only short windows\n"
      ],
      "id": "9dfd5f68"
    },
    {
      "cell_type": "code",
      "metadata": {},
      "source": [
        "stock.loc[\"2019\":\"2019-1\"].drop([\"Linear\", \"Shifted\"], axis=1).plot();\n",
        "plt.legend(loc=\"center left\", bbox_to_anchor=(1, 0.5));"
      ],
      "id": "5ea5ad3b",
      "execution_count": null,
      "outputs": []
    },
    {
      "cell_type": "markdown",
      "metadata": {},
      "source": [
        "> \"It's tough to make predictions, especially about the future.\"\n",
        "\n",
        "::: footer\n",
        "Yogi Berra\n",
        ":::\n",
        "\n",
        "# Neural network forecasts\n",
        "\n",
        "## Simple feedforward neural network\n"
      ],
      "id": "f9f39f9d"
    },
    {
      "cell_type": "code",
      "metadata": {},
      "source": [
        "model = Sequential([\n",
        "        Dense(64, activation=\"leaky_relu\"),\n",
        "        Dense(1, \"softplus\")])\n",
        "\n",
        "model.compile(optimizer=\"adam\", loss=\"mean_squared_error\")"
      ],
      "id": "5789c1f6",
      "execution_count": null,
      "outputs": []
    },
    {
      "cell_type": "code",
      "metadata": {},
      "source": [
        "if Path(\"aus_fin_fnn_model.h5\").exists():\n",
        "    model = keras.models.load_model(\"aus_fin_fnn_model.h5\")\n",
        "else:\n",
        "    es = EarlyStopping(patience=15, restore_best_weights=True)\n",
        "    model.fit(X_train, y_train, validation_data=(X_val, y_val), epochs=500,\n",
        "        callbacks=[es], verbose=0)\n",
        "    model.save(\"aus_fin_fnn_model.h5\")\n",
        "\n",
        "model.summary()"
      ],
      "id": "7ad76a7a",
      "execution_count": null,
      "outputs": []
    },
    {
      "cell_type": "markdown",
      "metadata": {},
      "source": [
        "## Forecast and plot\n"
      ],
      "id": "cd7db759"
    },
    {
      "cell_type": "code",
      "metadata": {},
      "source": [
        "y_pred = model.predict(X_val, verbose=0)\n",
        "stock.loc[X_val.index, \"FNN\"] = 100 * y_pred"
      ],
      "id": "7fd5d6e3",
      "execution_count": null,
      "outputs": []
    },
    {
      "cell_type": "code",
      "metadata": {},
      "source": [
        "stock.loc[\"2018-12\":\"2019\"].drop([\"Persistence\", \"Trend\", \"MS Linear\"], axis=1).plot()\n",
        "plt.axvline(\"2019\", color=\"black\", linestyle=\"--\")\n",
        "plt.legend(loc=\"center left\", bbox_to_anchor=(1, 0.5));"
      ],
      "id": "21822362",
      "execution_count": null,
      "outputs": []
    },
    {
      "cell_type": "markdown",
      "metadata": {},
      "source": [
        "## Autoregressive forecasts\n"
      ],
      "id": "c41e3de8"
    },
    {
      "cell_type": "code",
      "metadata": {},
      "source": [
        "nn_forecast = autoregressive_forecast(model, X_val, True)\n",
        "stock.loc[nn_forecast.index, \"MS FNN\"] = 100 * nn_forecast"
      ],
      "id": "ca467830",
      "execution_count": null,
      "outputs": []
    },
    {
      "cell_type": "code",
      "metadata": {},
      "source": [
        "stock.loc[\"2018-12\":\"2019\"].drop([\"Linear\", \"Shifted\", \"FNN\"], axis=1).plot()\n",
        "plt.axvline(\"2019\", color=\"black\", linestyle=\"--\")\n",
        "plt.legend(loc=\"center left\", bbox_to_anchor=(1, 0.5));"
      ],
      "id": "a7abdafb",
      "execution_count": null,
      "outputs": []
    },
    {
      "cell_type": "markdown",
      "metadata": {},
      "source": [
        "## Metrics\n",
        "\n",
        "One-step-ahead forecasts:\n"
      ],
      "id": "04624bd6"
    },
    {
      "cell_type": "code",
      "metadata": {},
      "source": [
        "nn_mse = 100**2 * mean_squared_error(y_val, y_pred)\n",
        "linear_mse, shifted_mse, nn_mse"
      ],
      "id": "1b4fa151",
      "execution_count": null,
      "outputs": []
    },
    {
      "cell_type": "markdown",
      "metadata": {},
      "source": [
        "Multi-step-ahead forecasts:\n"
      ],
      "id": "b2567680"
    },
    {
      "cell_type": "code",
      "metadata": {},
      "source": [
        "multi_step_fnn_mse = 100**2 * mean_squared_error(y_val, nn_forecast)\n",
        "persistence_mse, trend_mse, multi_step_linear_mse, multi_step_fnn_mse"
      ],
      "id": "eea6773a",
      "execution_count": null,
      "outputs": []
    },
    {
      "cell_type": "markdown",
      "metadata": {},
      "source": [
        "# Recurrent Neural Networks {visibility=\"uncounted\"}\n",
        "\n",
        "## Basic facts of RNNs\n",
        "\n",
        "- A recurrent neural network is a type of neural network that is designed to process sequences of data (e.g. time series, sentences).\n",
        "- A recurrent neural network is any network that contains a recurrent layer.\n",
        "- A recurrent layer is a layer that processes data in a sequence.\n",
        "- An RNN can have one or more recurrent layers.\n",
        "- Weights are shared over time; this allows the model to be used on arbitrary-length sequences.\n",
        "\n",
        "## Applications\n",
        "\n",
        "- Forecasting: revenue forecast, weather forecast, predict disease rate from medical history, etc. \n",
        "- Classification: given a time series of the activities of a visitor on a website, classify whether the visitor is a bot or a human.\n",
        "- Event detection: given a continuous data stream, identify the occurrence of a specific event. Example: Detect utterances like \"Hey Alexa\" from an audio stream.\n",
        "- Anomaly detection: given a continuous data stream, detect anything unusual happening. Example: Detect unusual activity on the corporate network.\n",
        "\n",
        "## Origin of the name of RNNs\n",
        "\n",
        "> A recurrence relation is an equation that expresses each element of a sequence as a function of the preceding ones. More precisely, in the case where only the immediately preceding element is involved, a recurrence relation has the form\n",
        "> \n",
        "> $$ u_n = \\psi(n, u_{n-1}) \\quad \\text{ for } \\quad n > 0.$$\n",
        "\n",
        "__Example__: Factorial $n! = n (n-1)!$ for $n > 0$ given $0! = 1$.\n",
        "\n",
        "::: footer\n",
        "Source: Wikipedia, [Recurrence relation](https://en.wikipedia.org/wiki/Recurrence_relation#Definition). \n",
        ":::\n",
        "\n",
        "<!-- \n",
        "# Recurrent Cells {visibility=\"uncounted\"}\n",
        "-->\n",
        "\n",
        "## Diagram of an RNN cell\n",
        "\n",
        "The RNN processes each data in the sequence one by one, while keeping memory of what came before.\n",
        "\n",
        "::: {.content-visible unless-format=\"revealjs\"}\n",
        "The following figure shows how the recurrent neural network combines an input `X_l` with a preprocessed state of the process `A_l` to produce the output `O_l`. RNNs have a cyclic information processing structure that enables them to pass information sequentially from previous inputs. RNNs can capture dependencies and patterns in sequential data, making them useful for analysing time series data.\n",
        ":::\n",
        "\n",
        "![Schematic of a recurrent neural network. E.g. SimpleRNN, LSTM, or GRU.](ISLR2-10_12.svg)\n",
        "\n",
        "::: footer\n",
        "Source: James et al (2022), [An Introduction to Statistical Learning](https://www.statlearning.com/), 2nd edition, Figure 10.12.\n",
        ":::\n",
        "\n",
        "## A SimpleRNN cell\n",
        "\n",
        "![Diagram of a SimpleRNN cell.](colah-LSTM3-SimpleRNN.png)\n",
        "\n",
        "All the outputs before the final one are often discarded.\n",
        "\n",
        "::: footer\n",
        "Source: Christopher Olah (2015), [Understanding LSTM Networks](http://colah.github.io/posts/2015-08-Understanding-LSTMs), Colah's Blog.\n",
        ":::\n",
        "\n",
        "## LSTM internals\n",
        "\n",
        "::: {.content-visible unless-format=\"revealjs\"}\n",
        "Simple RNN structures encounter vanishing gradient problems, hence, struggle with learning long term dependencies. LSTM are designed to overcome this problem. LSTMs have a more complex network structure (contains more memory cells and gating mechanisms) and can better regulate the information flow. \n",
        ":::\n",
        "\n",
        "![Diagram of an LSTM cell.](colah-LSTM3-chain.png)\n",
        "![Notation for the diagram.](colah-LSTM2-notation.png)\n",
        "\n",
        "::: footer\n",
        "Source: Christopher Olah (2015), [Understanding LSTM Networks](http://colah.github.io/posts/2015-08-Understanding-LSTMs), Colah's Blog.\n",
        ":::\n",
        "\n",
        "## GRU internals\n",
        "\n",
        "::: {.content-visible unless-format=\"revealjs\"}\n",
        "GRUs are simpler compared to LSTM, hence, computationally more efficient than LSTMs. \n",
        ":::\n",
        "\n",
        "![Diagram of a GRU cell.](colah-LSTM3-var-GRU.png)\n",
        "\n",
        "::: footer\n",
        "Source: Christopher Olah (2015), [Understanding LSTM Networks](http://colah.github.io/posts/2015-08-Understanding-LSTMs), Colah's Blog.\n",
        ":::\n",
        "\n",
        "# Stock prediction with recurrent networks {visibility=\"uncounted\"}\n",
        "\n",
        "## SimpleRNN\n"
      ],
      "id": "c9ab3372"
    },
    {
      "cell_type": "code",
      "metadata": {},
      "source": [
        "from keras.layers import SimpleRNN, Reshape\n",
        "model = Sequential([\n",
        "        Reshape((-1, 1)),\n",
        "        SimpleRNN(64, activation=\"tanh\"),\n",
        "        Dense(1, \"softplus\")])\n",
        "model.compile(optimizer=\"adam\", loss=\"mean_squared_error\")"
      ],
      "id": "1cd901ab",
      "execution_count": null,
      "outputs": []
    },
    {
      "cell_type": "code",
      "metadata": {},
      "source": [
        "#| eval: false\n",
        "es = EarlyStopping(patience=15, restore_best_weights=True)\n",
        "model.fit(X_train, y_train, validation_data=(X_val, y_val),\n",
        "    epochs=500, callbacks=[es], verbose=0)\n",
        "model.summary()"
      ],
      "id": "e30830e1",
      "execution_count": null,
      "outputs": []
    },
    {
      "cell_type": "code",
      "metadata": {},
      "source": [
        "#| echo: false\n",
        "if Path(\"aus_fin_simplernn_model.h5\").exists():\n",
        "    model = keras.models.load_model(\"aus_fin_simplernn_model.h5\")\n",
        "else:\n",
        "    es = EarlyStopping(patience=15, restore_best_weights=True)\n",
        "    model.fit(X_train, y_train, validation_data=(X_val, y_val),\n",
        "        epochs=500, callbacks=[es], verbose=0)\n",
        "    model.save(\"aus_fin_simplernn_model.h5\")\n",
        "model.summary()"
      ],
      "id": "a2833984",
      "execution_count": null,
      "outputs": []
    },
    {
      "cell_type": "markdown",
      "metadata": {},
      "source": [
        "## Forecast and plot\n"
      ],
      "id": "3cf660bc"
    },
    {
      "cell_type": "code",
      "metadata": {},
      "source": [
        "y_pred = model.predict(X_val.to_numpy(), verbose=0)\n",
        "stock.loc[X_val.index, \"SimpleRNN\"] = 100 * y_pred"
      ],
      "id": "3e7ddf18",
      "execution_count": null,
      "outputs": []
    },
    {
      "cell_type": "code",
      "metadata": {},
      "source": [
        "#| code-fold: true\n",
        "stock.loc[\"2018-12\":\"2019\"].drop([\"Persistence\", \"Trend\", \"MS Linear\", \"MS FNN\"], axis=1).plot()\n",
        "plt.axvline(\"2019\", color=\"black\", linestyle=\"--\")\n",
        "plt.legend(loc=\"center left\", bbox_to_anchor=(1, 0.5));"
      ],
      "id": "fb6d3b8c",
      "execution_count": null,
      "outputs": []
    },
    {
      "cell_type": "markdown",
      "metadata": {},
      "source": [
        "## Multi-step forecasts\n"
      ],
      "id": "429f49de"
    },
    {
      "cell_type": "code",
      "metadata": {},
      "source": [
        "rnn_forecast = autoregressive_forecast(model, X_val, True)\n",
        "stock.loc[rnn_forecast.index, \"MS RNN\"] = 100 * rnn_forecast"
      ],
      "id": "34187a35",
      "execution_count": null,
      "outputs": []
    },
    {
      "cell_type": "code",
      "metadata": {},
      "source": [
        "#| code-fold: true\n",
        "stock.loc[\"2018-12\":\"2019\"].drop([\"Linear\", \"Shifted\", \"FNN\", \"SimpleRNN\"], axis=1).plot()\n",
        "plt.axvline(\"2019\", color=\"black\", linestyle=\"--\")\n",
        "plt.legend(loc=\"center left\", bbox_to_anchor=(1, 0.5));"
      ],
      "id": "5e03518e",
      "execution_count": null,
      "outputs": []
    },
    {
      "cell_type": "markdown",
      "metadata": {},
      "source": [
        "## Metrics\n",
        "\n",
        "One-step-ahead forecasts:\n"
      ],
      "id": "eb8a1eac"
    },
    {
      "cell_type": "code",
      "metadata": {},
      "source": [
        "rnn_mse = 100**2 * mean_squared_error(y_val, y_pred)\n",
        "linear_mse, shifted_mse, nn_mse, rnn_mse"
      ],
      "id": "201573a7",
      "execution_count": null,
      "outputs": []
    },
    {
      "cell_type": "markdown",
      "metadata": {},
      "source": [
        "Multi-step-ahead forecasts:\n"
      ],
      "id": "c846a5d9"
    },
    {
      "cell_type": "code",
      "metadata": {},
      "source": [
        "multi_step_rnn_mse = 100**2 * mean_squared_error(y_val, rnn_forecast)\n",
        "persistence_mse, trend_mse, multi_step_linear_mse, multi_step_fnn_mse, multi_step_rnn_mse"
      ],
      "id": "2e7c8fa6",
      "execution_count": null,
      "outputs": []
    },
    {
      "cell_type": "markdown",
      "metadata": {},
      "source": [
        "## GRU\n"
      ],
      "id": "6852f526"
    },
    {
      "cell_type": "code",
      "metadata": {},
      "source": [
        "from keras.layers import GRU\n",
        "\n",
        "model = Sequential([Reshape((-1, 1)),\n",
        "        GRU(16, activation=\"tanh\"),\n",
        "        Dense(1, \"softplus\")])\n",
        "model.compile(optimizer=\"adam\", loss=\"mean_squared_error\")"
      ],
      "id": "4557a274",
      "execution_count": null,
      "outputs": []
    },
    {
      "cell_type": "code",
      "metadata": {},
      "source": [
        "#| eval: false\n",
        "es = EarlyStopping(patience=15, restore_best_weights=True)\n",
        "model.fit(X_train, y_train, validation_data=(X_val, y_val),\n",
        "    epochs=500, callbacks=[es], verbose=0)\n",
        "model.summary()"
      ],
      "id": "06aa4665",
      "execution_count": null,
      "outputs": []
    },
    {
      "cell_type": "code",
      "metadata": {},
      "source": [
        "#| echo: false\n",
        "if Path(\"aus_fin_gru_model.h5\").exists():\n",
        "    model = keras.models.load_model(\"aus_fin_gru_model.h5\")\n",
        "else:\n",
        "    es = EarlyStopping(patience=15, restore_best_weights=True)\n",
        "    model.fit(X_train, y_train, validation_data=(X_val, y_val),\n",
        "        epochs=500, callbacks=[es], verbose=0)\n",
        "    model.save(\"aus_fin_gru_model.h5\")\n",
        "model.summary()"
      ],
      "id": "8fe9c2d4",
      "execution_count": null,
      "outputs": []
    },
    {
      "cell_type": "markdown",
      "metadata": {},
      "source": [
        "## Forecast and plot\n"
      ],
      "id": "53a77f04"
    },
    {
      "cell_type": "code",
      "metadata": {},
      "source": [
        "y_pred = model.predict(X_val, verbose=0)\n",
        "stock.loc[X_val.index, \"GRU\"] = 100 * y_pred"
      ],
      "id": "35faa75b",
      "execution_count": null,
      "outputs": []
    },
    {
      "cell_type": "code",
      "metadata": {},
      "source": [
        "#| code-fold: true\n",
        "stock.loc[\"2018-12\":\"2019\"].drop([\"Persistence\", \"Trend\", \"MS Linear\", \"MS FNN\", \"MS RNN\"], axis=1).plot()\n",
        "plt.axvline(\"2019\", color=\"black\", linestyle=\"--\")\n",
        "plt.legend(loc=\"center left\", bbox_to_anchor=(1, 0.5));"
      ],
      "id": "b8582efe",
      "execution_count": null,
      "outputs": []
    },
    {
      "cell_type": "markdown",
      "metadata": {},
      "source": [
        "## Multi-step forecasts\n"
      ],
      "id": "802c2014"
    },
    {
      "cell_type": "code",
      "metadata": {},
      "source": [
        "gru_forecast = autoregressive_forecast(model, X_val, True)\n",
        "stock.loc[gru_forecast.index, \"MS GRU\"] = 100 * gru_forecast"
      ],
      "id": "6d442e0c",
      "execution_count": null,
      "outputs": []
    },
    {
      "cell_type": "code",
      "metadata": {},
      "source": [
        "#| code-fold: true\n",
        "stock.loc[\"2018-12\":\"2019\"].drop([\"Linear\", \"Shifted\", \"FNN\", \"SimpleRNN\", \"GRU\"], axis=1).plot()\n",
        "plt.axvline(\"2019\", color=\"black\", linestyle=\"--\")\n",
        "plt.legend(loc=\"center left\", bbox_to_anchor=(1, 0.5));"
      ],
      "id": "7c4383d6",
      "execution_count": null,
      "outputs": []
    },
    {
      "cell_type": "markdown",
      "metadata": {},
      "source": [
        "## Metrics\n",
        "\n",
        "One-step-ahead forecasts:\n"
      ],
      "id": "c20dc98a"
    },
    {
      "cell_type": "code",
      "metadata": {},
      "source": [
        "gru_mse = 100**2 * mean_squared_error(y_val, y_pred)\n",
        "linear_mse, shifted_mse, nn_mse, rnn_mse, gru_mse"
      ],
      "id": "22a16ee6",
      "execution_count": null,
      "outputs": []
    },
    {
      "cell_type": "markdown",
      "metadata": {},
      "source": [
        "Multi-step-ahead forecasts:\n"
      ],
      "id": "e2ce0db6"
    },
    {
      "cell_type": "code",
      "metadata": {},
      "source": [
        "multi_step_gru_mse = 100**2 * mean_squared_error(y_val, gru_forecast)\n",
        "persistence_mse, trend_mse, multi_step_linear_mse, multi_step_fnn_mse, multi_step_rnn_mse, multi_step_gru_mse"
      ],
      "id": "b0056269",
      "execution_count": null,
      "outputs": []
    },
    {
      "cell_type": "markdown",
      "metadata": {},
      "source": [
        "# Internals of the SimpleRNN {visibility=\"uncounted\"}\n",
        "\n",
        "<!--\n",
        "\n",
        "## Shapes of data\n",
        "\n",
        "![Illustration of tensors of different rank.](medium-tensor-rank.png)\n",
        "\n",
        "::: footer\n",
        "Source: Paras Patidar (2019), [Tensors — Representation of Data In Neural Networks](https://medium.com/mlait/tensors-representation-of-data-in-neural-networks-bbe8a711b93b), Medium article.\n",
        ":::\n",
        "\n",
        "\n",
        "## The `axis` argument in numpy\n",
        "\n",
        "Starting with a $(3, 4)$-shaped matrix:\n"
      ],
      "id": "7fb516bf"
    },
    {
      "cell_type": "code",
      "metadata": {},
      "source": [
        "X = np.arange(12).reshape(3, 4)\n",
        "X"
      ],
      "id": "1c0a9d2e",
      "execution_count": null,
      "outputs": []
    },
    {
      "cell_type": "markdown",
      "metadata": {},
      "source": [
        "::: {.content-visible unless-format=\"revealjs\"}\n",
        "The above code creates an array with values from 0 to 11 and converts that array into a matrix with 3 rows and 4 columns.\n",
        ":::\n",
        "\n",
        "::: columns\n",
        "::: column\n",
        "`axis=0`: $(3, 4) \\leadsto (4,)$.\n"
      ],
      "id": "50314cbc"
    },
    {
      "cell_type": "code",
      "metadata": {},
      "source": [
        "X.sum(axis=0)"
      ],
      "id": "618b4e10",
      "execution_count": null,
      "outputs": []
    },
    {
      "cell_type": "markdown",
      "metadata": {},
      "source": [
        "::: {.content-visible unless-format=\"revealjs\"}\n",
        "The above code returns the column sum. This changes the shape of the matrix from $(3,4)$ to $(4,)$. Similarly, `X.sum(axis=1)` returns row sums and will change the shape of the matrix from $(3,4)$ to $(3,)$.\n",
        ":::\n",
        "\n",
        ":::\n",
        "::: column\n",
        "`axis=1`: $(3, 4) \\leadsto (3,)$.\n"
      ],
      "id": "3733a79f"
    },
    {
      "cell_type": "code",
      "metadata": {},
      "source": [
        "X.prod(axis=1)"
      ],
      "id": "a7c49069",
      "execution_count": null,
      "outputs": []
    },
    {
      "cell_type": "markdown",
      "metadata": {},
      "source": [
        ":::\n",
        ":::\n",
        "\n",
        "The return value's rank is one less than the input's rank.\n",
        "\n",
        "::: {.callout-important}\n",
        "The `axis` parameter tells us which dimension is removed.\n",
        ":::\n",
        "\n",
        "## Using `axis` & `keepdims`\n",
        "\n",
        "With `keepdims=True`, the rank doesn't change.\n"
      ],
      "id": "0317be6b"
    },
    {
      "cell_type": "code",
      "metadata": {},
      "source": [
        "X = np.arange(12).reshape(3, 4)\n",
        "X"
      ],
      "id": "c370f9c7",
      "execution_count": null,
      "outputs": []
    },
    {
      "cell_type": "markdown",
      "metadata": {},
      "source": [
        "::: columns\n",
        "::: column\n",
        "`axis=0`: $(3, 4) \\leadsto (1, 4)$.\n"
      ],
      "id": "e0d9f4d5"
    },
    {
      "cell_type": "code",
      "metadata": {},
      "source": [
        "X.sum(axis=0, keepdims=True)"
      ],
      "id": "0d03e774",
      "execution_count": null,
      "outputs": []
    },
    {
      "cell_type": "markdown",
      "metadata": {},
      "source": [
        ":::\n",
        "::: column\n",
        "`axis=1`: $(3, 4) \\leadsto (3, 1)$.\n"
      ],
      "id": "c155100a"
    },
    {
      "cell_type": "code",
      "metadata": {},
      "source": [
        "X.prod(axis=1, keepdims=True)"
      ],
      "id": "ec1f6ea7",
      "execution_count": null,
      "outputs": []
    },
    {
      "cell_type": "markdown",
      "metadata": {},
      "source": [
        ":::\n",
        ":::\n",
        "\n",
        "::: columns\n",
        "::: column\n"
      ],
      "id": "2d8313a2"
    },
    {
      "cell_type": "code",
      "metadata": {},
      "source": [
        "#| error: true\n",
        "X / X.sum(axis=1)"
      ],
      "id": "17df495f",
      "execution_count": null,
      "outputs": []
    },
    {
      "cell_type": "markdown",
      "metadata": {},
      "source": [
        ":::\n",
        "::: column\n"
      ],
      "id": "a0c2df06"
    },
    {
      "cell_type": "code",
      "metadata": {},
      "source": [
        "X / X.sum(axis=1, keepdims=True)"
      ],
      "id": "07e92092",
      "execution_count": null,
      "outputs": []
    },
    {
      "cell_type": "markdown",
      "metadata": {},
      "source": [
        ":::\n",
        ":::\n",
        "\n",
        "-->\n",
        "\n",
        "## The rank of a time series\n",
        "\n",
        "Say we had $n$ observations of a time series $x_1, x_2, \\dots, x_n$. \n",
        "\n",
        "This $\\boldsymbol{x} = (x_1, \\dots, x_n)$ would have shape $(n,)$ & rank 1.\n",
        "\n",
        "If instead we had a batch of $b$ time series'\n",
        "\n",
        "$$\n",
        "\\boldsymbol{X} = \\begin{pmatrix}\n",
        "x_7 & x_8 & \\dots & x_{7+n-1} \\\\\n",
        "x_2 & x_3 & \\dots & x_{2+n-1} \\\\\n",
        "\\vdots & \\vdots & \\ddots & \\vdots \\\\\n",
        "x_3 & x_4 & \\dots & x_{3+n-1} \\\\\n",
        "\\end{pmatrix}  \\,,\n",
        "$$\n",
        "\n",
        "the batch $\\boldsymbol{X}$ would have shape $(b, n)$ & rank 2.\n",
        "\n",
        "## Multivariate time series\n",
        "\n",
        "::: {.content-visible unless-format=\"revealjs\"}\n",
        "Multivariate time series consists of more than 1 variable observation at a given time point. Following example has two variables `x` and `y`. \n",
        ":::\n",
        "\n",
        "::: columns\n",
        "::: {.column width=\"35%\"}\n",
        "\n",
        "<center>\n"
      ],
      "id": "08361901"
    },
    {
      "cell_type": "code",
      "metadata": {},
      "source": [
        "#| echo: false\n",
        "from IPython.display import Markdown\n",
        "\n",
        "t = range(4)\n",
        "x = [f\"$x_{i}$\" for i in t]\n",
        "y = [f\"$y_{i}$\" for i in t]\n",
        "df = pandas.DataFrame({\"$x$\": x, \"$y$\": y})\n",
        "df.index.name = \"$t$\"\n",
        "Markdown(df.to_markdown())"
      ],
      "id": "de98f0cd",
      "execution_count": null,
      "outputs": []
    },
    {
      "cell_type": "markdown",
      "metadata": {},
      "source": [
        "</center>\n",
        "\n",
        ":::\n",
        "::: {.column width=\"65%\"}\n",
        "Say $n$ observations of the $m$ time series, would be a shape $(n, m)$ matrix of rank 2.\n",
        "\n",
        "In Keras, a batch of $b$ of these time series has shape $(b, n, m)$ and has rank 3.\n",
        ":::\n",
        ":::\n",
        "\n",
        "::: {.callout-note}\n",
        "Use $\\boldsymbol{x}_t \\in \\mathbb{R}^{1 \\times m}$ to denote the vector of all time series at time $t$.\n",
        "Here, $\\boldsymbol{x}_t = (x_t, y_t)$.\n",
        ":::\n",
        "\n",
        "\n",
        "## SimpleRNN\n",
        "\n",
        "Say each prediction is a vector of size $d$, so $\\boldsymbol{y}_t \\in \\mathbb{R}^{1 \\times d}$.\n",
        "\n",
        "Then the main equation of a SimpleRNN, given $\\boldsymbol{y}_0 = \\boldsymbol{0}$, is\n",
        "\n",
        "$$ \\boldsymbol{y}_t = \\psi\\bigl( \\boldsymbol{x}_t \\boldsymbol{W}_x + \\boldsymbol{y}_{t-1} \\boldsymbol{W}_y + \\boldsymbol{b} \\bigr) . $$\n",
        "\n",
        "Here,\n",
        "$$\n",
        "\\begin{aligned}\n",
        "&\\boldsymbol{x}_t \\in \\mathbb{R}^{1 \\times m}, \\boldsymbol{W}_x \\in \\mathbb{R}^{m \\times d}, \\\\\n",
        "&\\boldsymbol{y}_{t-1} \\in \\mathbb{R}^{1 \\times d}, \\boldsymbol{W}_y \\in \\mathbb{R}^{d \\times d}, \\text{ and } \\boldsymbol{b} \\in \\mathbb{R}^{d}.\n",
        "\\end{aligned}\n",
        "$$\n",
        "\n",
        "::: {.content-visible unless-format=\"revealjs\"}\n",
        "At each time step, a simple Recurrent Neural Network (RNN) takes an input vector `x_t`, incorporate it with the information from the previous hidden state `{y}_{t-1}` and produces an output vector at each time step `y_t`. The hidden state helps the network remember the context of the previous words, enabling it to make informed predictions about what comes next in the sequence. In a simple RNN, the output at time `(t-1)` is the same as the hidden state at time `t`.\n",
        ":::\n",
        "\n",
        "## SimpleRNN (in batches)\n",
        "\n",
        "::: {.content-visible unless-format=\"revealjs\"}\n",
        "The difference between RNN and RNNs with batch processing lies in the way how the neural network handles sequences of input data. With batch processing, the model processes multiple ($b$) input sequences simultaneously. The training data is grouped into batches, and the weights are updated based on the average error across the entire batch. Batch processing often results in more stable weight updates, as the model learns from a diverse set of examples in each batch, reducing the impact of noise in individual sequences. \n",
        ":::\n",
        "\n",
        "Say we operate on batches of size $b$, then $\\boldsymbol{Y}_t \\in \\mathbb{R}^{b \\times d}$.\n",
        "\n",
        "The main equation of a SimpleRNN, given $\\boldsymbol{Y}_0 = \\boldsymbol{0}$, is\n",
        "$$ \\boldsymbol{Y}_t = \\psi\\bigl( \\boldsymbol{X}_t \\boldsymbol{W}_x + \\boldsymbol{Y}_{t-1} \\boldsymbol{W}_y + \\boldsymbol{b} \\bigr) . $$\n",
        "Here,\n",
        "$$\n",
        "\\begin{aligned}\n",
        "&\\boldsymbol{X}_t \\in \\mathbb{R}^{b \\times m}, \\boldsymbol{W}_x \\in \\mathbb{R}^{m \\times d}, \\\\\n",
        "&\\boldsymbol{Y}_{t-1} \\in \\mathbb{R}^{b \\times d}, \\boldsymbol{W}_y \\in \\mathbb{R}^{d \\times d}, \\text{ and } \\boldsymbol{b} \\in \\mathbb{R}^{d}.\n",
        "\\end{aligned}\n",
        "$$\n",
        "\n",
        "::: footer\n",
        "Remember, $\\boldsymbol{X} \\in \\mathbb{R}^{b \\times n \\times m}$, $\\boldsymbol{Y} \\in \\mathbb{R}^{b \\times d}$, and $\\boldsymbol{X}_t$ is equivalent to `X[:, t, :]`.\n",
        ":::\n",
        "\n",
        "## Simple Keras demo\n"
      ],
      "id": "0c2fdb69"
    },
    {
      "cell_type": "code",
      "metadata": {},
      "source": [
        "num_obs = 4  # <1>\n",
        "num_time_steps = 3  # <2>\n",
        "num_time_series = 2  # <3>\n",
        "\n",
        "X = (\n",
        "    np.arange(num_obs * num_time_steps * num_time_series)\n",
        "    .astype(np.float32)\n",
        "    .reshape([num_obs, num_time_steps, num_time_series])\n",
        ")  # <4>\n",
        "\n",
        "output_size = 1\n",
        "y = np.array([0, 0, 1, 1])"
      ],
      "id": "37d460cc",
      "execution_count": null,
      "outputs": []
    },
    {
      "cell_type": "markdown",
      "metadata": {},
      "source": [
        "1. Defines the number of observations\n",
        "2. Defines the number of time steps\n",
        "3. Defines the number of time series\n",
        "4. Reshapes the array to a range 3 tensor (4,3,2)\n",
        "\n",
        "::: columns\n",
        "::: column\n"
      ],
      "id": "b29680b8"
    },
    {
      "cell_type": "code",
      "metadata": {},
      "source": [
        "X[:2]  # <1>"
      ],
      "id": "2084c9ab",
      "execution_count": null,
      "outputs": []
    },
    {
      "cell_type": "markdown",
      "metadata": {},
      "source": [
        "1. Selects the first two slices along the first dimension. Since the tensor of dimensions (4,3,2), `X[:2]` selects the first two slices (0 and 1) along the first dimension, and returns a sub-tensor of shape (2,3,2). \n",
        ":::\n",
        "::: column\n"
      ],
      "id": "92e5a2e0"
    },
    {
      "cell_type": "code",
      "metadata": {},
      "source": [
        "X[2:]  # <1>"
      ],
      "id": "fde2b6d7",
      "execution_count": null,
      "outputs": []
    },
    {
      "cell_type": "markdown",
      "metadata": {},
      "source": [
        "1. Selects the last two slices along the first dimension. The first dimension (axis=0) has size 4. Therefore, `X[2:]`  selects the last two slices (2 and 3) along the first dimension, and returns a sub-tensor of shape (2,3,2). \n",
        ":::\n",
        ":::\n",
        "\n",
        "## Keras' SimpleRNN\n",
        "\n",
        "As usual, the `SimpleRNN` is just a layer in Keras. \n"
      ],
      "id": "171082d7"
    },
    {
      "cell_type": "code",
      "metadata": {},
      "source": [
        "from keras.layers import SimpleRNN  # <1>\n",
        "\n",
        "random.seed(1234)  # <2>\n",
        "model = Sequential([SimpleRNN(output_size, activation=\"sigmoid\")])  # <3>\n",
        "model.compile(loss=\"binary_crossentropy\", metrics=[\"accuracy\"])  # <4>\n",
        "\n",
        "hist = model.fit(X, y, epochs=500, verbose=False)  # <5>\n",
        "model.evaluate(X, y, verbose=False)  # <6>"
      ],
      "id": "6128090a",
      "execution_count": null,
      "outputs": []
    },
    {
      "cell_type": "markdown",
      "metadata": {},
      "source": [
        "1. Imports the SimpleRNN layer from the Keras library\n",
        "2. Sets the seed for the random number generator to ensure reproducibility\n",
        "3. Defines a simple RNN with one output node and sigmoid activation function\n",
        "4. Specifies binary crossentropy as the loss function (usually used in classification problems), and specifies \"accuracy\" as the metric to be monitored during training\n",
        "5. Trains the model for 500 epochs and saves output as `hist`\n",
        "6. Evaluates the model to obtain a value for the loss and accuracy\n",
        "\n",
        "\n",
        "The predicted probabilities on the training set are:\n"
      ],
      "id": "777e2a09"
    },
    {
      "cell_type": "code",
      "metadata": {},
      "source": [
        "model.predict(X, verbose=0)"
      ],
      "id": "5d89024e",
      "execution_count": null,
      "outputs": []
    },
    {
      "cell_type": "markdown",
      "metadata": {},
      "source": [
        "## SimpleRNN weights\n",
        "\n",
        "::: {.content-visible unless-format=\"revealjs\"}\n",
        "To verify the results of predicted probabilities, we can obtain the weights of the fitted model and calculate the outcome manually as follows.\n",
        ":::\n"
      ],
      "id": "0f0327f8"
    },
    {
      "cell_type": "code",
      "metadata": {},
      "source": [
        "model.get_weights()"
      ],
      "id": "85703465",
      "execution_count": null,
      "outputs": []
    },
    {
      "cell_type": "code",
      "metadata": {},
      "source": [
        "def sigmoid(x):\n",
        "    return 1 / (1 + np.exp(-x))\n",
        "\n",
        "\n",
        "W_x, W_y, b = model.get_weights()\n",
        "\n",
        "Y = np.zeros((num_obs, output_size), dtype=np.float32)\n",
        "for t in range(num_time_steps):\n",
        "    X_t = X[:, t, :]\n",
        "    z = X_t @ W_x + Y @ W_y + b\n",
        "    Y = sigmoid(z)\n",
        "\n",
        "Y"
      ],
      "id": "87107612",
      "execution_count": null,
      "outputs": []
    },
    {
      "cell_type": "markdown",
      "metadata": {},
      "source": [
        "# Other recurrent network variants {visibility=\"uncounted\"}\n",
        "\n",
        "## Input and output sequences\n",
        "\n",
        "![Categories of recurrent neural networks: sequence to sequence, sequence to vector, vector to sequence, encoder-decoder network.](Geron-rnnType.png)\n",
        "\n",
        "::: footer\n",
        "Source: Aurélien Géron (2019), _Hands-On Machine Learning with Scikit-Learn, Keras, and TensorFlow_, 2nd Edition, Chapter 15.\n",
        ":::\n",
        "\n",
        "\n",
        "## Input and output sequences\n",
        "\n",
        "- Sequence to sequence: Useful for predicting time series such as using prices over the last $N$ days to output the prices shifted one day into the future (i.e. from $N-1$ days ago to tomorrow.)\n",
        "- Sequence to vector: ignore all outputs in the previous time steps except for the last one. Example: give a sentiment score to a sequence of words corresponding to a movie review.\n",
        "\n",
        "## Input and output sequences\n",
        "\n",
        "- Vector to sequence: feed the network the same input vector over and over at each time step and let it output a sequence. Example: given that the input is an image, find a caption for it. The image is treated as an input vector (pixels in an image do not follow a sequence). The caption is a sequence of textual description of the image. A dataset containing images and their descriptions is the input of the RNN.\n",
        "- The Encoder-Decoder: The encoder is a sequence-to-vector network. The decoder is a vector-to-sequence network. Example: Feed the network a sequence in one language. Use the encoder to convert the sentence into a single vector representation. The decoder decodes this vector into the translation of the sentence in another language.\n",
        "\n",
        "## Recurrent layers can be stacked.\n",
        "\n",
        "![_Deep RNN_ unrolled through time.](Geron-recurrentneurondeep.png)\n",
        "\n",
        "\n",
        "::: footer\n",
        "Source: Aurélien Géron (2019), _Hands-On Machine Learning with Scikit-Learn, Keras, and TensorFlow_, 2nd Edition, Chapter 15.\n",
        ":::\n",
        "\n",
        "\n",
        "# CoreLogic Hedonic Home Value Index {visibility=\"uncounted\"}\n",
        "\n",
        "## Australian House Price Indices\n"
      ],
      "id": "30123cff"
    },
    {
      "cell_type": "code",
      "metadata": {},
      "source": [
        "#|echo: false\n",
        "house_prices = pd.read_csv(\"sa3-capitals-house-price-index.csv\", index_col=0)\n",
        "house_prices.index = pd.to_datetime(house_prices.index)\n",
        "house_prices.index.name = \"Date\"\n",
        "house_prices = house_prices[house_prices.index > pd.to_datetime(\"1990\")]\n",
        "house_prices.columns = [\n",
        "    \"Brisbane\",\n",
        "    \"East_Bris\",\n",
        "    \"North_Bris\",\n",
        "    \"West_Bris\",\n",
        "    \"Melbourne\",\n",
        "    \"North_Syd\",\n",
        "    \"Sydney\",\n",
        "]\n",
        "house_prices.plot(legend=False);"
      ],
      "id": "6de5701b",
      "execution_count": null,
      "outputs": []
    },
    {
      "cell_type": "markdown",
      "metadata": {},
      "source": [
        "::: {.callout-note}\n",
        "I apologise in advance for not being able to share this dataset with anyone (it is not mine to share).\n",
        ":::\n",
        "\n",
        "## Percentage changes {.smaller}\n"
      ],
      "id": "cffa4be3"
    },
    {
      "cell_type": "code",
      "metadata": {},
      "source": [
        "changes = house_prices.pct_change().dropna()\n",
        "changes.round(2)"
      ],
      "id": "85884a2d",
      "execution_count": null,
      "outputs": []
    },
    {
      "cell_type": "code",
      "metadata": {},
      "source": [
        "#| echo: false\n",
        "pandas.options.display.max_rows = 7"
      ],
      "id": "633b75c7",
      "execution_count": null,
      "outputs": []
    },
    {
      "cell_type": "markdown",
      "metadata": {},
      "source": [
        "## Percentage changes \n"
      ],
      "id": "2f0a442b"
    },
    {
      "cell_type": "code",
      "metadata": {},
      "source": [
        "#| eval: false\n",
        "changes.plot();"
      ],
      "id": "f5d350a5",
      "execution_count": null,
      "outputs": []
    },
    {
      "cell_type": "code",
      "metadata": {},
      "source": [
        "#| echo: false\n",
        "changes.plot(lw=1)\n",
        "matplotlib.pyplot.legend(\n",
        "    bbox_to_anchor=(0.5, 1.0), loc=\"lower center\", frameon=False, ncol=3\n",
        ");"
      ],
      "id": "984cf949",
      "execution_count": null,
      "outputs": []
    },
    {
      "cell_type": "markdown",
      "metadata": {},
      "source": [
        "## The size of the changes\n",
        "\n",
        "::: columns\n",
        "::: column"
      ],
      "id": "477b13db"
    },
    {
      "cell_type": "code",
      "metadata": {},
      "source": [
        "changes.mean()"
      ],
      "id": "eaa98aa1",
      "execution_count": null,
      "outputs": []
    },
    {
      "cell_type": "code",
      "metadata": {},
      "source": [
        "changes *= 100"
      ],
      "id": "be1c7068",
      "execution_count": null,
      "outputs": []
    },
    {
      "cell_type": "code",
      "metadata": {},
      "source": [
        "changes.mean()"
      ],
      "id": "2e0941ae",
      "execution_count": null,
      "outputs": []
    },
    {
      "cell_type": "markdown",
      "metadata": {},
      "source": [
        ":::\n",
        "::: column"
      ],
      "id": "3833ea90"
    },
    {
      "cell_type": "code",
      "metadata": {},
      "source": [
        "#| echo: false\n",
        "# set_square_figures() "
      ],
      "id": "6f99e91b",
      "execution_count": null,
      "outputs": []
    },
    {
      "cell_type": "code",
      "metadata": {},
      "source": [
        "changes.plot(legend=False);"
      ],
      "id": "6e2c9bb1",
      "execution_count": null,
      "outputs": []
    },
    {
      "cell_type": "markdown",
      "metadata": {},
      "source": [
        ":::\n",
        ":::\n",
        "\n",
        "\n",
        "## Split _without_ shuffling\n"
      ],
      "id": "57dbe347"
    },
    {
      "cell_type": "code",
      "metadata": {},
      "source": [
        "num_train = int(0.6 * len(changes))\n",
        "num_val = int(0.2 * len(changes))\n",
        "num_test = len(changes) - num_train - num_val\n",
        "print(f\"# Train: {num_train}, # Val: {num_val}, # Test: {num_test}\")"
      ],
      "id": "e3f1dc66",
      "execution_count": null,
      "outputs": []
    },
    {
      "cell_type": "code",
      "metadata": {},
      "source": [
        "#| echo: false\n",
        "changes.iloc[:num_train, 0].plot(c=\"tab:blue\", lw=1, alpha=0.5)\n",
        "changes.iloc[num_train : (num_train + num_val), 0].plot(\n",
        "    c=\"tab:orange\", ax=plt.gca(), lw=1, alpha=0.5\n",
        ")\n",
        "changes.iloc[(num_train + num_val) :, 0].plot(c=\"tab:green\", ax=plt.gca(), lw=1, alpha=0.5)\n",
        "changes.iloc[:num_train, 1:].plot(c=\"tab:blue\", ax=plt.gca(), lw=1, alpha=0.5)\n",
        "changes.iloc[num_train : (num_train + num_val), 1:].plot(\n",
        "    c=\"tab:orange\", ax=plt.gca(), lw=1, alpha=0.5\n",
        ")\n",
        "changes.iloc[(num_train + num_val) :, 1:].plot(c=\"tab:green\", ax=plt.gca(), lw=1, alpha=0.5)\n",
        "plt.legend([\"Train\", \"Val\", \"Test\"], frameon=False, ncol=3);"
      ],
      "id": "aaf3ca91",
      "execution_count": null,
      "outputs": []
    },
    {
      "cell_type": "code",
      "metadata": {},
      "source": [
        "#| echo: false\n",
        "set_rectangular_figures() "
      ],
      "id": "345cc12c",
      "execution_count": null,
      "outputs": []
    },
    {
      "cell_type": "markdown",
      "metadata": {},
      "source": [
        "## Subsequences of a time series\n",
        "\n",
        "Keras has a built-in method for converting a time series into subsequences/chunks.\n"
      ],
      "id": "9f8a78c3"
    },
    {
      "cell_type": "code",
      "metadata": {},
      "source": [
        "#| warning: false\n",
        "from keras.utils import timeseries_dataset_from_array\n",
        "\n",
        "integers = range(10)\n",
        "dummy_dataset = timeseries_dataset_from_array(\n",
        "    data=integers[:-3],\n",
        "    targets=integers[3:],\n",
        "    sequence_length=3,\n",
        "    batch_size=2,\n",
        ")\n",
        "\n",
        "for inputs, targets in dummy_dataset:\n",
        "    for i in range(inputs.shape[0]):\n",
        "        print([int(x) for x in inputs[i]], int(targets[i]))"
      ],
      "id": "8bfeb8b5",
      "execution_count": null,
      "outputs": []
    },
    {
      "cell_type": "markdown",
      "metadata": {},
      "source": [
        "::: footer\n",
        "Source: Code snippet in Chapter 10 of Chollet.\n",
        ":::\n",
        "\n",
        "\n",
        "<!-- \n",
        "## On time series splits\n",
        "\n",
        "If you have a lot of time series data, then use:\n",
        "\n",
        "```python\n",
        "from keras.utils import timeseries_dataset_from_array\n",
        "\n",
        "data = range(20)\n",
        "seq = 3\n",
        "ts = data[:-seq]\n",
        "target = data[seq:]\n",
        "num_train = int(0.5 * len(ts))\n",
        "num_val = int(0.25 * len(ts))\n",
        "num_test = len(ts) - num_train - num_val\n",
        "print(f\"# Train: {num_train}, # Val: {num_val}, # Test: {num_test}\")\n",
        "```\n",
        "\n",
        "::: columns\n",
        "::: {.column width=\"33%\"}\n",
        "\n",
        "```python\n",
        "train_ds = timeseries_dataset_from_array(ts, target, seq, end_index=num_train)\n",
        "```\n",
        "\n",
        ":::\n",
        "::: {.column width=\"33%\"}\n",
        "\n",
        "```python\n",
        "val_ds = timeseries_dataset_from_array(\n",
        "    ts, target, seq, start_index=num_train, end_index=num_train + num_val\n",
        ")\n",
        "```\n",
        "\n",
        ":::\n",
        "::: {.column width=\"33%\"}\n",
        "\n",
        "```python\n",
        "test_ds = timeseries_dataset_from_array(ts, target, seq, start_index=num_train + num_val)\n",
        "```\n",
        "\n",
        ":::\n",
        ":::\n",
        "\n",
        "::: columns\n",
        "::: {.column width=\"33%\"}\n",
        "\n",
        "```python\n",
        "#| echo: false\n",
        "print(\"Training dataset\")\n",
        "for inputs, targets in train_ds:\n",
        "    for i in range(inputs.shape[0]):\n",
        "        print([int(x) for x in inputs[i]], int(targets[i]))\n",
        "```\n",
        "\n",
        ":::\n",
        "::: {.column width=\"33%\"}\n",
        "\n",
        "```python\n",
        "#| echo: false\n",
        "print(\"Validation dataset\")\n",
        "for inputs, targets in val_ds:\n",
        "    for i in range(inputs.shape[0]):\n",
        "        print([int(x) for x in inputs[i]], int(targets[i]))\n",
        "```\n",
        "\n",
        ":::\n",
        "::: {.column width=\"33%\"}\n",
        "\n",
        "```python\n",
        "#| echo: false\n",
        "print(\"Test dataset\")\n",
        "for inputs, targets in test_ds:\n",
        "    for i in range(inputs.shape[0]):\n",
        "        print([int(x) for x in inputs[i]], int(targets[i]))\n",
        "```\n",
        "\n",
        ":::\n",
        ":::\n",
        "\n",
        "::: footer\n",
        "Adapted from: François Chollet (2021), _Deep Learning with Python_, Second Edition, Listing 10.7.\n",
        ":::\n",
        "\n",
        "## On time series splits II\n",
        "\n",
        "If you _don't_ have a lot of time series data, consider:\n",
        "\n",
        "```python\n",
        "X = []\n",
        "y = []\n",
        "for i in range(len(data) - seq):\n",
        "    X.append(data[i : i + seq])\n",
        "    y.append(data[i + seq])\n",
        "X = np.array(X)\n",
        "y = np.array(y);\n",
        "```\n",
        "\n",
        "::: columns\n",
        "::: {.column width=\"33%\"}\n",
        "\n",
        "```python\n",
        "num_train = int(0.5 * X.shape[0])\n",
        "X_train = X[:num_train]\n",
        "y_train = y[:num_train]\n",
        "```\n",
        "\n",
        ":::\n",
        "::: {.column width=\"33%\"}\n",
        "\n",
        "```python\n",
        "num_val = int(np.ceil(0.25 * X.shape[0]))\n",
        "X_val = X[num_train : num_train + num_val]\n",
        "y_val = y[num_train : num_train + num_val]\n",
        "```\n",
        "\n",
        ":::\n",
        "::: {.column width=\"33%\"}\n",
        "\n",
        "```python\n",
        "num_test = X.shape[0] - num_train - num_val\n",
        "X_test = X[num_train + num_val :]\n",
        "y_test = y[num_train + num_val :]\n",
        "```\n",
        "\n",
        ":::\n",
        ":::\n",
        "\n",
        "::: columns\n",
        "::: {.column width=\"33%\"}\n",
        "\n",
        "```python\n",
        "#| echo: false\n",
        "print(\"Training dataset\")\n",
        "for i in range(X_train.shape[0]):\n",
        "    print([int(x) for x in X_train[i]], int(y_train[i]))\n",
        "```\n",
        "\n",
        ":::\n",
        "::: {.column width=\"33%\"}\n",
        "\n",
        "```python\n",
        "#| echo: false\n",
        "print(\"Validation dataset\")\n",
        "for i in range(X_val.shape[0]):\n",
        "    print([int(x) for x in X_val[i]], int(y_val[i]))\n",
        "```\n",
        "\n",
        ":::\n",
        "::: {.column width=\"33%\"}\n",
        "\n",
        "```python\n",
        "#| echo: false\n",
        "print(\"Test dataset\")\n",
        "for i in range(X_test.shape[0]):\n",
        "    print([int(x) for x in X_test[i]], int(y_test[i]))\n",
        "```\n",
        "\n",
        ":::\n",
        ":::\n",
        "-->\n",
        "\n",
        "# Predicting Sydney House Prices {visibility=\"uncounted\"}\n",
        "\n",
        "## Creating dataset objects\n",
        "\n",
        "::: columns\n",
        "::: column"
      ],
      "id": "85f64b4c"
    },
    {
      "cell_type": "code",
      "metadata": {},
      "source": [
        "# Num. of input time series.\n",
        "num_ts = changes.shape[1]\n",
        "\n",
        "# How many prev. months to use.\n",
        "seq_length = 6\n",
        "\n",
        "# Predict the next month ahead.\n",
        "ahead = 1\n",
        "\n",
        "# The index of the first target.\n",
        "delay = seq_length + ahead - 1"
      ],
      "id": "0319ebb9",
      "execution_count": null,
      "outputs": []
    },
    {
      "cell_type": "markdown",
      "metadata": {},
      "source": [
        ":::\n",
        "::: column"
      ],
      "id": "154c387c"
    },
    {
      "cell_type": "code",
      "metadata": {},
      "source": [
        "# Which suburb to predict.\n",
        "target_suburb = changes[\"Sydney\"]\n",
        "\n",
        "train_ds = timeseries_dataset_from_array(\n",
        "    changes[:-delay],\n",
        "    targets=target_suburb[delay:],\n",
        "    sequence_length=seq_length,\n",
        "    end_index=num_train,\n",
        ")"
      ],
      "id": "c592bea8",
      "execution_count": null,
      "outputs": []
    },
    {
      "cell_type": "markdown",
      "metadata": {},
      "source": [
        ":::\n",
        ":::\n",
        "\n",
        "::: columns\n",
        "::: column"
      ],
      "id": "efb07308"
    },
    {
      "cell_type": "code",
      "metadata": {},
      "source": [
        "val_ds = timeseries_dataset_from_array(\n",
        "    changes[:-delay],\n",
        "    targets=target_suburb[delay:],\n",
        "    sequence_length=seq_length,\n",
        "    start_index=num_train,\n",
        "    end_index=num_train + num_val,\n",
        ")"
      ],
      "id": "a380eff3",
      "execution_count": null,
      "outputs": []
    },
    {
      "cell_type": "markdown",
      "metadata": {},
      "source": [
        ":::\n",
        "::: column"
      ],
      "id": "dca57dda"
    },
    {
      "cell_type": "code",
      "metadata": {},
      "source": [
        "test_ds = timeseries_dataset_from_array(\n",
        "    changes[:-delay],\n",
        "    targets=target_suburb[delay:],\n",
        "    sequence_length=seq_length,\n",
        "    start_index=num_train + num_val,\n",
        ")"
      ],
      "id": "3af17b39",
      "execution_count": null,
      "outputs": []
    },
    {
      "cell_type": "markdown",
      "metadata": {},
      "source": [
        ":::\n",
        ":::\n",
        "\n",
        "## Converting `Dataset` to numpy\n",
        "\n",
        "The `Dataset` object can be handed to Keras directly, but if we really need a numpy array, we can run:"
      ],
      "id": "e3ae4cb9"
    },
    {
      "cell_type": "code",
      "metadata": {},
      "source": [
        "X_train = np.concatenate(list(train_ds.map(lambda x, y: x)))\n",
        "y_train = np.concatenate(list(train_ds.map(lambda x, y: y)))"
      ],
      "id": "823acf17",
      "execution_count": null,
      "outputs": []
    },
    {
      "cell_type": "markdown",
      "metadata": {},
      "source": [
        "The shape of our training set is now:\n"
      ],
      "id": "8cb99c3d"
    },
    {
      "cell_type": "code",
      "metadata": {},
      "source": [
        "X_train.shape"
      ],
      "id": "c5650c03",
      "execution_count": null,
      "outputs": []
    },
    {
      "cell_type": "code",
      "metadata": {},
      "source": [
        "y_train.shape"
      ],
      "id": "e0d2a8cc",
      "execution_count": null,
      "outputs": []
    },
    {
      "cell_type": "markdown",
      "metadata": {},
      "source": [
        "Converting the rest to numpy arrays:\n"
      ],
      "id": "24d1a93c"
    },
    {
      "cell_type": "code",
      "metadata": {},
      "source": [
        "X_val = np.concatenate(list(val_ds.map(lambda x, y: x)))\n",
        "y_val = np.concatenate(list(val_ds.map(lambda x, y: y)))\n",
        "X_test = np.concatenate(list(test_ds.map(lambda x, y: x)))\n",
        "y_test = np.concatenate(list(test_ds.map(lambda x, y: y)))"
      ],
      "id": "2933ec0d",
      "execution_count": null,
      "outputs": []
    },
    {
      "cell_type": "markdown",
      "metadata": {},
      "source": [
        "## A dense network\n"
      ],
      "id": "958aca72"
    },
    {
      "cell_type": "code",
      "metadata": {},
      "source": [
        "from keras.layers import Input, Flatten\n",
        "random.seed(1)\n",
        "model_dense = Sequential([\n",
        "    Input((seq_length, num_ts)),\n",
        "    Flatten(),\n",
        "    Dense(50, activation=\"leaky_relu\"),\n",
        "    Dense(20, activation=\"leaky_relu\"),\n",
        "    Dense(1, activation=\"linear\")\n",
        "])\n",
        "model_dense.compile(loss=\"mse\", optimizer=\"adam\")\n",
        "print(f\"This model has {model_dense.count_params()} parameters.\")\n",
        "\n",
        "es = EarlyStopping(patience=50, restore_best_weights=True, verbose=1)\n",
        "%time hist = model_dense.fit(X_train, y_train, epochs=1_000, \\\n",
        "  validation_data=(X_val, y_val), callbacks=[es], verbose=0);"
      ],
      "id": "039a8931",
      "execution_count": null,
      "outputs": []
    },
    {
      "cell_type": "markdown",
      "metadata": {},
      "source": [
        "## Plot the model"
      ],
      "id": "86bda512"
    },
    {
      "cell_type": "code",
      "metadata": {},
      "source": [
        "from keras.utils import plot_model\n",
        "\n",
        "plot_model(model_dense, show_shapes=True)"
      ],
      "id": "0c5d63c6",
      "execution_count": null,
      "outputs": []
    },
    {
      "cell_type": "markdown",
      "metadata": {},
      "source": [
        "## Assess the fits\n"
      ],
      "id": "987a9198"
    },
    {
      "cell_type": "code",
      "metadata": {},
      "source": [
        "model_dense.evaluate(X_val, y_val, verbose=0)"
      ],
      "id": "a12c342a",
      "execution_count": null,
      "outputs": []
    },
    {
      "cell_type": "code",
      "metadata": {},
      "source": [
        "#| code-fold: true\n",
        "y_pred = model_dense.predict(X_val, verbose=0)\n",
        "plt.plot(y_val, label=\"Sydney\")\n",
        "plt.plot(y_pred, label=\"Dense\")\n",
        "plt.xlabel(\"Time\")\n",
        "plt.ylabel(\"Change in HPI (%)\")\n",
        "plt.legend(frameon=False);"
      ],
      "id": "f85ddbe1",
      "execution_count": null,
      "outputs": []
    },
    {
      "cell_type": "markdown",
      "metadata": {},
      "source": [
        "## A `SimpleRNN` layer\n"
      ],
      "id": "bf4655e8"
    },
    {
      "cell_type": "code",
      "metadata": {},
      "source": [
        "random.seed(1)\n",
        "\n",
        "model_simple = Sequential([\n",
        "    Input((seq_length, num_ts)),\n",
        "    SimpleRNN(50),\n",
        "    Dense(1, activation=\"linear\")\n",
        "])\n",
        "model_simple.compile(loss=\"mse\", optimizer=\"adam\")\n",
        "print(f\"This model has {model_simple.count_params()} parameters.\")\n",
        "\n",
        "es = EarlyStopping(patience=50, restore_best_weights=True, verbose=1)\n",
        "%time hist = model_simple.fit(X_train, y_train, epochs=1_000, \\\n",
        "  validation_data=(X_val, y_val), callbacks=[es], verbose=0);"
      ],
      "id": "acd07155",
      "execution_count": null,
      "outputs": []
    },
    {
      "cell_type": "markdown",
      "metadata": {},
      "source": [
        "## Plot the model"
      ],
      "id": "4d553793"
    },
    {
      "cell_type": "code",
      "metadata": {},
      "source": [
        "plot_model(model_simple, show_shapes=True)"
      ],
      "id": "428f9439",
      "execution_count": null,
      "outputs": []
    },
    {
      "cell_type": "markdown",
      "metadata": {},
      "source": [
        "## Assess the fits\n"
      ],
      "id": "5d7f06ff"
    },
    {
      "cell_type": "code",
      "metadata": {},
      "source": [
        "model_simple.evaluate(X_val, y_val, verbose=0)"
      ],
      "id": "bee1d30f",
      "execution_count": null,
      "outputs": []
    },
    {
      "cell_type": "code",
      "metadata": {},
      "source": [
        "#| code-fold: true\n",
        "y_pred = model_simple.predict(X_val, verbose=0)\n",
        "\n",
        "plt.plot(y_val, label=\"Sydney\")\n",
        "plt.plot(y_pred, label=\"SimpleRNN\")\n",
        "plt.xlabel(\"Time\")\n",
        "plt.ylabel(\"Change in HPI (%)\")\n",
        "plt.legend(frameon=False);"
      ],
      "id": "24bea66a",
      "execution_count": null,
      "outputs": []
    },
    {
      "cell_type": "markdown",
      "metadata": {},
      "source": [
        "## A `LSTM` layer\n"
      ],
      "id": "d922de34"
    },
    {
      "cell_type": "code",
      "metadata": {},
      "source": [
        "from keras.layers import LSTM\n",
        "\n",
        "random.seed(1)\n",
        "\n",
        "model_lstm = Sequential([\n",
        "    Input((seq_length, num_ts)),\n",
        "    LSTM(50),\n",
        "    Dense(1, activation=\"linear\")\n",
        "])\n",
        "\n",
        "model_lstm.compile(loss=\"mse\", optimizer=\"adam\")\n",
        "\n",
        "es = EarlyStopping(patience=50, restore_best_weights=True, verbose=1)\n",
        "\n",
        "%time hist = model_lstm.fit(X_train, y_train, epochs=1_000, \\\n",
        "  validation_data=(X_val, y_val), callbacks=[es], verbose=0);"
      ],
      "id": "3b971890",
      "execution_count": null,
      "outputs": []
    },
    {
      "cell_type": "markdown",
      "metadata": {},
      "source": [
        "## Assess the fits\n"
      ],
      "id": "ffbef1c4"
    },
    {
      "cell_type": "code",
      "metadata": {},
      "source": [
        "model_lstm.evaluate(X_val, y_val, verbose=0)"
      ],
      "id": "4e1cbb31",
      "execution_count": null,
      "outputs": []
    },
    {
      "cell_type": "code",
      "metadata": {},
      "source": [
        "#| code-fold: true\n",
        "y_pred = model_lstm.predict(X_val, verbose=0)\n",
        "plt.plot(y_val, label=\"Sydney\")\n",
        "plt.plot(y_pred, label=\"LSTM\")\n",
        "plt.xlabel(\"Time\")\n",
        "plt.ylabel(\"Change in HPI (%)\")\n",
        "plt.legend(frameon=False);"
      ],
      "id": "968f7643",
      "execution_count": null,
      "outputs": []
    },
    {
      "cell_type": "markdown",
      "metadata": {},
      "source": [
        "## A `GRU` layer\n"
      ],
      "id": "bf88ec39"
    },
    {
      "cell_type": "code",
      "metadata": {},
      "source": [
        "from keras.layers import GRU\n",
        "\n",
        "random.seed(1)\n",
        "\n",
        "model_gru = Sequential([\n",
        "    Input((seq_length, num_ts)),\n",
        "    GRU(50),\n",
        "    Dense(1, activation=\"linear\")\n",
        "])\n",
        "\n",
        "model_gru.compile(loss=\"mse\", optimizer=\"adam\")\n",
        "\n",
        "es = EarlyStopping(patience=50, restore_best_weights=True, verbose=1)\n",
        "\n",
        "%time hist = model_gru.fit(X_train, y_train, epochs=1_000, \\\n",
        "  validation_data=(X_val, y_val), callbacks=[es], verbose=0)"
      ],
      "id": "13439a8e",
      "execution_count": null,
      "outputs": []
    },
    {
      "cell_type": "markdown",
      "metadata": {},
      "source": [
        "## Assess the fits\n"
      ],
      "id": "e049e8b2"
    },
    {
      "cell_type": "code",
      "metadata": {},
      "source": [
        "model_gru.evaluate(X_val, y_val, verbose=0)"
      ],
      "id": "158b67ab",
      "execution_count": null,
      "outputs": []
    },
    {
      "cell_type": "code",
      "metadata": {},
      "source": [
        "#| code-fold: true\n",
        "y_pred = model_gru.predict(X_val, verbose=0)\n",
        "plt.plot(y_val, label=\"Sydney\")\n",
        "plt.plot(y_pred, label=\"GRU\")\n",
        "plt.xlabel(\"Time\")\n",
        "plt.ylabel(\"Change in HPI (%)\")\n",
        "plt.legend(frameon=False);"
      ],
      "id": "4f829f0d",
      "execution_count": null,
      "outputs": []
    },
    {
      "cell_type": "markdown",
      "metadata": {},
      "source": [
        "## Two `GRU` layers\n"
      ],
      "id": "53e5edb0"
    },
    {
      "cell_type": "code",
      "metadata": {},
      "source": [
        "random.seed(1)\n",
        "\n",
        "model_two_grus = Sequential([\n",
        "    Input((seq_length, num_ts)),\n",
        "    GRU(50, return_sequences=True),\n",
        "    GRU(50),\n",
        "    Dense(1, activation=\"linear\")\n",
        "])\n",
        "\n",
        "model_two_grus.compile(loss=\"mse\", optimizer=\"adam\")\n",
        "\n",
        "es = EarlyStopping(patience=50, restore_best_weights=True, verbose=1)\n",
        "\n",
        "%time hist = model_two_grus.fit(X_train, y_train, epochs=1_000, \\\n",
        "  validation_data=(X_val, y_val), callbacks=[es], verbose=0)"
      ],
      "id": "2d66bf59",
      "execution_count": null,
      "outputs": []
    },
    {
      "cell_type": "markdown",
      "metadata": {},
      "source": [
        "## Assess the fits\n"
      ],
      "id": "fcd9d770"
    },
    {
      "cell_type": "code",
      "metadata": {},
      "source": [
        "model_two_grus.evaluate(X_val, y_val, verbose=0)"
      ],
      "id": "fc81e154",
      "execution_count": null,
      "outputs": []
    },
    {
      "cell_type": "code",
      "metadata": {},
      "source": [
        "#| code-fold: true\n",
        "y_pred = model_two_grus.predict(X_val, verbose=0)\n",
        "plt.plot(y_val, label=\"Sydney\")\n",
        "plt.plot(y_pred, label=\"2 GRUs\")\n",
        "plt.xlabel(\"Time\")\n",
        "plt.ylabel(\"Change in HPI (%)\")\n",
        "plt.legend(frameon=False);"
      ],
      "id": "3571ad56",
      "execution_count": null,
      "outputs": []
    },
    {
      "cell_type": "markdown",
      "metadata": {},
      "source": [
        "## Compare the models\n"
      ],
      "id": "d1a4281a"
    },
    {
      "cell_type": "code",
      "metadata": {},
      "source": [
        "#| echo: false\n",
        "models = [model_dense, model_simple, model_lstm, model_gru, model_two_grus]\n",
        "model_names = [\"Dense\", \"SimpleRNN\", \"LSTM\", \"GRU\", \"2 GRUs\"]\n",
        "mse_val = {\n",
        "    name: model.evaluate(X_val, y_val, verbose=0)\n",
        "    for name, model in zip(model_names, models)\n",
        "}\n",
        "val_results = pd.DataFrame({\"Model\": mse_val.keys(), \"MSE\": mse_val.values()})\n",
        "val_results.sort_values(\"MSE\", ascending=False)"
      ],
      "id": "bba6adda",
      "execution_count": null,
      "outputs": []
    },
    {
      "cell_type": "markdown",
      "metadata": {},
      "source": [
        "The network with two GRU layers is the best. \n"
      ],
      "id": "bc54e95c"
    },
    {
      "cell_type": "code",
      "metadata": {},
      "source": [
        "model_two_grus.evaluate(test_ds, verbose=0)"
      ],
      "id": "d2017113",
      "execution_count": null,
      "outputs": []
    },
    {
      "cell_type": "markdown",
      "metadata": {},
      "source": [
        "## Test set\n"
      ],
      "id": "fe433ffe"
    },
    {
      "cell_type": "code",
      "metadata": {},
      "source": [
        "#| code-fold: true\n",
        "y_pred = model_two_grus.predict(test_ds, verbose=0)\n",
        "plt.plot(y_test, label=\"Sydney\")\n",
        "plt.plot(y_pred, label=\"2 GRU\")\n",
        "plt.xlabel(\"Time\")\n",
        "plt.ylabel(\"Change in HPI (%)\")\n",
        "plt.legend(frameon=False);"
      ],
      "id": "aec6c81c",
      "execution_count": null,
      "outputs": []
    },
    {
      "cell_type": "markdown",
      "metadata": {},
      "source": [
        "# Predicting Multiple Time Series {visibility=\"uncounted\"}\n",
        "\n",
        "## Creating dataset objects\n",
        "\n",
        "::: columns\n",
        "::: column\n",
        "Change the `targets` argument to include all the suburbs.\n",
        ":::\n",
        "::: column"
      ],
      "id": "385b4c64"
    },
    {
      "cell_type": "code",
      "metadata": {},
      "source": [
        "train_ds = timeseries_dataset_from_array(\n",
        "    changes[:-delay],\n",
        "    targets=changes[delay:],\n",
        "    sequence_length=seq_length,\n",
        "    end_index=num_train,\n",
        ")"
      ],
      "id": "7809799d",
      "execution_count": null,
      "outputs": []
    },
    {
      "cell_type": "markdown",
      "metadata": {},
      "source": [
        ":::\n",
        ":::\n",
        "\n",
        "::: columns\n",
        "::: column"
      ],
      "id": "454dee46"
    },
    {
      "cell_type": "code",
      "metadata": {},
      "source": [
        "val_ds = timeseries_dataset_from_array(\n",
        "    changes[:-delay],\n",
        "    targets=changes[delay:],\n",
        "    sequence_length=seq_length,\n",
        "    start_index=num_train,\n",
        "    end_index=num_train + num_val,\n",
        ")"
      ],
      "id": "f37694c0",
      "execution_count": null,
      "outputs": []
    },
    {
      "cell_type": "markdown",
      "metadata": {},
      "source": [
        ":::\n",
        "::: column"
      ],
      "id": "c5dc6287"
    },
    {
      "cell_type": "code",
      "metadata": {},
      "source": [
        "test_ds = timeseries_dataset_from_array(\n",
        "    changes[:-delay],\n",
        "    targets=changes[delay:],\n",
        "    sequence_length=seq_length,\n",
        "    start_index=num_train + num_val,\n",
        ")"
      ],
      "id": "fc0c04d5",
      "execution_count": null,
      "outputs": []
    },
    {
      "cell_type": "markdown",
      "metadata": {},
      "source": [
        ":::\n",
        ":::\n",
        "\n",
        "## Converting `Dataset` to numpy\n",
        "\n",
        "The shape of our training set is now:\n"
      ],
      "id": "e8d3155e"
    },
    {
      "cell_type": "code",
      "metadata": {},
      "source": [
        "X_train = np.concatenate(list(train_ds.map(lambda x, y: x)))\n",
        "X_train.shape"
      ],
      "id": "b6e59124",
      "execution_count": null,
      "outputs": []
    },
    {
      "cell_type": "code",
      "metadata": {},
      "source": [
        "y_train = np.concatenate(list(train_ds.map(lambda x, y: y)))\n",
        "y_train.shape"
      ],
      "id": "01c2a8ad",
      "execution_count": null,
      "outputs": []
    },
    {
      "cell_type": "markdown",
      "metadata": {},
      "source": [
        "Converting the rest to numpy arrays:\n"
      ],
      "id": "897d9e3b"
    },
    {
      "cell_type": "code",
      "metadata": {},
      "source": [
        "X_val = np.concatenate(list(val_ds.map(lambda x, y: x)))\n",
        "y_val = np.concatenate(list(val_ds.map(lambda x, y: y)))\n",
        "X_test = np.concatenate(list(test_ds.map(lambda x, y: x)))\n",
        "y_test = np.concatenate(list(test_ds.map(lambda x, y: y)))"
      ],
      "id": "4b2e44e6",
      "execution_count": null,
      "outputs": []
    },
    {
      "cell_type": "markdown",
      "metadata": {},
      "source": [
        "## A dense network\n"
      ],
      "id": "d068cd07"
    },
    {
      "cell_type": "code",
      "metadata": {},
      "source": [
        "random.seed(1)\n",
        "model_dense = Sequential([\n",
        "    Input((seq_length, num_ts)),\n",
        "    Flatten(),\n",
        "    Dense(50, activation=\"leaky_relu\"),\n",
        "    Dense(20, activation=\"leaky_relu\"),\n",
        "    Dense(num_ts, activation=\"linear\")\n",
        "])\n",
        "model_dense.compile(loss=\"mse\", optimizer=\"adam\")\n",
        "print(f\"This model has {model_dense.count_params()} parameters.\")\n",
        "\n",
        "es = EarlyStopping(patience=50, restore_best_weights=True, verbose=1)\n",
        "%time hist = model_dense.fit(X_train, y_train, epochs=1_000, \\\n",
        "  validation_data=(X_val, y_val), callbacks=[es], verbose=0);"
      ],
      "id": "d09fa8b8",
      "execution_count": null,
      "outputs": []
    },
    {
      "cell_type": "markdown",
      "metadata": {},
      "source": [
        "## Plot the model"
      ],
      "id": "f04d5163"
    },
    {
      "cell_type": "code",
      "metadata": {},
      "source": [
        "plot_model(model_dense, show_shapes=True)"
      ],
      "id": "a35a1c05",
      "execution_count": null,
      "outputs": []
    },
    {
      "cell_type": "markdown",
      "metadata": {},
      "source": [
        "## Assess the fits\n"
      ],
      "id": "6febccde"
    },
    {
      "cell_type": "code",
      "metadata": {},
      "source": [
        "model_dense.evaluate(X_val, y_val, verbose=0)"
      ],
      "id": "3434c31a",
      "execution_count": null,
      "outputs": []
    },
    {
      "cell_type": "markdown",
      "metadata": {},
      "source": [
        "::: columns\n",
        "::: column"
      ],
      "id": "69766181"
    },
    {
      "cell_type": "code",
      "metadata": {},
      "source": [
        "#| code-fold: true\n",
        "Y_pred = model_dense.predict(X_val, verbose=0)\n",
        "plt.scatter(y_val, Y_pred)\n",
        "add_diagonal_line()\n",
        "plt.xlabel(\"Actual\")\n",
        "plt.ylabel(\"Predicted\")\n",
        "plt.show()\n",
        "\n",
        "plt.plot(y_val[:, 4], label=\"Melbourne\")\n",
        "plt.plot(Y_pred[:, 4], label=\"Dense\")\n",
        "plt.xlabel(\"Time\")\n",
        "plt.ylabel(\"Change in HPI (%)\")\n",
        "plt.legend(frameon=False);"
      ],
      "id": "75a521ce",
      "execution_count": null,
      "outputs": []
    },
    {
      "cell_type": "markdown",
      "metadata": {},
      "source": [
        ":::\n",
        "::: column"
      ],
      "id": "3ce98b65"
    },
    {
      "cell_type": "code",
      "metadata": {},
      "source": [
        "#| code-fold: true\n",
        "plt.plot(y_val[:, 0], label=\"Brisbane\")\n",
        "plt.plot(Y_pred[:, 0], label=\"Dense\")\n",
        "plt.xlabel(\"Time\")\n",
        "plt.ylabel(\"Change in HPI (%)\")\n",
        "plt.legend(frameon=False)\n",
        "plt.show()\n",
        "\n",
        "plt.plot(y_val[:, 6], label=\"Sydney\")\n",
        "plt.plot(Y_pred[:, 6], label=\"Dense\")\n",
        "plt.xlabel(\"Time\")\n",
        "plt.ylabel(\"Change in HPI (%)\")\n",
        "plt.legend(frameon=False);"
      ],
      "id": "9fc7797a",
      "execution_count": null,
      "outputs": []
    },
    {
      "cell_type": "markdown",
      "metadata": {},
      "source": [
        ":::\n",
        ":::\n",
        "\n",
        "## A `SimpleRNN` layer\n"
      ],
      "id": "63ab3680"
    },
    {
      "cell_type": "code",
      "metadata": {},
      "source": [
        "random.seed(1)\n",
        "\n",
        "model_simple = Sequential([\n",
        "    Input((seq_length, num_ts)),\n",
        "    SimpleRNN(50),\n",
        "    Dense(num_ts, activation=\"linear\")\n",
        "])\n",
        "model_simple.compile(loss=\"mse\", optimizer=\"adam\")\n",
        "print(f\"This model has {model_simple.count_params()} parameters.\")\n",
        "\n",
        "es = EarlyStopping(patience=50, restore_best_weights=True, verbose=1)\n",
        "%time hist = model_simple.fit(X_train, y_train, epochs=1_000, \\\n",
        "  validation_data=(X_val, y_val), callbacks=[es], verbose=0);"
      ],
      "id": "f4bd3616",
      "execution_count": null,
      "outputs": []
    },
    {
      "cell_type": "markdown",
      "metadata": {},
      "source": [
        "## Plot the model"
      ],
      "id": "e41b475c"
    },
    {
      "cell_type": "code",
      "metadata": {},
      "source": [
        "plot_model(model_simple, show_shapes=True)"
      ],
      "id": "ebae8ee6",
      "execution_count": null,
      "outputs": []
    },
    {
      "cell_type": "markdown",
      "metadata": {},
      "source": [
        "## Assess the fits\n"
      ],
      "id": "2ec699a2"
    },
    {
      "cell_type": "code",
      "metadata": {},
      "source": [
        "model_simple.evaluate(X_val, y_val, verbose=0)"
      ],
      "id": "65ed15bc",
      "execution_count": null,
      "outputs": []
    },
    {
      "cell_type": "markdown",
      "metadata": {},
      "source": [
        "::: columns\n",
        "::: column"
      ],
      "id": "88728e4c"
    },
    {
      "cell_type": "code",
      "metadata": {},
      "source": [
        "#| code-fold: true\n",
        "Y_pred = model_simple.predict(X_val, verbose=0)\n",
        "plt.scatter(y_val, Y_pred)\n",
        "add_diagonal_line()\n",
        "plt.xlabel(\"Actual\")\n",
        "plt.ylabel(\"Predicted\")\n",
        "plt.show()\n",
        "\n",
        "plt.plot(y_val[:, 4], label=\"Melbourne\")\n",
        "plt.plot(Y_pred[:, 4], label=\"SimpleRNN\")\n",
        "plt.xlabel(\"Time\")\n",
        "plt.ylabel(\"Change in HPI (%)\")\n",
        "plt.legend(frameon=False);"
      ],
      "id": "c0eae82e",
      "execution_count": null,
      "outputs": []
    },
    {
      "cell_type": "markdown",
      "metadata": {},
      "source": [
        ":::\n",
        "::: column"
      ],
      "id": "3eb08319"
    },
    {
      "cell_type": "code",
      "metadata": {},
      "source": [
        "#| code-fold: true\n",
        "plt.plot(y_val[:, 0], label=\"Brisbane\")\n",
        "plt.plot(Y_pred[:, 0], label=\"SimpleRNN\")\n",
        "plt.xlabel(\"Time\")\n",
        "plt.ylabel(\"Change in HPI (%)\")\n",
        "plt.legend(frameon=False)\n",
        "plt.show()\n",
        "\n",
        "plt.plot(y_val[:, 6], label=\"Sydney\")\n",
        "plt.plot(Y_pred[:, 6], label=\"SimpleRNN\")\n",
        "plt.xlabel(\"Time\")\n",
        "plt.ylabel(\"Change in HPI (%)\")\n",
        "plt.legend(frameon=False);"
      ],
      "id": "79167dee",
      "execution_count": null,
      "outputs": []
    },
    {
      "cell_type": "markdown",
      "metadata": {},
      "source": [
        ":::\n",
        ":::\n",
        "\n",
        "\n",
        "## A `LSTM` layer\n"
      ],
      "id": "f77a1e42"
    },
    {
      "cell_type": "code",
      "metadata": {},
      "source": [
        "random.seed(1)\n",
        "\n",
        "model_lstm = Sequential([\n",
        "    Input((seq_length, num_ts)),\n",
        "    LSTM(50),\n",
        "    Dense(num_ts, activation=\"linear\")\n",
        "])\n",
        "\n",
        "model_lstm.compile(loss=\"mse\", optimizer=\"adam\")\n",
        "\n",
        "es = EarlyStopping(patience=50, restore_best_weights=True, verbose=1)\n",
        "\n",
        "%time hist = model_lstm.fit(X_train, y_train, epochs=1_000, \\\n",
        "  validation_data=(X_val, y_val), callbacks=[es], verbose=0);"
      ],
      "id": "037431d4",
      "execution_count": null,
      "outputs": []
    },
    {
      "cell_type": "markdown",
      "metadata": {},
      "source": [
        "## Assess the fits\n"
      ],
      "id": "c7ea7ea3"
    },
    {
      "cell_type": "code",
      "metadata": {},
      "source": [
        "model_lstm.evaluate(X_val, y_val, verbose=0)"
      ],
      "id": "95f2f4fb",
      "execution_count": null,
      "outputs": []
    },
    {
      "cell_type": "markdown",
      "metadata": {},
      "source": [
        "::: columns\n",
        "::: column"
      ],
      "id": "7098aa77"
    },
    {
      "cell_type": "code",
      "metadata": {},
      "source": [
        "#| code-fold: true\n",
        "Y_pred = model_lstm.predict(X_val, verbose=0)\n",
        "plt.scatter(y_val, Y_pred)\n",
        "add_diagonal_line()\n",
        "plt.xlabel(\"Actual\")\n",
        "plt.ylabel(\"Predicted\")\n",
        "plt.show()\n",
        "\n",
        "plt.plot(y_val[:, 4], label=\"Melbourne\")\n",
        "plt.plot(Y_pred[:, 4], label=\"LSTM\")\n",
        "plt.xlabel(\"Time\")\n",
        "plt.ylabel(\"Change in HPI (%)\")\n",
        "plt.legend(frameon=False);"
      ],
      "id": "0d104adb",
      "execution_count": null,
      "outputs": []
    },
    {
      "cell_type": "markdown",
      "metadata": {},
      "source": [
        ":::\n",
        "::: column"
      ],
      "id": "7406bc47"
    },
    {
      "cell_type": "code",
      "metadata": {},
      "source": [
        "#| code-fold: true\n",
        "plt.plot(y_val[:, 0], label=\"Brisbane\")\n",
        "plt.plot(Y_pred[:, 0], label=\"LSTM\")\n",
        "plt.xlabel(\"Time\")\n",
        "plt.ylabel(\"Change in HPI (%)\")\n",
        "plt.legend(frameon=False)\n",
        "plt.show()\n",
        "\n",
        "plt.plot(y_val[:, 6], label=\"Sydney\")\n",
        "plt.plot(Y_pred[:, 6], label=\"LSTM\")\n",
        "plt.xlabel(\"Time\")\n",
        "plt.ylabel(\"Change in HPI (%)\")\n",
        "plt.legend(frameon=False);"
      ],
      "id": "977d85e9",
      "execution_count": null,
      "outputs": []
    },
    {
      "cell_type": "markdown",
      "metadata": {},
      "source": [
        ":::\n",
        ":::\n",
        "\n",
        "## A `GRU` layer\n"
      ],
      "id": "1dbee158"
    },
    {
      "cell_type": "code",
      "metadata": {},
      "source": [
        "random.seed(1)\n",
        "\n",
        "model_gru = Sequential([\n",
        "    Input((seq_length, num_ts)),\n",
        "    GRU(50),\n",
        "    Dense(num_ts, activation=\"linear\")\n",
        "])\n",
        "\n",
        "model_gru.compile(loss=\"mse\", optimizer=\"adam\")\n",
        "\n",
        "es = EarlyStopping(patience=50, restore_best_weights=True, verbose=1)\n",
        "\n",
        "%time hist = model_gru.fit(X_train, y_train, epochs=1_000, \\\n",
        "  validation_data=(X_val, y_val), callbacks=[es], verbose=0)"
      ],
      "id": "30806ecb",
      "execution_count": null,
      "outputs": []
    },
    {
      "cell_type": "markdown",
      "metadata": {},
      "source": [
        "## Assess the fits\n"
      ],
      "id": "e290263e"
    },
    {
      "cell_type": "code",
      "metadata": {},
      "source": [
        "model_gru.evaluate(X_val, y_val, verbose=0)"
      ],
      "id": "b76219b3",
      "execution_count": null,
      "outputs": []
    },
    {
      "cell_type": "markdown",
      "metadata": {},
      "source": [
        "::: columns\n",
        "::: column"
      ],
      "id": "0af1bc4e"
    },
    {
      "cell_type": "code",
      "metadata": {},
      "source": [
        "#| code-fold: true\n",
        "Y_pred = model_gru.predict(X_val, verbose=0)\n",
        "plt.scatter(y_val, Y_pred)\n",
        "add_diagonal_line()\n",
        "plt.xlabel(\"Actual\")\n",
        "plt.ylabel(\"Predicted\")\n",
        "plt.show()\n",
        "\n",
        "plt.plot(y_val[:, 4], label=\"Melbourne\")\n",
        "plt.plot(Y_pred[:, 4], label=\"GRU\")\n",
        "plt.xlabel(\"Time\")\n",
        "plt.ylabel(\"Change in HPI (%)\")\n",
        "plt.legend(frameon=False);"
      ],
      "id": "995335cd",
      "execution_count": null,
      "outputs": []
    },
    {
      "cell_type": "markdown",
      "metadata": {},
      "source": [
        ":::\n",
        "::: column"
      ],
      "id": "ed8238fe"
    },
    {
      "cell_type": "code",
      "metadata": {},
      "source": [
        "#| code-fold: true\n",
        "plt.plot(y_val[:, 0], label=\"Brisbane\")\n",
        "plt.plot(Y_pred[:, 0], label=\"GRU\")\n",
        "plt.xlabel(\"Time\")\n",
        "plt.ylabel(\"Change in HPI (%)\")\n",
        "plt.legend(frameon=False)\n",
        "plt.show()\n",
        "\n",
        "plt.plot(y_val[:, 6], label=\"Sydney\")\n",
        "plt.plot(Y_pred[:, 6], label=\"GRU\")\n",
        "plt.xlabel(\"Time\")\n",
        "plt.ylabel(\"Change in HPI (%)\")\n",
        "plt.legend(frameon=False);"
      ],
      "id": "fc91ecad",
      "execution_count": null,
      "outputs": []
    },
    {
      "cell_type": "markdown",
      "metadata": {},
      "source": [
        ":::\n",
        ":::\n",
        "\n",
        "## Two `GRU` layers\n"
      ],
      "id": "3593b903"
    },
    {
      "cell_type": "code",
      "metadata": {},
      "source": [
        "random.seed(1)\n",
        "\n",
        "model_two_grus = Sequential([\n",
        "    Input((seq_length, num_ts)),\n",
        "    GRU(50, return_sequences=True),\n",
        "    GRU(50),\n",
        "    Dense(num_ts, activation=\"linear\")\n",
        "])\n",
        "\n",
        "model_two_grus.compile(loss=\"mse\", optimizer=\"adam\")\n",
        "\n",
        "es = EarlyStopping(patience=50, restore_best_weights=True, verbose=1)\n",
        "\n",
        "%time hist = model_two_grus.fit(X_train, y_train, epochs=1_000, \\\n",
        "  validation_data=(X_val, y_val), callbacks=[es], verbose=0)"
      ],
      "id": "2ed8d3d6",
      "execution_count": null,
      "outputs": []
    },
    {
      "cell_type": "markdown",
      "metadata": {},
      "source": [
        "## Assess the fits\n"
      ],
      "id": "8080a551"
    },
    {
      "cell_type": "code",
      "metadata": {},
      "source": [
        "model_two_grus.evaluate(X_val, y_val, verbose=0)"
      ],
      "id": "57c9d895",
      "execution_count": null,
      "outputs": []
    },
    {
      "cell_type": "markdown",
      "metadata": {},
      "source": [
        "::: columns\n",
        "::: column"
      ],
      "id": "0bd64b3a"
    },
    {
      "cell_type": "code",
      "metadata": {},
      "source": [
        "#| code-fold: true\n",
        "Y_pred = model_two_grus.predict(X_val, verbose=0)\n",
        "plt.scatter(y_val, Y_pred)\n",
        "add_diagonal_line()\n",
        "plt.xlabel(\"Actual\")\n",
        "plt.ylabel(\"Predicted\")\n",
        "plt.show()\n",
        "\n",
        "plt.plot(y_val[:, 4], label=\"Melbourne\")\n",
        "plt.plot(Y_pred[:, 4], label=\"2 GRUs\")\n",
        "plt.xlabel(\"Time\")\n",
        "plt.ylabel(\"Change in HPI (%)\")\n",
        "plt.legend(frameon=False);"
      ],
      "id": "deb3c045",
      "execution_count": null,
      "outputs": []
    },
    {
      "cell_type": "markdown",
      "metadata": {},
      "source": [
        ":::\n",
        "::: column"
      ],
      "id": "5f29835b"
    },
    {
      "cell_type": "code",
      "metadata": {},
      "source": [
        "#| code-fold: true\n",
        "plt.plot(y_val[:, 0], label=\"Brisbane\")\n",
        "plt.plot(Y_pred[:, 0], label=\"2 GRUs\")\n",
        "plt.xlabel(\"Time\")\n",
        "plt.ylabel(\"Change in HPI (%)\")\n",
        "plt.legend(frameon=False)\n",
        "plt.show()\n",
        "\n",
        "plt.plot(y_val[:, 6], label=\"Sydney\")\n",
        "plt.plot(Y_pred[:, 6], label=\"2 GRUs\")\n",
        "plt.xlabel(\"Time\")\n",
        "plt.ylabel(\"Change in HPI (%)\")\n",
        "plt.legend(frameon=False);"
      ],
      "id": "2498d9e0",
      "execution_count": null,
      "outputs": []
    },
    {
      "cell_type": "markdown",
      "metadata": {},
      "source": [
        ":::\n",
        ":::\n",
        "\n",
        "## Compare the models\n"
      ],
      "id": "61b0e2ab"
    },
    {
      "cell_type": "code",
      "metadata": {},
      "source": [
        "#| code-fold: true\n",
        "models = [model_dense, model_simple, model_lstm, model_gru, model_two_grus]\n",
        "model_names = [\"Dense\", \"SimpleRNN\", \"LSTM\", \"GRU\", \"2 GRUs\"]\n",
        "mse_val = {\n",
        "    name: model.evaluate(X_val, y_val, verbose=0)\n",
        "    for name, model in zip(model_names, models)\n",
        "}\n",
        "val_results = pd.DataFrame({\"Model\": mse_val.keys(), \"MSE\": mse_val.values()})\n",
        "val_results.sort_values(\"MSE\", ascending=False)"
      ],
      "id": "11f241f6",
      "execution_count": null,
      "outputs": []
    },
    {
      "cell_type": "markdown",
      "metadata": {},
      "source": [
        "The network with an LSTM layer is the best. \n"
      ],
      "id": "be4729aa"
    },
    {
      "cell_type": "code",
      "metadata": {},
      "source": [
        "model_lstm.evaluate(test_ds, verbose=0)"
      ],
      "id": "d22dcbe7",
      "execution_count": null,
      "outputs": []
    },
    {
      "cell_type": "markdown",
      "metadata": {},
      "source": [
        "## Test set\n",
        "\n",
        "::: columns\n",
        "::: column"
      ],
      "id": "af86d0a5"
    },
    {
      "cell_type": "code",
      "metadata": {},
      "source": [
        "#| code-fold: true\n",
        "Y_pred = model_lstm.predict(test_ds, verbose=0)\n",
        "plt.scatter(y_test, Y_pred)\n",
        "add_diagonal_line()\n",
        "plt.xlabel(\"Actual\")\n",
        "plt.ylabel(\"Predicted\")\n",
        "plt.show()\n",
        "\n",
        "plt.plot(y_test[:, 4], label=\"Melbourne\")\n",
        "plt.plot(Y_pred[:, 4], label=\"GRU\")\n",
        "plt.xlabel(\"Time\")\n",
        "plt.ylabel(\"Change in HPI (%)\")\n",
        "plt.legend(frameon=False);"
      ],
      "id": "efa1d011",
      "execution_count": null,
      "outputs": []
    },
    {
      "cell_type": "markdown",
      "metadata": {},
      "source": [
        ":::\n",
        "::: column"
      ],
      "id": "8d3e011a"
    },
    {
      "cell_type": "code",
      "metadata": {},
      "source": [
        "#| code-fold: true\n",
        "plt.plot(y_test[:, 0], label=\"Brisbane\")\n",
        "plt.plot(Y_pred[:, 0], label=\"GRU\")\n",
        "plt.xlabel(\"Time\")\n",
        "plt.ylabel(\"Change in HPI (%)\")\n",
        "plt.legend(frameon=False)\n",
        "plt.show()\n",
        "\n",
        "plt.plot(y_test[:, 6], label=\"Sydney\")\n",
        "plt.plot(Y_pred[:, 6], label=\"GRU\")\n",
        "plt.xlabel(\"Time\")\n",
        "plt.ylabel(\"Change in HPI (%)\")\n",
        "plt.legend(frameon=False);"
      ],
      "id": "da9010bf",
      "execution_count": null,
      "outputs": []
    },
    {
      "cell_type": "markdown",
      "metadata": {},
      "source": [
        ":::\n",
        ":::\n",
        "\n",
        "\n",
        "\n",
        "## Package Versions {.appendix data-visibility=\"uncounted\"}\n"
      ],
      "id": "cfe10edf"
    },
    {
      "cell_type": "code",
      "metadata": {},
      "source": [
        "from watermark import watermark\n",
        "print(watermark(python=True, packages=\"keras,matplotlib,numpy,pandas,seaborn,scipy,torch,tensorflow,tf_keras\"))"
      ],
      "id": "fdb009d0",
      "execution_count": null,
      "outputs": []
    },
    {
      "cell_type": "markdown",
      "metadata": {},
      "source": [
        "## Glossary {.appendix data-visibility=\"uncounted\"}\n",
        "\n",
        "- autoregressive forecasting\n",
        "- forecasting\n",
        "- GRU\n",
        "- LSTM\n",
        "- one-step/multi-step ahead forecasting\n",
        "- persistence forecast\n",
        "- recurrent neural networks\n",
        "- SimpleRNN"
      ],
      "id": "6f6a678d"
    }
  ],
  "metadata": {
    "kernelspec": {
      "name": "python2",
      "language": "python",
      "display_name": "Python 2"
    }
  },
  "nbformat": 4,
  "nbformat_minor": 5
}