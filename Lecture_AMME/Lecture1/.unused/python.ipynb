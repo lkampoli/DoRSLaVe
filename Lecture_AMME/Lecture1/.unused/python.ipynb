{
  "cells": [
    {
      "cell_type": "raw",
      "metadata": {},
      "source": [
        "---\n",
        "title: Python\n",
        "---"
      ],
      "id": "aeedb100"
    },
    {
      "cell_type": "markdown",
      "metadata": {},
      "source": [
        "## Recording of this lecture\n",
        "\n",
        "A recording covering (most of) this Python content:\n",
        "\n",
        "::: {.content-hidden unless-format=\"revealjs\"}\n",
        "\n",
        "\n",
        "{{< video https://youtu.be/kLpXVzpDGps width=\"1068px\" height=\"600px\" >}}\n",
        "\n",
        "\n",
        "\n",
        "\n",
        ":::\n",
        "::: {.content-visible unless-format=\"revealjs\"}\n",
        "\n",
        "\n",
        "{{< video https://youtu.be/kLpXVzpDGps >}}\n",
        "\n",
        "\n",
        "\n",
        "\n",
        ":::\n",
        "\n",
        "# Data Science & Python {visibility=\"uncounted\"}\n",
        "\n",
        "## About Python\n",
        "\n",
        "::: columns\n",
        "::: {.column width=\"40%\"}\n",
        "![Free book [Automate the Boring Stuff with Python](https://automatetheboringstuff.com/)](automate-the-boring-stuff-with-python.jpeg)\n",
        ":::\n",
        "\n",
        "::: {.column width=\"60%\"}\n",
        "It is _general purpose_ language\n",
        "\n",
        "Python powers:\n",
        "\n",
        "- Instagram\n",
        "- Spotify\n",
        "- Netflix\n",
        "- Uber\n",
        "- Reddit...\n",
        "\n",
        "Python is on Mars.\n",
        "\n",
        ":::\n",
        ":::\n",
        "\n",
        "::: footer\n",
        "Sources: [Blog post](https://learn.onemonth.com/10-famous-websites-built-using-python/) and [Github](https://docs.github.com/en/account-and-profile/setting-up-and-managing-your-github-profile/customizing-your-profile/personalizing-your-profile#list-of-qualifying-repositories-for-mars-2020-helicopter-contributor-badge).\n",
        ":::\n",
        "\n",
        "\n",
        "## Stack Overflow [2021 Dev. Survey](https://insights.stackoverflow.com/survey/2021)\n",
        "\n",
        "::: columns\n",
        "::: {.column width=\"55%\"}\n",
        "\n",
        "- Python is [3rd most popular language](https://insights.stackoverflow.com/survey/2021#section-most-popular-technologies-programming-scripting-and-markup-languages)\n",
        "- Python is the [most wanted language](https://insights.stackoverflow.com/survey/2021#section-most-loved-dreaded-and-wanted-programming-scripting-and-markup-languages)\n",
        "- In 'Other frameworks and libraries', they note that [\"several data science libraries for Python make strong showings\"](https://insights.stackoverflow.com/survey/2021#section-most-popular-technologies-other-frameworks-and-libraries\n",
        ").\n",
        "\n",
        ":::\n",
        "::: {.column width=\"38%\"}\n",
        "\n",
        "![Popular languages.](so-popular-languages-all.png)\n",
        "\n",
        ":::\n",
        ":::\n",
        "\n",
        "## Github's [2021 State of the Octoverse](https://octoverse.github.com/#top-languages-over-the-years)\n",
        "\n",
        "![Top languages over the years](github-programming-languages.svg)\n",
        "\n",
        "\n",
        "::: footer\n",
        "Source: Kaggle (2021), [State of Machine Learning and Data Science](https://www.kaggle.com/kaggle-survey-2021).\n",
        ":::\n"
      ],
      "id": "12a7033c"
    },
    {
      "cell_type": "code",
      "metadata": {},
      "source": [
        "#| echo: false\n",
        "#| eval: false\n",
        "from IPython.display import display, HTML\n",
        "\n",
        "html = '<div class=\"r-stack\">'\n",
        "\n",
        "html += f'<img src=\"kaggle/kaggle-0.png\" width=\"1000px\">'\n",
        "\n",
        "for i in range(1, 18):\n",
        "    if i in [1, 2, 6, 13, 14, 15, 16]:\n",
        "        continue\n",
        "    html += f'<img src=\"kaggle/kaggle-{i}.png\" class=\"fragment\" width=\"1000px\">'\n",
        "\n",
        "html += \"</div>\"\n",
        "\n",
        "display(HTML(html))"
      ],
      "id": "c6038043",
      "execution_count": null,
      "outputs": []
    },
    {
      "cell_type": "markdown",
      "metadata": {},
      "source": [
        "## Python and machine learning\n",
        "\n",
        "\n",
        "> ...[T]he entire machine learning and data science industry has been dominated by these two approaches: **deep learning** and **gradient boosted trees**...\n",
        "> Users of gradient boosted trees tend to use Scikit-learn, XGBoost, or LightGBM. Meanwhile, most practitioners of deep learning use Keras, often in combination with its parent framework TensorFlow.\n",
        "The common point of these tools is **they're all Python libraries**: Python is by far the most widely used language for machine learning and data science.\n",
        "\n",
        "::: footer\n",
        "Source: François Chollet (2021), _Deep Learning with Python, Second Edition_, Section 1.2.7.\n",
        ":::\n",
        "\n",
        "## Python for data science\n",
        "\n",
        "::: columns\n",
        "::: {.column width=\"50%\"}\n",
        "In R you can run:\n",
        "```r\n",
        "pchisq(3, 10)\n",
        "```\n",
        ":::\n",
        "::: {.column width=\"50%\"}\n",
        "In Python it is\n",
        "```python\n",
        "from scipy import stats\n",
        "stats.chi2(10).cdf(3)\n",
        "```\n",
        ":::\n",
        ":::\n",
        "\n",
        "![In Leganto](python-data-analysis.jpeg)\n",
        "\n",
        "## Google Colaboratory\n",
        "\n",
        "![An example notebook in Google Colaboratory.](google-colab.png)\n",
        "\n",
        "[http://colab.research.google.com](http://colab.research.google.com)\n",
        "\n",
        "# Python Data Types {visibility=\"uncounted\"}\n",
        "\n",
        "## Variables and basic types\n",
        "\n",
        "::: columns\n",
        "::: {.column width=\"50%\"}\n"
      ],
      "id": "0914e27c"
    },
    {
      "cell_type": "code",
      "metadata": {},
      "source": [
        "1 + 2"
      ],
      "id": "59f7093a",
      "execution_count": null,
      "outputs": []
    },
    {
      "cell_type": "code",
      "metadata": {},
      "source": [
        "x = 1\n",
        "x + 2.0"
      ],
      "id": "63acedb6",
      "execution_count": null,
      "outputs": []
    },
    {
      "cell_type": "code",
      "metadata": {},
      "source": [
        "type(2.0)"
      ],
      "id": "e7378b52",
      "execution_count": null,
      "outputs": []
    },
    {
      "cell_type": "code",
      "metadata": {},
      "source": [
        "type(1), type(x)"
      ],
      "id": "bc8c2bbe",
      "execution_count": null,
      "outputs": []
    },
    {
      "cell_type": "markdown",
      "metadata": {},
      "source": [
        ":::\n",
        "::: {.column width=\"50%\"}\n"
      ],
      "id": "25255401"
    },
    {
      "cell_type": "code",
      "metadata": {},
      "source": [
        "does_math_work = 1 + 1 == 2\n",
        "print(does_math_work)\n",
        "type(does_math_work)"
      ],
      "id": "eea855f3",
      "execution_count": null,
      "outputs": []
    },
    {
      "cell_type": "code",
      "metadata": {},
      "source": [
        "contradiction = 1 != 1\n",
        "contradiction"
      ],
      "id": "13076ea2",
      "execution_count": null,
      "outputs": []
    },
    {
      "cell_type": "markdown",
      "metadata": {},
      "source": [
        ":::\n",
        ":::\n",
        "\n",
        "## Shorthand assignments\n",
        "\n",
        "If we want to add 2 to a variable `x`:\n",
        "\n",
        "::: columns\n",
        "::: {.column width=\"50%\"}\n"
      ],
      "id": "335b3207"
    },
    {
      "cell_type": "code",
      "metadata": {},
      "source": [
        "x = 1\n",
        "x = x + 2\n",
        "x"
      ],
      "id": "a0af4a6b",
      "execution_count": null,
      "outputs": []
    },
    {
      "cell_type": "markdown",
      "metadata": {},
      "source": [
        ":::\n",
        "\n",
        "::: {.column width=\"50%\"}\n"
      ],
      "id": "a8d13001"
    },
    {
      "cell_type": "code",
      "metadata": {},
      "source": [
        "x = 1\n",
        "x += 2\n",
        "x"
      ],
      "id": "b0fd578e",
      "execution_count": null,
      "outputs": []
    },
    {
      "cell_type": "markdown",
      "metadata": {},
      "source": [
        ":::\n",
        ":::\n",
        "\n",
        "Same for:\n",
        "\n",
        "- `x -= 2` : take 2 from the current value of `x` ,\n",
        "- `x *= 2` : double the current value of `x`,\n",
        "- `x /= 2` : halve the current value of `x`.\n",
        "\n",
        "## Strings\n"
      ],
      "id": "935fad12"
    },
    {
      "cell_type": "code",
      "metadata": {},
      "source": [
        "name = \"Patrick\"\n",
        "surname = \"Laub\""
      ],
      "id": "56c795ae",
      "execution_count": null,
      "outputs": []
    },
    {
      "cell_type": "code",
      "metadata": {},
      "source": [
        "coffee = \"This is Patrick's coffee\"\n",
        "quote = 'And then he said \"I need a coffee!\"'"
      ],
      "id": "df141423",
      "execution_count": null,
      "outputs": []
    },
    {
      "cell_type": "code",
      "metadata": {},
      "source": [
        "name + surname"
      ],
      "id": "d000566b",
      "execution_count": null,
      "outputs": []
    },
    {
      "cell_type": "code",
      "metadata": {},
      "source": [
        "greeting = f\"Hello {name} {surname}\"\n",
        "greeting"
      ],
      "id": "2dc8da4c",
      "execution_count": null,
      "outputs": []
    },
    {
      "cell_type": "code",
      "metadata": {},
      "source": [
        "\"Patrick\" in greeting"
      ],
      "id": "6d9d89ec",
      "execution_count": null,
      "outputs": []
    },
    {
      "cell_type": "markdown",
      "metadata": {},
      "source": [
        "## `and` & `or`\n"
      ],
      "id": "d86ec058"
    },
    {
      "cell_type": "code",
      "metadata": {},
      "source": [
        "name = \"Patrick\"\n",
        "surname = \"Laub\"\n",
        "name.istitle() and surname.istitle()"
      ],
      "id": "af25b888",
      "execution_count": null,
      "outputs": []
    },
    {
      "cell_type": "code",
      "metadata": {},
      "source": [
        "full_name = \"Dr Patrick Laub\"\n",
        "full_name.startswith(\"Dr \") or full_name.endswith(\" PhD\")"
      ],
      "id": "fd2cac8d",
      "execution_count": null,
      "outputs": []
    },
    {
      "cell_type": "markdown",
      "metadata": {},
      "source": [
        "::: {.callout-important}\n",
        "The dot is used denote methods, it can't be used inside a variable name.\n"
      ],
      "id": "ea20acd9"
    },
    {
      "cell_type": "code",
      "metadata": {},
      "source": [
        "#| error: true\n",
        "i.am.an.unfortunate.R.users = True"
      ],
      "id": "0c41ef38",
      "execution_count": null,
      "outputs": []
    },
    {
      "cell_type": "markdown",
      "metadata": {},
      "source": [
        ":::\n",
        "\n",
        "## `help` to get more details\n"
      ],
      "id": "36c233e7"
    },
    {
      "cell_type": "code",
      "metadata": {},
      "source": [
        "help(name.istitle)"
      ],
      "id": "7adc9a0c",
      "execution_count": null,
      "outputs": []
    },
    {
      "cell_type": "markdown",
      "metadata": {},
      "source": [
        "## f-strings\n"
      ],
      "id": "7857c663"
    },
    {
      "cell_type": "code",
      "metadata": {},
      "source": [
        "print(f\"Five squared is {5*5} and five cubed is {5**3}\")\n",
        "print(\"Five squared is {5*5} and five cubed is {5**3}\")"
      ],
      "id": "98c8020a",
      "execution_count": null,
      "outputs": []
    },
    {
      "cell_type": "markdown",
      "metadata": {},
      "source": [
        "::: {.callout-aside}\n",
        "Use f-strings and avoid the older alternatives:\n"
      ],
      "id": "2b4f2b88"
    },
    {
      "cell_type": "code",
      "metadata": {},
      "source": [
        "print(f\"Hello {name} {surname}\")\n",
        "print(\"Hello \" + name + \" \" + surname)\n",
        "print(\"Hello {} {}\".format(name, surname))\n",
        "print(\"Hello %s %s\" % (name, surname))"
      ],
      "id": "0ac9cafc",
      "execution_count": null,
      "outputs": []
    },
    {
      "cell_type": "markdown",
      "metadata": {},
      "source": [
        ":::\n",
        "\n",
        "## Converting types\n"
      ],
      "id": "9d9e00d7"
    },
    {
      "cell_type": "code",
      "metadata": {},
      "source": [
        "digit = 3\n",
        "digit"
      ],
      "id": "5ef3e39b",
      "execution_count": null,
      "outputs": []
    },
    {
      "cell_type": "code",
      "metadata": {},
      "source": [
        "type(digit)"
      ],
      "id": "a457d3b4",
      "execution_count": null,
      "outputs": []
    },
    {
      "cell_type": "code",
      "metadata": {},
      "source": [
        "num = float(digit)\n",
        "num"
      ],
      "id": "e1dcd331",
      "execution_count": null,
      "outputs": []
    },
    {
      "cell_type": "code",
      "metadata": {},
      "source": [
        "type(num)"
      ],
      "id": "3bbcb9cd",
      "execution_count": null,
      "outputs": []
    },
    {
      "cell_type": "code",
      "metadata": {},
      "source": [
        "num_str = str(num)\n",
        "num_str"
      ],
      "id": "2d3f82c0",
      "execution_count": null,
      "outputs": []
    },
    {
      "cell_type": "markdown",
      "metadata": {},
      "source": [
        "## Quiz\n",
        "\n",
        "What is the output of:\n"
      ],
      "id": "dbe9727a"
    },
    {
      "cell_type": "code",
      "metadata": {},
      "source": [
        "#| eval: false\n",
        "x = 1\n",
        "y = 1.0\n",
        "print(f\"{x == y} and {type(x) == type(y)}\")"
      ],
      "id": "b7027156",
      "execution_count": null,
      "outputs": []
    },
    {
      "cell_type": "markdown",
      "metadata": {},
      "source": [
        "::: fragment\n"
      ],
      "id": "88465a41"
    },
    {
      "cell_type": "code",
      "metadata": {},
      "source": [
        "#| echo: false\n",
        "x = 1\n",
        "y = 1.0\n",
        "print(f\"{x == y} and {type(x) == type(y)}\")"
      ],
      "id": "17807b93",
      "execution_count": null,
      "outputs": []
    },
    {
      "cell_type": "markdown",
      "metadata": {},
      "source": [
        ":::\n",
        "\n",
        "::: fragment\n",
        "What would you add before line 3 to get \"True and True\"?\n",
        ":::\n",
        "\n",
        "::: fragment\n"
      ],
      "id": "5100ce75"
    },
    {
      "cell_type": "code",
      "metadata": {},
      "source": [
        "x = 1\n",
        "y = 1.0\n",
        "x = float(x)  # or y = int(y)\n",
        "print(f\"{x == y} and {type(x) == type(y)}\")"
      ],
      "id": "d1f04b6c",
      "execution_count": null,
      "outputs": []
    },
    {
      "cell_type": "markdown",
      "metadata": {},
      "source": [
        ":::\n",
        "\n",
        "# Collections {visibility=\"uncounted\"}\n",
        "\n",
        "## Lists\n"
      ],
      "id": "e50429fc"
    },
    {
      "cell_type": "code",
      "metadata": {},
      "source": [
        "desires = [\"Coffee\", \"Cake\", \"Sleep\"]\n",
        "desires"
      ],
      "id": "6f6713d8",
      "execution_count": null,
      "outputs": []
    },
    {
      "cell_type": "code",
      "metadata": {},
      "source": [
        "len(desires)"
      ],
      "id": "d85f5e6b",
      "execution_count": null,
      "outputs": []
    },
    {
      "cell_type": "code",
      "metadata": {},
      "source": [
        "desires[0]"
      ],
      "id": "a6915212",
      "execution_count": null,
      "outputs": []
    },
    {
      "cell_type": "code",
      "metadata": {},
      "source": [
        "desires[-1]"
      ],
      "id": "ebb17981",
      "execution_count": null,
      "outputs": []
    },
    {
      "cell_type": "code",
      "metadata": {},
      "source": [
        "desires[2] = \"Nap\"\n",
        "desires"
      ],
      "id": "ce404ca0",
      "execution_count": null,
      "outputs": []
    },
    {
      "cell_type": "markdown",
      "metadata": {},
      "source": [
        "## Slicing lists\n"
      ],
      "id": "bdb1510e"
    },
    {
      "cell_type": "code",
      "metadata": {},
      "source": [
        "print([0, 1, 2])\n",
        "desires"
      ],
      "id": "7ac4e3bc",
      "execution_count": null,
      "outputs": []
    },
    {
      "cell_type": "code",
      "metadata": {},
      "source": [
        "desires[0:2]"
      ],
      "id": "701b0bc6",
      "execution_count": null,
      "outputs": []
    },
    {
      "cell_type": "code",
      "metadata": {},
      "source": [
        "desires[0:1]"
      ],
      "id": "7956922f",
      "execution_count": null,
      "outputs": []
    },
    {
      "cell_type": "code",
      "metadata": {},
      "source": [
        "desires[:2]"
      ],
      "id": "50e49e51",
      "execution_count": null,
      "outputs": []
    },
    {
      "cell_type": "markdown",
      "metadata": {},
      "source": [
        "## A common indexing  error\n"
      ],
      "id": "f491654c"
    },
    {
      "cell_type": "code",
      "metadata": {},
      "source": [
        "#| error: true\n",
        "desires[1.0]"
      ],
      "id": "14cd4f1c",
      "execution_count": null,
      "outputs": []
    },
    {
      "cell_type": "code",
      "metadata": {},
      "source": [
        "#| error: true\n",
        "desires[: len(desires) / 2]"
      ],
      "id": "3259612f",
      "execution_count": null,
      "outputs": []
    },
    {
      "cell_type": "code",
      "metadata": {},
      "source": [
        "len(desires) / 2, len(desires) // 2"
      ],
      "id": "0e90567c",
      "execution_count": null,
      "outputs": []
    },
    {
      "cell_type": "code",
      "metadata": {},
      "source": [
        "desires[: len(desires) // 2]"
      ],
      "id": "d9703633",
      "execution_count": null,
      "outputs": []
    },
    {
      "cell_type": "markdown",
      "metadata": {},
      "source": [
        "## Editing lists\n"
      ],
      "id": "fb38ed6c"
    },
    {
      "cell_type": "code",
      "metadata": {},
      "source": [
        "desires = [\"Coffee\", \"Cake\", \"Sleep\"]\n",
        "desires.append(\"Gadget\")\n",
        "desires"
      ],
      "id": "81ac717f",
      "execution_count": null,
      "outputs": []
    },
    {
      "cell_type": "code",
      "metadata": {},
      "source": [
        "desires.pop()"
      ],
      "id": "cab0551c",
      "execution_count": null,
      "outputs": []
    },
    {
      "cell_type": "code",
      "metadata": {},
      "source": [
        "desires"
      ],
      "id": "8d1571aa",
      "execution_count": null,
      "outputs": []
    },
    {
      "cell_type": "code",
      "metadata": {},
      "source": [
        "desires.sort()\n",
        "desires"
      ],
      "id": "39d22829",
      "execution_count": null,
      "outputs": []
    },
    {
      "cell_type": "code",
      "metadata": {},
      "source": [
        "#| error: true\n",
        "desires[3] = \"Croissant\""
      ],
      "id": "d051b05f",
      "execution_count": null,
      "outputs": []
    },
    {
      "cell_type": "markdown",
      "metadata": {},
      "source": [
        "## `None`\n"
      ],
      "id": "30def1f1"
    },
    {
      "cell_type": "code",
      "metadata": {},
      "source": [
        "desires = [\"Coffee\", \"Cake\", \"Sleep\", \"Gadget\"]\n",
        "sorted_list = desires.sort()\n",
        "sorted_list"
      ],
      "id": "732c51f3",
      "execution_count": null,
      "outputs": []
    },
    {
      "cell_type": "code",
      "metadata": {},
      "source": [
        "type(sorted_list)"
      ],
      "id": "2455658b",
      "execution_count": null,
      "outputs": []
    },
    {
      "cell_type": "code",
      "metadata": {},
      "source": [
        "sorted_list is None"
      ],
      "id": "e4d9345d",
      "execution_count": null,
      "outputs": []
    },
    {
      "cell_type": "code",
      "metadata": {},
      "source": [
        "bool(sorted_list)"
      ],
      "id": "081f33a3",
      "execution_count": null,
      "outputs": []
    },
    {
      "cell_type": "code",
      "metadata": {},
      "source": [
        "desires = [\"Coffee\", \"Cake\", \"Sleep\", \"Gadget\"]\n",
        "sorted_list = sorted(desires)\n",
        "print(desires)\n",
        "sorted_list"
      ],
      "id": "6ebd9275",
      "execution_count": null,
      "outputs": []
    },
    {
      "cell_type": "markdown",
      "metadata": {},
      "source": [
        "## Tuples ('immutable' lists)\n"
      ],
      "id": "a7ed91ef"
    },
    {
      "cell_type": "code",
      "metadata": {},
      "source": [
        "weather = (\"Sunny\", \"Cloudy\", \"Rainy\")\n",
        "print(type(weather))\n",
        "print(len(weather))\n",
        "print(weather[-1])"
      ],
      "id": "170c6d55",
      "execution_count": null,
      "outputs": []
    },
    {
      "cell_type": "code",
      "metadata": {},
      "source": [
        "#| error: true\n",
        "weather.append(\"Snowy\")"
      ],
      "id": "d90d66b6",
      "execution_count": null,
      "outputs": []
    },
    {
      "cell_type": "code",
      "metadata": {},
      "source": [
        "#| error: true\n",
        "weather[2] = \"Snowy\""
      ],
      "id": "20f66aac",
      "execution_count": null,
      "outputs": []
    },
    {
      "cell_type": "markdown",
      "metadata": {},
      "source": [
        "## One-length tuples\n"
      ],
      "id": "c9222edf"
    },
    {
      "cell_type": "code",
      "metadata": {},
      "source": [
        "using_brackets_in_math = (2 + 4) * 3\n",
        "using_brackets_to_simplify = (1 + 1 == 2)"
      ],
      "id": "e9315270",
      "execution_count": null,
      "outputs": []
    },
    {
      "cell_type": "code",
      "metadata": {},
      "source": [
        "failure_of_atuple = (\"Snowy\")\n",
        "type(failure_of_atuple)"
      ],
      "id": "dcafe04c",
      "execution_count": null,
      "outputs": []
    },
    {
      "cell_type": "code",
      "metadata": {},
      "source": [
        "happy_solo_tuple = (\"Snowy\",)\n",
        "type(happy_solo_tuple)"
      ],
      "id": "b7b3bcbd",
      "execution_count": null,
      "outputs": []
    },
    {
      "cell_type": "code",
      "metadata": {},
      "source": [
        "cheeky_solo_list = [\"Snowy\"]\n",
        "type(cheeky_solo_list)"
      ],
      "id": "cc5f2f0c",
      "execution_count": null,
      "outputs": []
    },
    {
      "cell_type": "markdown",
      "metadata": {},
      "source": [
        "## Dictionaries\n"
      ],
      "id": "6aa90d41"
    },
    {
      "cell_type": "code",
      "metadata": {},
      "source": [
        "phone_book = {\"Patrick\": \"+61 1234\", \"Café\": \"(02) 5678\"}\n",
        "phone_book[\"Patrick\"]"
      ],
      "id": "e5834f64",
      "execution_count": null,
      "outputs": []
    },
    {
      "cell_type": "code",
      "metadata": {},
      "source": [
        "phone_book[\"Café\"] = \"+61400 000 000\"\n",
        "phone_book"
      ],
      "id": "9378100c",
      "execution_count": null,
      "outputs": []
    },
    {
      "cell_type": "code",
      "metadata": {},
      "source": [
        "phone_book.keys()"
      ],
      "id": "89c87d77",
      "execution_count": null,
      "outputs": []
    },
    {
      "cell_type": "code",
      "metadata": {},
      "source": [
        "phone_book.values()"
      ],
      "id": "d45743eb",
      "execution_count": null,
      "outputs": []
    },
    {
      "cell_type": "code",
      "metadata": {},
      "source": [
        "factorial = {0: 1, 1: 1, 2: 2, 3: 6, 4: 24, 5: 120, 6: 720, 7: 5040}\n",
        "factorial[4]"
      ],
      "id": "935ad24f",
      "execution_count": null,
      "outputs": []
    },
    {
      "cell_type": "markdown",
      "metadata": {},
      "source": [
        "## Quiz\n"
      ],
      "id": "919dedc3"
    },
    {
      "cell_type": "code",
      "metadata": {},
      "source": [
        "#| eval: false\n",
        "animals = [\"dog\", \"cat\", \"bird\"]\n",
        "animals.append(\"teddy bear\")\n",
        "animals.pop()\n",
        "animals.pop()\n",
        "animals.append(\"koala\")\n",
        "animals.append(\"kangaroo\")\n",
        "print(f\"{len(animals)} and {len(animals[-2])}\")"
      ],
      "id": "3f6e647b",
      "execution_count": null,
      "outputs": []
    },
    {
      "cell_type": "markdown",
      "metadata": {},
      "source": [
        "::: fragment\n"
      ],
      "id": "b9e9a96a"
    },
    {
      "cell_type": "code",
      "metadata": {},
      "source": [
        "#| echo: false\n",
        "animals = [\"dog\", \"cat\", \"bird\"]\n",
        "animals.append(\"teddy bear\")\n",
        "animals.pop()\n",
        "animals.pop()\n",
        "animals.append(\"koala\")\n",
        "animals.append(\"kangaroo\")\n",
        "print(f\"{len(animals)} and {len(animals[-2])}\")"
      ],
      "id": "77f69d29",
      "execution_count": null,
      "outputs": []
    },
    {
      "cell_type": "markdown",
      "metadata": {},
      "source": [
        ":::\n",
        "\n",
        "# Control Flow {visibility=\"uncounted\"}\n",
        "\n",
        "## `if` and `else`\n"
      ],
      "id": "1772e49a"
    },
    {
      "cell_type": "code",
      "metadata": {},
      "source": [
        "age = 50"
      ],
      "id": "ba5df729",
      "execution_count": null,
      "outputs": []
    },
    {
      "cell_type": "code",
      "metadata": {},
      "source": [
        "if age >= 30:\n",
        "    print(\"Gosh you're old\")"
      ],
      "id": "b832b23d",
      "execution_count": null,
      "outputs": []
    },
    {
      "cell_type": "code",
      "metadata": {},
      "source": [
        "if age >= 30:\n",
        "    print(\"Gosh you're old\")\n",
        "else:\n",
        "    print(\"You're still young\")"
      ],
      "id": "6183d1e2",
      "execution_count": null,
      "outputs": []
    },
    {
      "cell_type": "markdown",
      "metadata": {},
      "source": [
        "## The weird part about Python...\n"
      ],
      "id": "e852cb23"
    },
    {
      "cell_type": "code",
      "metadata": {},
      "source": [
        "#| error: true\n",
        "if age >= 30:\n",
        "    print(\"Gosh you're old\")\n",
        "else:\n",
        "print(\"You're still young\")"
      ],
      "id": "e220b05d",
      "execution_count": null,
      "outputs": []
    },
    {
      "cell_type": "markdown",
      "metadata": {},
      "source": [
        "::: {.callout-warning}\n",
        "Watch out for mixing tabs and spaces!\n",
        ":::\n",
        "\n",
        "## An example of aging\n"
      ],
      "id": "55effeef"
    },
    {
      "cell_type": "code",
      "metadata": {},
      "source": [
        "age = 16\n",
        "\n",
        "if age < 18:\n",
        "    friday_evening_schedule = \"School things\"\n",
        "if age < 30:\n",
        "    friday_evening_schedule = \"Party 🥳🍾\"\n",
        "if age >= 30:\n",
        "    friday_evening_schedule = \"Work\""
      ],
      "id": "24f5bc9b",
      "execution_count": null,
      "outputs": []
    },
    {
      "cell_type": "markdown",
      "metadata": {},
      "source": [
        "::: fragment\n"
      ],
      "id": "75cdd575"
    },
    {
      "cell_type": "code",
      "metadata": {},
      "source": [
        "print(friday_evening_schedule)"
      ],
      "id": "473efb73",
      "execution_count": null,
      "outputs": []
    },
    {
      "cell_type": "markdown",
      "metadata": {},
      "source": [
        ":::\n",
        "\n",
        "## Using `elif` {auto-animate=true}\n"
      ],
      "id": "6ccee79b"
    },
    {
      "cell_type": "code",
      "metadata": {},
      "source": [
        "age = 16\n",
        "\n",
        "if age < 18:\n",
        "    friday_evening_schedule = \"School things\"\n",
        "elif age < 30:\n",
        "    friday_evening_schedule = \"Party 🥳🍾\"\n",
        "else:\n",
        "    friday_evening_schedule = \"Work\"\n",
        "\n",
        "print(friday_evening_schedule)"
      ],
      "id": "9c13318b",
      "execution_count": null,
      "outputs": []
    },
    {
      "cell_type": "markdown",
      "metadata": {},
      "source": [
        "## `for` Loops\n"
      ],
      "id": "436b4f17"
    },
    {
      "cell_type": "code",
      "metadata": {},
      "source": [
        "desires = [\"coffee\", \"cake\", \"sleep\"]\n",
        "for desire in desires:\n",
        "    print(f\"Patrick really wants a {desire}.\")"
      ],
      "id": "b6957f1f",
      "execution_count": null,
      "outputs": []
    },
    {
      "cell_type": "markdown",
      "metadata": {},
      "source": [
        "::: columns\n",
        "::: {.column width=\"50%\"}\n"
      ],
      "id": "fbef350b"
    },
    {
      "cell_type": "code",
      "metadata": {},
      "source": [
        "for i in range(3):\n",
        "    print(i)"
      ],
      "id": "731cdb50",
      "execution_count": null,
      "outputs": []
    },
    {
      "cell_type": "code",
      "metadata": {},
      "source": [
        "for i in range(3, 6):\n",
        "    print(i)"
      ],
      "id": "ace5e3d2",
      "execution_count": null,
      "outputs": []
    },
    {
      "cell_type": "markdown",
      "metadata": {},
      "source": [
        ":::\n",
        "::: {.column width=\"50%\"}\n"
      ],
      "id": "d811069a"
    },
    {
      "cell_type": "code",
      "metadata": {},
      "source": [
        "range(5)"
      ],
      "id": "5765a039",
      "execution_count": null,
      "outputs": []
    },
    {
      "cell_type": "code",
      "metadata": {},
      "source": [
        "type(range(5))"
      ],
      "id": "99bce4b7",
      "execution_count": null,
      "outputs": []
    },
    {
      "cell_type": "code",
      "metadata": {},
      "source": [
        "list(range(5))"
      ],
      "id": "5f372483",
      "execution_count": null,
      "outputs": []
    },
    {
      "cell_type": "markdown",
      "metadata": {},
      "source": [
        ":::\n",
        ":::\n",
        "\n",
        "## Advanced `for` loops\n"
      ],
      "id": "514c142c"
    },
    {
      "cell_type": "code",
      "metadata": {},
      "source": [
        "for i, desire in enumerate(desires):\n",
        "    print(f\"Patrick wants a {desire}, it is priority #{i+1}.\")"
      ],
      "id": "2fa2309e",
      "execution_count": null,
      "outputs": []
    },
    {
      "cell_type": "code",
      "metadata": {},
      "source": [
        "desires = [\"coffee\", \"cake\", \"nap\"]\n",
        "times = [\"in the morning\", \"at lunch\", \"during a boring lecture\"]\n",
        "\n",
        "for desire, time in zip(desires, times):\n",
        "    print(f\"Patrick enjoys a {desire} {time}.\")"
      ],
      "id": "db59fe93",
      "execution_count": null,
      "outputs": []
    },
    {
      "cell_type": "markdown",
      "metadata": {},
      "source": [
        "## List comprehensions\n"
      ],
      "id": "23f99946"
    },
    {
      "cell_type": "code",
      "metadata": {},
      "source": [
        "[x**2 for x in range(10)]"
      ],
      "id": "813c2aa4",
      "execution_count": null,
      "outputs": []
    },
    {
      "cell_type": "code",
      "metadata": {},
      "source": [
        "[x**2 for x in range(10) if x % 2 == 0]"
      ],
      "id": "62bdb986",
      "execution_count": null,
      "outputs": []
    },
    {
      "cell_type": "markdown",
      "metadata": {},
      "source": [
        "They can get more complicated:\n"
      ],
      "id": "9e3d44a7"
    },
    {
      "cell_type": "code",
      "metadata": {},
      "source": [
        "[x * y for x in range(4) for y in range(4)]"
      ],
      "id": "ec1278f3",
      "execution_count": null,
      "outputs": []
    },
    {
      "cell_type": "code",
      "metadata": {},
      "source": [
        "[[x * y for x in range(4)] for y in range(4)]"
      ],
      "id": "e2c1fc91",
      "execution_count": null,
      "outputs": []
    },
    {
      "cell_type": "markdown",
      "metadata": {},
      "source": [
        "but I'd recommend just using `for` loops at that point.\n",
        "\n",
        "## While Loops\n"
      ],
      "id": "a604747a"
    },
    {
      "cell_type": "code",
      "metadata": {},
      "source": [
        "#| echo: false\n",
        "import numpy.random as rnd\n",
        "\n",
        "rnd.seed(1234)\n",
        "simulate_pareto = lambda: rnd.pareto(1)"
      ],
      "id": "04969178",
      "execution_count": null,
      "outputs": []
    },
    {
      "cell_type": "markdown",
      "metadata": {},
      "source": [
        "Say that we want to simulate $(X \\,\\mid\\, X \\ge 100)$ where $X \\sim \\mathrm{Pareto}(1)$.\n",
        "Assuming we have `simulate_pareto`,\n",
        "a function to generate $\\mathrm{Pareto}(1)$ variables:\n"
      ],
      "id": "7db4199f"
    },
    {
      "cell_type": "code",
      "metadata": {},
      "source": [
        "samples = []\n",
        "while len(samples) < 5:\n",
        "    x = simulate_pareto()\n",
        "    if x >= 100:\n",
        "        samples.append(x)\n",
        "\n",
        "samples"
      ],
      "id": "28a3f28c",
      "execution_count": null,
      "outputs": []
    },
    {
      "cell_type": "markdown",
      "metadata": {},
      "source": [
        "## Breaking out of a loop\n"
      ],
      "id": "973ac20f"
    },
    {
      "cell_type": "code",
      "metadata": {},
      "source": [
        "#| eval: false\n",
        "while True:\n",
        "    user_input = input(\">> What would you like to do? \")\n",
        "\n",
        "    if user_input == \"order cake\":\n",
        "        print(\"Here's your cake! 🎂\")\n",
        "\n",
        "    elif user_input == \"order coffee\":\n",
        "        print(\"Here's your coffee! ☕️\")\n",
        "\n",
        "    elif user_input == \"quit\":\n",
        "        break"
      ],
      "id": "df15b64b",
      "execution_count": null,
      "outputs": []
    },
    {
      "cell_type": "code",
      "metadata": {},
      "source": [
        "#| echo: false\n",
        "inputs = [\"order cake\", \"order coffee\", \"order cake\", \"quit\"]\n",
        "\n",
        "for user_input in inputs:\n",
        "    print(f\">> What would you like to do? {user_input}\")\n",
        "    if user_input == \"order cake\":\n",
        "        print(\"Here's your cake! 🎂\")\n",
        "\n",
        "    elif user_input == \"order coffee\":\n",
        "        print(\"Here's your coffee! ☕️\")\n",
        "\n",
        "    elif user_input == \"quit\":\n",
        "        break"
      ],
      "id": "befa5004",
      "execution_count": null,
      "outputs": []
    },
    {
      "cell_type": "markdown",
      "metadata": {},
      "source": [
        "## Quiz\n",
        "\n",
        "What does this print out?\n"
      ],
      "id": "d8d3c69d"
    },
    {
      "cell_type": "code",
      "metadata": {},
      "source": [
        "#| eval: false\n",
        "if 1 / 3 + 1 / 3 + 1 / 3 == 1:\n",
        "    if 2**3 == 6:\n",
        "        print(\"Math really works!\")\n",
        "    else:\n",
        "        print(\"Math sometimes works..\")\n",
        "else:\n",
        "    print(\"Math doesn't work\")"
      ],
      "id": "8e67aab7",
      "execution_count": null,
      "outputs": []
    },
    {
      "cell_type": "markdown",
      "metadata": {},
      "source": [
        "::: fragment\n"
      ],
      "id": "8869cf03"
    },
    {
      "cell_type": "code",
      "metadata": {},
      "source": [
        "#| echo: false\n",
        "if 1 / 3 + 1 / 3 + 1 / 3 == 1:\n",
        "    if 2**3 == 6:\n",
        "        print(\"Math really works!\")\n",
        "    else:\n",
        "        print(\"Math sometimes works..\")\n",
        "else:\n",
        "    print(\"Math doesn't work\")"
      ],
      "id": "33c17dbe",
      "execution_count": null,
      "outputs": []
    },
    {
      "cell_type": "markdown",
      "metadata": {},
      "source": [
        ":::\n",
        "\n",
        "\n",
        "\n",
        "What does this print out?\n"
      ],
      "id": "d7666c9e"
    },
    {
      "cell_type": "code",
      "metadata": {},
      "source": [
        "#| eval: false\n",
        "count = 0\n",
        "for i in range(1, 10):\n",
        "    count += i\n",
        "    if i > 3:\n",
        "        break\n",
        "print(count)"
      ],
      "id": "09900cef",
      "execution_count": null,
      "outputs": []
    },
    {
      "cell_type": "markdown",
      "metadata": {},
      "source": [
        "::: fragment\n"
      ],
      "id": "40272ae0"
    },
    {
      "cell_type": "code",
      "metadata": {},
      "source": [
        "#| echo: false\n",
        "count = 0\n",
        "for i in range(1, 10):\n",
        "    count += i\n",
        "    if i > 3:\n",
        "        break\n",
        "print(count)"
      ],
      "id": "e1619dba",
      "execution_count": null,
      "outputs": []
    },
    {
      "cell_type": "markdown",
      "metadata": {},
      "source": [
        ":::\n",
        "\n",
        "## Debugging the quiz code\n"
      ],
      "id": "2b65fd06"
    },
    {
      "cell_type": "code",
      "metadata": {},
      "source": [
        "count = 0\n",
        "for i in range(1, 10):\n",
        "    count += i\n",
        "    print(f\"After i={i} count={count}\")\n",
        "    if i > 3:\n",
        "        break"
      ],
      "id": "e84e9b79",
      "execution_count": null,
      "outputs": []
    },
    {
      "cell_type": "markdown",
      "metadata": {},
      "source": [
        "# Python Functions {visibility=\"uncounted\"}\n",
        "\n",
        "## Making a function\n"
      ],
      "id": "13b7940f"
    },
    {
      "cell_type": "code",
      "metadata": {},
      "source": [
        "def add_one(x):\n",
        "    return x + 1\n",
        "\n",
        "\n",
        "def greet_a_student(name):\n",
        "    print(f\"Hi {name}, welcome to the AI class!\")"
      ],
      "id": "f36e305c",
      "execution_count": null,
      "outputs": []
    },
    {
      "cell_type": "code",
      "metadata": {},
      "source": [
        "add_one(10)"
      ],
      "id": "7d02e48b",
      "execution_count": null,
      "outputs": []
    },
    {
      "cell_type": "code",
      "metadata": {},
      "source": [
        "greet_a_student(\"Josephine\")"
      ],
      "id": "7c3975ac",
      "execution_count": null,
      "outputs": []
    },
    {
      "cell_type": "code",
      "metadata": {},
      "source": [
        "greet_a_student(\"Joseph\")"
      ],
      "id": "85fe73b1",
      "execution_count": null,
      "outputs": []
    },
    {
      "cell_type": "markdown",
      "metadata": {},
      "source": [
        "::: {.callout-aside}\n",
        "Here, `name` is a _parameter_ and the value supplied is an _argument_.\n",
        ":::\n",
        "\n",
        "## Default arguments\n"
      ],
      "id": "aa6428a1"
    },
    {
      "cell_type": "code",
      "metadata": {},
      "source": [
        "#| echo: false\n",
        "import numpy.random as rnd\n",
        "\n",
        "rnd.seed(1234)\n",
        "simulate_standard_normal = rnd.normal"
      ],
      "id": "3a929b32",
      "execution_count": null,
      "outputs": []
    },
    {
      "cell_type": "markdown",
      "metadata": {},
      "source": [
        "Assuming we have `simulate_standard_normal`,\n",
        "a function to generate $\\mathrm{Normal}(0, 1)$ variables:\n"
      ],
      "id": "e7c7c6bd"
    },
    {
      "cell_type": "code",
      "metadata": {},
      "source": [
        "def simulate_normal(mean=0, std=1):\n",
        "    return mean + std * simulate_standard_normal()"
      ],
      "id": "4b2421a6",
      "execution_count": null,
      "outputs": []
    },
    {
      "cell_type": "code",
      "metadata": {},
      "source": [
        "simulate_normal()  # same as 'simulate_normal(0, 1)'"
      ],
      "id": "b6bb10f6",
      "execution_count": null,
      "outputs": []
    },
    {
      "cell_type": "code",
      "metadata": {},
      "source": [
        "simulate_normal(1_000)  # same as 'simulate_normal(1_000, 1)'"
      ],
      "id": "a1c2bdcd",
      "execution_count": null,
      "outputs": []
    },
    {
      "cell_type": "markdown",
      "metadata": {},
      "source": [
        "::: {.callout-note}\n",
        "We'll cover random numbers next week (using `numpy`).\n",
        ":::\n",
        "\n",
        "## Use explicit parameter name\n"
      ],
      "id": "7db15455"
    },
    {
      "cell_type": "code",
      "metadata": {},
      "source": [
        "simulate_normal(mean=1_000)  # same as 'simulate_normal(1_000, 1)'"
      ],
      "id": "c5e30b73",
      "execution_count": null,
      "outputs": []
    },
    {
      "cell_type": "code",
      "metadata": {},
      "source": [
        "simulate_normal(std=1_000)  # same as 'simulate_normal(0, 1_000)'"
      ],
      "id": "b907cbd8",
      "execution_count": null,
      "outputs": []
    },
    {
      "cell_type": "code",
      "metadata": {},
      "source": [
        "simulate_normal(10, std=0.001)  # same as 'simulate_normal(10, 0.001)'"
      ],
      "id": "5d58ee68",
      "execution_count": null,
      "outputs": []
    },
    {
      "cell_type": "code",
      "metadata": {},
      "source": [
        "#| error: true\n",
        "simulate_normal(std=10, 1_000)"
      ],
      "id": "08f2d53c",
      "execution_count": null,
      "outputs": []
    },
    {
      "cell_type": "markdown",
      "metadata": {},
      "source": [
        "## Why would we need that?\n",
        "\n",
        "E.g. to fit a Keras model, we use the `.fit` method:\n"
      ],
      "id": "09fad19e"
    },
    {
      "cell_type": "code",
      "metadata": {},
      "source": [
        "#| eval: false\n",
        "model.fit(x=None, y=None, batch_size=None, epochs=1, verbose='auto',\n",
        "        callbacks=None, validation_split=0.0, validation_data=None,\n",
        "        shuffle=True, class_weight=None, sample_weight=None,\n",
        "        initial_epoch=0, steps_per_epoch=None, validation_steps=None,\n",
        "        validation_batch_size=None, validation_freq=1,\n",
        "        max_queue_size=10, workers=1, use_multiprocessing=False)"
      ],
      "id": "4e01289e",
      "execution_count": null,
      "outputs": []
    },
    {
      "cell_type": "markdown",
      "metadata": {},
      "source": [
        "Say we want all the defaults except changing `use_multiprocessing=True`:\n"
      ],
      "id": "7dfcd84e"
    },
    {
      "cell_type": "code",
      "metadata": {},
      "source": [
        "#| eval: false\n",
        "model.fit(None, None, None, 1, 'auto', None, 0.0, None, True, None,\n",
        "        None, 0, None, None, None, 1, 10, 1, True)"
      ],
      "id": "0b95f557",
      "execution_count": null,
      "outputs": []
    },
    {
      "cell_type": "markdown",
      "metadata": {},
      "source": [
        "but it is _much nicer_ to just have:\n"
      ],
      "id": "8d18a039"
    },
    {
      "cell_type": "code",
      "metadata": {},
      "source": [
        "#| eval: false\n",
        "model.fit(use_multiprocessing=True)"
      ],
      "id": "f8e1382b",
      "execution_count": null,
      "outputs": []
    },
    {
      "cell_type": "markdown",
      "metadata": {},
      "source": [
        "## Quiz\n",
        "\n",
        "What does the following print out?\n"
      ],
      "id": "fbf25e17"
    },
    {
      "cell_type": "code",
      "metadata": {},
      "source": [
        "#| eval: false\n",
        "def get_half_of_list(numbers, first=True):\n",
        "    if first:\n",
        "        return numbers[: len(numbers) // 2]\n",
        "    else:\n",
        "        return numbers[len(numbers) // 2 :]\n",
        "\n",
        "nums = [1, 2, 3, 4, 5, 6]\n",
        "chunk = get_half_of_list(nums, False)\n",
        "second_chunk = get_half_of_list(chunk)\n",
        "print(second_chunk)"
      ],
      "id": "37cf72c3",
      "execution_count": null,
      "outputs": []
    },
    {
      "cell_type": "markdown",
      "metadata": {},
      "source": [
        "::: fragment\n"
      ],
      "id": "0f1241d3"
    },
    {
      "cell_type": "code",
      "metadata": {},
      "source": [
        "#| echo: false\n",
        "def get_half_of_list(numbers, first=True):\n",
        "    if first:\n",
        "        return numbers[: len(numbers) // 2]\n",
        "    else:\n",
        "        return numbers[len(numbers) // 2 :]\n",
        "\n",
        "nums = [1, 2, 3, 4, 5, 6]\n",
        "chunk = get_half_of_list(nums, False)\n",
        "second_chunk = get_half_of_list(chunk)\n",
        "print(second_chunk)"
      ],
      "id": "dce4992e",
      "execution_count": null,
      "outputs": []
    },
    {
      "cell_type": "markdown",
      "metadata": {},
      "source": [
        ":::\n",
        "\n",
        "::: fragment\n"
      ],
      "id": "c50eadb9"
    },
    {
      "cell_type": "code",
      "metadata": {},
      "source": [
        "f\"nums ~> {nums[:len(nums)//2]} and {nums[len(nums)//2:]}\""
      ],
      "id": "3c3ada42",
      "execution_count": null,
      "outputs": []
    },
    {
      "cell_type": "code",
      "metadata": {},
      "source": [
        "f\"chunk ~> {chunk[:len(chunk)//2]} and {chunk[len(chunk)//2:]}\""
      ],
      "id": "c4615409",
      "execution_count": null,
      "outputs": []
    },
    {
      "cell_type": "markdown",
      "metadata": {},
      "source": [
        ":::\n",
        "\n",
        "## Multiple return values\n"
      ],
      "id": "19ee624e"
    },
    {
      "cell_type": "code",
      "metadata": {},
      "source": [
        "def limits(numbers):\n",
        "    return min(numbers), max(numbers)\n",
        "\n",
        "limits([1, 2, 3, 4, 5])"
      ],
      "id": "0f3576ad",
      "execution_count": null,
      "outputs": []
    },
    {
      "cell_type": "code",
      "metadata": {},
      "source": [
        "type(limits([1, 2, 3, 4, 5]))"
      ],
      "id": "f7f58fb2",
      "execution_count": null,
      "outputs": []
    },
    {
      "cell_type": "code",
      "metadata": {},
      "source": [
        "min_num, max_num = limits([1, 2, 3, 4, 5])\n",
        "print(f\"The numbers are between {min_num} and {max_num}.\")"
      ],
      "id": "4991021f",
      "execution_count": null,
      "outputs": []
    },
    {
      "cell_type": "code",
      "metadata": {},
      "source": [
        "_, max_num = limits([1, 2, 3, 4, 5])\n",
        "print(f\"The maximum is {max_num}.\")"
      ],
      "id": "fb5abb08",
      "execution_count": null,
      "outputs": []
    },
    {
      "cell_type": "code",
      "metadata": {},
      "source": [
        "print(f\"The maximum is {limits([1, 2, 3, 4, 5])[1]}.\")"
      ],
      "id": "46ae0b03",
      "execution_count": null,
      "outputs": []
    },
    {
      "cell_type": "markdown",
      "metadata": {},
      "source": [
        "## Tuple unpacking\n"
      ],
      "id": "ad950aae"
    },
    {
      "cell_type": "code",
      "metadata": {},
      "source": [
        "lims = limits([1, 2, 3, 4, 5])\n",
        "smallest_num = lims[0]\n",
        "largest_num = lims[1]\n",
        "print(f\"The numbers are between {smallest_num} and {largest_num}.\")"
      ],
      "id": "abe4ff81",
      "execution_count": null,
      "outputs": []
    },
    {
      "cell_type": "code",
      "metadata": {},
      "source": [
        "smallest_num, largest_num = limits([1, 2, 3, 4, 5])\n",
        "print(f\"The numbers are between {smallest_num} and {largest_num}.\")"
      ],
      "id": "72d1c551",
      "execution_count": null,
      "outputs": []
    },
    {
      "cell_type": "markdown",
      "metadata": {},
      "source": [
        "This doesn't just work for functions with multiple return values:\n"
      ],
      "id": "5b6f3c30"
    },
    {
      "cell_type": "code",
      "metadata": {},
      "source": [
        "RESOLUTION = (1920, 1080)\n",
        "WIDTH, HEIGHT = RESOLUTION\n",
        "print(f\"The resolution is {WIDTH} wide and {HEIGHT} tall.\")"
      ],
      "id": "4253b478",
      "execution_count": null,
      "outputs": []
    },
    {
      "cell_type": "markdown",
      "metadata": {},
      "source": [
        "## Short-circuiting\n"
      ],
      "id": "14d9e0fc"
    },
    {
      "cell_type": "code",
      "metadata": {},
      "source": [
        "def is_positive(x):\n",
        "    print(\"Called is_positive\")\n",
        "    return x > 0\n",
        "\n",
        "def is_negative(x):\n",
        "    print(\"Called is_negative\")\n",
        "    return x < 0\n",
        "\n",
        "x = 10"
      ],
      "id": "882f7f90",
      "execution_count": null,
      "outputs": []
    },
    {
      "cell_type": "markdown",
      "metadata": {},
      "source": [
        "::: columns\n",
        "::: column\n"
      ],
      "id": "0d1a8dfc"
    },
    {
      "cell_type": "code",
      "metadata": {},
      "source": [
        "x_is_positive = is_positive(x)\n",
        "x_is_positive"
      ],
      "id": "8354515e",
      "execution_count": null,
      "outputs": []
    },
    {
      "cell_type": "markdown",
      "metadata": {},
      "source": [
        ":::\n",
        "::: column\n"
      ],
      "id": "086c20bd"
    },
    {
      "cell_type": "code",
      "metadata": {},
      "source": [
        "x_is_negative = is_negative(x)\n",
        "x_is_negative"
      ],
      "id": "9b955924",
      "execution_count": null,
      "outputs": []
    },
    {
      "cell_type": "markdown",
      "metadata": {},
      "source": [
        ":::\n",
        ":::\n"
      ],
      "id": "265eb068"
    },
    {
      "cell_type": "code",
      "metadata": {},
      "source": [
        "x_not_zero = is_positive(x) or is_negative(x)\n",
        "x_not_zero"
      ],
      "id": "8a2f5e43",
      "execution_count": null,
      "outputs": []
    },
    {
      "cell_type": "markdown",
      "metadata": {},
      "source": [
        "# Import syntax {visibility=\"uncounted\"}\n",
        "\n",
        "## Python standard library\n"
      ],
      "id": "8292e169"
    },
    {
      "cell_type": "code",
      "metadata": {},
      "source": [
        "import os\n",
        "import time"
      ],
      "id": "7867bc49",
      "execution_count": null,
      "outputs": []
    },
    {
      "cell_type": "code",
      "metadata": {},
      "source": [
        "time.sleep(0.1)"
      ],
      "id": "4a2b74b7",
      "execution_count": null,
      "outputs": []
    },
    {
      "cell_type": "code",
      "metadata": {},
      "source": [
        "os.getlogin()"
      ],
      "id": "a72dbba1",
      "execution_count": null,
      "outputs": []
    },
    {
      "cell_type": "code",
      "metadata": {},
      "source": [
        "os.getcwd()"
      ],
      "id": "6d7dbcf4",
      "execution_count": null,
      "outputs": []
    },
    {
      "cell_type": "markdown",
      "metadata": {},
      "source": [
        "## Import a few functions\n"
      ],
      "id": "cfbb4562"
    },
    {
      "cell_type": "code",
      "metadata": {},
      "source": [
        "from os import getcwd, getlogin\n",
        "from time import sleep"
      ],
      "id": "c932f6e0",
      "execution_count": null,
      "outputs": []
    },
    {
      "cell_type": "code",
      "metadata": {},
      "source": [
        "sleep(0.1)"
      ],
      "id": "cb62a48b",
      "execution_count": null,
      "outputs": []
    },
    {
      "cell_type": "code",
      "metadata": {},
      "source": [
        "getlogin()"
      ],
      "id": "f00ba9e5",
      "execution_count": null,
      "outputs": []
    },
    {
      "cell_type": "code",
      "metadata": {},
      "source": [
        "getcwd()"
      ],
      "id": "938bfc2c",
      "execution_count": null,
      "outputs": []
    },
    {
      "cell_type": "markdown",
      "metadata": {},
      "source": [
        "## Timing using pure Python\n"
      ],
      "id": "20a9dd18"
    },
    {
      "cell_type": "code",
      "metadata": {},
      "source": [
        "from time import time\n",
        "\n",
        "start_time = time()\n",
        "\n",
        "counting = 0\n",
        "for i in range(1_000_000):\n",
        "    counting += 1\n",
        "\n",
        "end_time = time()\n",
        "\n",
        "elapsed = end_time - start_time\n",
        "print(f\"Elapsed time: {elapsed} secs\")"
      ],
      "id": "857a17f3",
      "execution_count": null,
      "outputs": []
    },
    {
      "cell_type": "markdown",
      "metadata": {},
      "source": [
        "## Data science packages\n",
        "\n",
        "![Common data science packages](python-data-science-packages.png)\n",
        "\n",
        "::: footer\n",
        "Source: Learnbay.co, [Python libraries for data analysis and modeling in Data science](https://medium.com/@learnbay/python-libraries-for-data-analysis-and-modeling-in-data-science-c5c994208385), Medium.\n",
        ":::\n",
        "\n",
        "## Importing using `as`\n",
        "\n",
        "::: columns\n",
        "::: column"
      ],
      "id": "886da9f1"
    },
    {
      "cell_type": "code",
      "metadata": {},
      "source": [
        "import pandas\n",
        "\n",
        "pandas.DataFrame(\n",
        "    {\n",
        "        \"x\": [1, 2, 3],\n",
        "        \"y\": [4, 5, 6],\n",
        "    }\n",
        ")"
      ],
      "id": "014473d6",
      "execution_count": null,
      "outputs": []
    },
    {
      "cell_type": "markdown",
      "metadata": {},
      "source": [
        ":::\n",
        "::: column"
      ],
      "id": "b4335591"
    },
    {
      "cell_type": "code",
      "metadata": {},
      "source": [
        "import pandas as pd\n",
        "\n",
        "pd.DataFrame(\n",
        "    {\n",
        "        \"x\": [1, 2, 3],\n",
        "        \"y\": [4, 5, 6],\n",
        "    }\n",
        ")"
      ],
      "id": "95553a0e",
      "execution_count": null,
      "outputs": []
    },
    {
      "cell_type": "markdown",
      "metadata": {},
      "source": [
        ":::\n",
        ":::\n",
        "\n",
        "\n",
        "\n",
        "## Importing from a subdirectory\n",
        "\n",
        "Want `keras.models.Sequential()`.\n"
      ],
      "id": "d6ad3f47"
    },
    {
      "cell_type": "code",
      "metadata": {},
      "source": [
        "#| output: false\n",
        "import keras\n",
        "\n",
        "model = keras.models.Sequential()"
      ],
      "id": "aca585ea",
      "execution_count": null,
      "outputs": []
    },
    {
      "cell_type": "markdown",
      "metadata": {},
      "source": [
        "Alternatives using `from`:\n"
      ],
      "id": "fe774fd0"
    },
    {
      "cell_type": "code",
      "metadata": {},
      "source": [
        "from keras import models\n",
        "\n",
        "model = models.Sequential()"
      ],
      "id": "0fd8117a",
      "execution_count": null,
      "outputs": []
    },
    {
      "cell_type": "code",
      "metadata": {},
      "source": [
        "from keras.models import Sequential\n",
        "\n",
        "model = Sequential()"
      ],
      "id": "c5c3d2fc",
      "execution_count": null,
      "outputs": []
    },
    {
      "cell_type": "markdown",
      "metadata": {},
      "source": [
        "# Lambda functions {visibility=\"uncounted\"}\n",
        "\n",
        "## Anonymous 'lambda' functions {auto-animate=\"true\"}\n",
        "\n",
        "Example: how to sort strings by their second letter?\n"
      ],
      "id": "6c783102"
    },
    {
      "cell_type": "code",
      "metadata": {},
      "source": [
        "names = [\"Josephine\", \"Patrick\", \"Bert\"]"
      ],
      "id": "eeff729a",
      "execution_count": null,
      "outputs": []
    },
    {
      "cell_type": "markdown",
      "metadata": {},
      "source": [
        "If you try `help(sorted)` you'll find the `key` parameter.\n"
      ],
      "id": "340592a9"
    },
    {
      "cell_type": "code",
      "metadata": {},
      "source": [
        "for name in names:\n",
        "    print(f\"The length of '{name}' is {len(name)}.\")"
      ],
      "id": "9582473a",
      "execution_count": null,
      "outputs": []
    },
    {
      "cell_type": "code",
      "metadata": {},
      "source": [
        "sorted(names, key=len)"
      ],
      "id": "36e7d1d0",
      "execution_count": null,
      "outputs": []
    },
    {
      "cell_type": "markdown",
      "metadata": {},
      "source": [
        "## Anonymous 'lambda' functions {auto-animate=\"true\"}\n",
        "\n",
        "Example: how to sort strings by their second letter?"
      ],
      "id": "af9a223f"
    },
    {
      "cell_type": "code",
      "metadata": {},
      "source": [
        "names = [\"Josephine\", \"Patrick\", \"Bert\"]"
      ],
      "id": "f17f6188",
      "execution_count": null,
      "outputs": []
    },
    {
      "cell_type": "markdown",
      "metadata": {},
      "source": [
        "If you try `help(sorted)` you'll find the `key` parameter.\n"
      ],
      "id": "ec5993a4"
    },
    {
      "cell_type": "code",
      "metadata": {},
      "source": [
        "def second_letter(name):\n",
        "    return name[1]"
      ],
      "id": "ed1cdf7c",
      "execution_count": null,
      "outputs": []
    },
    {
      "cell_type": "code",
      "metadata": {},
      "source": [
        "for name in names:\n",
        "    print(f\"The second letter of '{name}' is '{second_letter(name)}'.\")"
      ],
      "id": "aec18339",
      "execution_count": null,
      "outputs": []
    },
    {
      "cell_type": "code",
      "metadata": {},
      "source": [
        "sorted(names, key=second_letter)"
      ],
      "id": "ac181c0c",
      "execution_count": null,
      "outputs": []
    },
    {
      "cell_type": "markdown",
      "metadata": {},
      "source": [
        "## Anonymous 'lambda' functions {auto-animate=\"true\"}\n",
        "\n",
        "Example: how to sort strings by their second letter?"
      ],
      "id": "8d13582e"
    },
    {
      "cell_type": "code",
      "metadata": {},
      "source": [
        "names = [\"Josephine\", \"Patrick\", \"Bert\"]"
      ],
      "id": "15fa3fbf",
      "execution_count": null,
      "outputs": []
    },
    {
      "cell_type": "markdown",
      "metadata": {},
      "source": [
        "If you try `help(sorted)` you'll find the `key` parameter.\n"
      ],
      "id": "b6129e1f"
    },
    {
      "cell_type": "code",
      "metadata": {},
      "source": [
        "sorted(names, key=lambda name: name[1])"
      ],
      "id": "8c953427",
      "execution_count": null,
      "outputs": []
    },
    {
      "cell_type": "markdown",
      "metadata": {},
      "source": [
        "::: fragment\n",
        "\n",
        "::: callout-caution\n",
        "Don't use `lambda` as a variable name!\n",
        "You commonly see `lambd` or `lambda_` or `λ`.\n",
        ":::\n",
        "\n",
        ":::\n",
        "\n",
        "\n",
        "\n",
        "## with keyword\n",
        "\n",
        "Example, opening a file:\n",
        "\n",
        "::: columns\n",
        "::: column\n",
        "Most basic way is:\n"
      ],
      "id": "cc2d8e78"
    },
    {
      "cell_type": "code",
      "metadata": {},
      "source": [
        "f = open(\"haiku1.txt\", \"r\")\n",
        "print(f.read())\n",
        "f.close()"
      ],
      "id": "2feb9e99",
      "execution_count": null,
      "outputs": []
    },
    {
      "cell_type": "markdown",
      "metadata": {},
      "source": [
        ":::\n",
        "::: column\n",
        "Instead, use:\n"
      ],
      "id": "0f30cb9a"
    },
    {
      "cell_type": "code",
      "metadata": {},
      "source": [
        "with open(\"haiku2.txt\", \"r\") as f:\n",
        "    print(f.read())"
      ],
      "id": "cef9bd4c",
      "execution_count": null,
      "outputs": []
    },
    {
      "cell_type": "markdown",
      "metadata": {},
      "source": [
        ":::\n",
        ":::\n",
        "\n",
        "::: footer\n",
        "Haikus from http://www.libertybasicuniversity.com/lbnews/nl107/haiku.htm\n",
        ":::\n",
        "\n",
        "## Package Versions {.appendix data-visibility=\"uncounted\"}\n"
      ],
      "id": "f775604a"
    },
    {
      "cell_type": "code",
      "metadata": {},
      "source": [
        "from watermark import watermark\n",
        "print(watermark(python=True, packages=\"keras,matplotlib,numpy,pandas,seaborn,scipy,torch,tensorflow,tf_keras\"))"
      ],
      "id": "2553a478",
      "execution_count": null,
      "outputs": []
    },
    {
      "cell_type": "markdown",
      "metadata": {},
      "source": [
        "## Links {.appendix data-visibility=\"uncounted\"}\n",
        "\n",
        "If you came from C (i.e. are a joint computer science student), and were super interested in Python's internals, maybe you'd be interested in this [How variables work in Python](https://youtu.be/0Om2gYU6clE?si=fdy_YpWbvfti8ZoD) video.\n",
        "\n",
        "## Glossary {.appendix data-visibility=\"uncounted\"}\n",
        "\n",
        "::: columns\n",
        "::: column\n",
        "\n",
        "- default arguments\n",
        "- dictionaries\n",
        "- f-strings\n",
        "- function definitions\n",
        "- Google Colaboratory\n",
        "- `help`\n",
        "- list\n",
        "\n",
        ":::\n",
        "::: column\n",
        "\n",
        "- `pip install ...`\n",
        "- `range`\n",
        "- slicing\n",
        "- tuple\n",
        "- `type`\n",
        "- whitespace indentation\n",
        "- zero-indexing\n",
        "\n",
        ":::\n",
        ":::"
      ],
      "id": "aa886ad0"
    }
  ],
  "metadata": {
    "kernelspec": {
      "name": "python3",
      "language": "python",
      "display_name": "Python 3 (ipykernel)"
    }
  },
  "nbformat": 4,
  "nbformat_minor": 5
}